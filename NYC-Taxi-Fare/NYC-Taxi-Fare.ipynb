{
 "cells": [
  {
   "cell_type": "code",
   "execution_count": 1,
   "id": "4e4033b8",
   "metadata": {
    "_cell_guid": "b1076dfc-b9ad-4769-8c92-a6c4dae69d19",
    "_uuid": "8f2839f25d086af736a60e9eeb907d3b93b6e0e5",
    "execution": {
     "iopub.execute_input": "2022-08-10T19:35:21.894825Z",
     "iopub.status.busy": "2022-08-10T19:35:21.894378Z",
     "iopub.status.idle": "2022-08-10T19:35:23.389666Z",
     "shell.execute_reply": "2022-08-10T19:35:23.388179Z"
    },
    "papermill": {
     "duration": 1.5169,
     "end_time": "2022-08-10T19:35:23.392645",
     "exception": false,
     "start_time": "2022-08-10T19:35:21.875745",
     "status": "completed"
    },
    "tags": []
   },
   "outputs": [
    {
     "name": "stdout",
     "output_type": "stream",
     "text": [
      "/kaggle/input/new-york-city-taxi-fare-prediction/sample_submission.csv\n",
      "/kaggle/input/new-york-city-taxi-fare-prediction/GCP-Coupons-Instructions.rtf\n",
      "/kaggle/input/new-york-city-taxi-fare-prediction/train.csv\n",
      "/kaggle/input/new-york-city-taxi-fare-prediction/test.csv\n"
     ]
    }
   ],
   "source": [
    "# This Python 3 environment comes with many helpful analytics libraries installed\n",
    "# It is defined by the kaggle/python Docker image: https://github.com/kaggle/docker-python\n",
    "# For example, here's several helpful packages to load\n",
    "\n",
    "import numpy as np # linear algebra\n",
    "import pandas as pd # data processing, CSV file I/O (e.g. pd.read_csv)\n",
    "import matplotlib.pyplot as plt\n",
    "import seaborn as sns\n",
    "%matplotlib inline\n",
    "\n",
    "import xgboost as xgb\n",
    "from sklearn.metrics import mean_squared_error as mse\n",
    "from sklearn.model_selection import train_test_split\n",
    "\n",
    "from sklearn.pipeline import Pipeline\n",
    "from sklearn.preprocessing import StandardScaler\n",
    "\n",
    "# Input data files are available in the read-only \"../input/\" directory\n",
    "# For example, running this (by clicking run or pressing Shift+Enter) will list all files under the input directory\n",
    "\n",
    "import os\n",
    "for dirname, _, filenames in os.walk('/kaggle/input'):\n",
    "    for filename in filenames:\n",
    "        print(os.path.join(dirname, filename))\n",
    "\n",
    "# You can write up to 20GB to the current directory (/kaggle/working/) that gets preserved as output when you create a version using \"Save & Run All\" \n",
    "# You can also write temporary files to /kaggle/temp/, but they won't be saved outside of the current session"
   ]
  },
  {
   "cell_type": "code",
   "execution_count": 2,
   "id": "d29c0232",
   "metadata": {
    "execution": {
     "iopub.execute_input": "2022-08-10T19:35:23.431916Z",
     "iopub.status.busy": "2022-08-10T19:35:23.430742Z",
     "iopub.status.idle": "2022-08-10T19:35:53.402805Z",
     "shell.execute_reply": "2022-08-10T19:35:53.401791Z"
    },
    "papermill": {
     "duration": 29.991316,
     "end_time": "2022-08-10T19:35:53.405373",
     "exception": false,
     "start_time": "2022-08-10T19:35:23.414057",
     "status": "completed"
    },
    "tags": []
   },
   "outputs": [],
   "source": [
    "train_df =  pd.read_csv('../input/new-york-city-taxi-fare-prediction/train.csv', nrows = 10_000_000)\n"
   ]
  },
  {
   "cell_type": "code",
   "execution_count": 3,
   "id": "9d56df05",
   "metadata": {
    "execution": {
     "iopub.execute_input": "2022-08-10T19:35:53.437395Z",
     "iopub.status.busy": "2022-08-10T19:35:53.436560Z",
     "iopub.status.idle": "2022-08-10T19:35:53.471969Z",
     "shell.execute_reply": "2022-08-10T19:35:53.470681Z"
    },
    "papermill": {
     "duration": 0.054291,
     "end_time": "2022-08-10T19:35:53.474656",
     "exception": false,
     "start_time": "2022-08-10T19:35:53.420365",
     "status": "completed"
    },
    "tags": []
   },
   "outputs": [],
   "source": [
    "test_df = pd.read_csv('../input/new-york-city-taxi-fare-prediction/test.csv')"
   ]
  },
  {
   "cell_type": "markdown",
   "id": "8face02c",
   "metadata": {
    "papermill": {
     "duration": 0.014711,
     "end_time": "2022-08-10T19:35:53.504444",
     "exception": false,
     "start_time": "2022-08-10T19:35:53.489733",
     "status": "completed"
    },
    "tags": []
   },
   "source": [
    "#### We don't need key column for the training dataset"
   ]
  },
  {
   "cell_type": "code",
   "execution_count": 4,
   "id": "4a03810e",
   "metadata": {
    "execution": {
     "iopub.execute_input": "2022-08-10T19:35:53.535841Z",
     "iopub.status.busy": "2022-08-10T19:35:53.535442Z",
     "iopub.status.idle": "2022-08-10T19:35:54.140307Z",
     "shell.execute_reply": "2022-08-10T19:35:54.138993Z"
    },
    "papermill": {
     "duration": 0.623739,
     "end_time": "2022-08-10T19:35:54.143003",
     "exception": false,
     "start_time": "2022-08-10T19:35:53.519264",
     "status": "completed"
    },
    "tags": []
   },
   "outputs": [],
   "source": [
    "train_df.drop('key', axis=1, inplace=True)"
   ]
  },
  {
   "cell_type": "markdown",
   "id": "f26959de",
   "metadata": {
    "papermill": {
     "duration": 0.014475,
     "end_time": "2022-08-10T19:35:54.172337",
     "exception": false,
     "start_time": "2022-08-10T19:35:54.157862",
     "status": "completed"
    },
    "tags": []
   },
   "source": [
    "### View and explore the data, check if there are any null values or values that seem out of place"
   ]
  },
  {
   "cell_type": "code",
   "execution_count": 5,
   "id": "8851a913",
   "metadata": {
    "execution": {
     "iopub.execute_input": "2022-08-10T19:35:54.203660Z",
     "iopub.status.busy": "2022-08-10T19:35:54.203243Z",
     "iopub.status.idle": "2022-08-10T19:35:54.225405Z",
     "shell.execute_reply": "2022-08-10T19:35:54.224188Z"
    },
    "papermill": {
     "duration": 0.040679,
     "end_time": "2022-08-10T19:35:54.227834",
     "exception": false,
     "start_time": "2022-08-10T19:35:54.187155",
     "status": "completed"
    },
    "tags": []
   },
   "outputs": [
    {
     "data": {
      "text/html": [
       "<div>\n",
       "<style scoped>\n",
       "    .dataframe tbody tr th:only-of-type {\n",
       "        vertical-align: middle;\n",
       "    }\n",
       "\n",
       "    .dataframe tbody tr th {\n",
       "        vertical-align: top;\n",
       "    }\n",
       "\n",
       "    .dataframe thead th {\n",
       "        text-align: right;\n",
       "    }\n",
       "</style>\n",
       "<table border=\"1\" class=\"dataframe\">\n",
       "  <thead>\n",
       "    <tr style=\"text-align: right;\">\n",
       "      <th></th>\n",
       "      <th>fare_amount</th>\n",
       "      <th>pickup_datetime</th>\n",
       "      <th>pickup_longitude</th>\n",
       "      <th>pickup_latitude</th>\n",
       "      <th>dropoff_longitude</th>\n",
       "      <th>dropoff_latitude</th>\n",
       "      <th>passenger_count</th>\n",
       "    </tr>\n",
       "  </thead>\n",
       "  <tbody>\n",
       "    <tr>\n",
       "      <th>0</th>\n",
       "      <td>4.5</td>\n",
       "      <td>2009-06-15 17:26:21 UTC</td>\n",
       "      <td>-73.844311</td>\n",
       "      <td>40.721319</td>\n",
       "      <td>-73.841610</td>\n",
       "      <td>40.712278</td>\n",
       "      <td>1</td>\n",
       "    </tr>\n",
       "    <tr>\n",
       "      <th>1</th>\n",
       "      <td>16.9</td>\n",
       "      <td>2010-01-05 16:52:16 UTC</td>\n",
       "      <td>-74.016048</td>\n",
       "      <td>40.711303</td>\n",
       "      <td>-73.979268</td>\n",
       "      <td>40.782004</td>\n",
       "      <td>1</td>\n",
       "    </tr>\n",
       "    <tr>\n",
       "      <th>2</th>\n",
       "      <td>5.7</td>\n",
       "      <td>2011-08-18 00:35:00 UTC</td>\n",
       "      <td>-73.982738</td>\n",
       "      <td>40.761270</td>\n",
       "      <td>-73.991242</td>\n",
       "      <td>40.750562</td>\n",
       "      <td>2</td>\n",
       "    </tr>\n",
       "    <tr>\n",
       "      <th>3</th>\n",
       "      <td>7.7</td>\n",
       "      <td>2012-04-21 04:30:42 UTC</td>\n",
       "      <td>-73.987130</td>\n",
       "      <td>40.733143</td>\n",
       "      <td>-73.991567</td>\n",
       "      <td>40.758092</td>\n",
       "      <td>1</td>\n",
       "    </tr>\n",
       "    <tr>\n",
       "      <th>4</th>\n",
       "      <td>5.3</td>\n",
       "      <td>2010-03-09 07:51:00 UTC</td>\n",
       "      <td>-73.968095</td>\n",
       "      <td>40.768008</td>\n",
       "      <td>-73.956655</td>\n",
       "      <td>40.783762</td>\n",
       "      <td>1</td>\n",
       "    </tr>\n",
       "  </tbody>\n",
       "</table>\n",
       "</div>"
      ],
      "text/plain": [
       "   fare_amount          pickup_datetime  pickup_longitude  pickup_latitude  \\\n",
       "0          4.5  2009-06-15 17:26:21 UTC        -73.844311        40.721319   \n",
       "1         16.9  2010-01-05 16:52:16 UTC        -74.016048        40.711303   \n",
       "2          5.7  2011-08-18 00:35:00 UTC        -73.982738        40.761270   \n",
       "3          7.7  2012-04-21 04:30:42 UTC        -73.987130        40.733143   \n",
       "4          5.3  2010-03-09 07:51:00 UTC        -73.968095        40.768008   \n",
       "\n",
       "   dropoff_longitude  dropoff_latitude  passenger_count  \n",
       "0         -73.841610         40.712278                1  \n",
       "1         -73.979268         40.782004                1  \n",
       "2         -73.991242         40.750562                2  \n",
       "3         -73.991567         40.758092                1  \n",
       "4         -73.956655         40.783762                1  "
      ]
     },
     "execution_count": 5,
     "metadata": {},
     "output_type": "execute_result"
    }
   ],
   "source": [
    "train_df.head()\n"
   ]
  },
  {
   "cell_type": "code",
   "execution_count": 6,
   "id": "b7386cf6",
   "metadata": {
    "execution": {
     "iopub.execute_input": "2022-08-10T19:35:54.260154Z",
     "iopub.status.busy": "2022-08-10T19:35:54.259508Z",
     "iopub.status.idle": "2022-08-10T19:35:54.273092Z",
     "shell.execute_reply": "2022-08-10T19:35:54.271942Z"
    },
    "papermill": {
     "duration": 0.03234,
     "end_time": "2022-08-10T19:35:54.275246",
     "exception": false,
     "start_time": "2022-08-10T19:35:54.242906",
     "status": "completed"
    },
    "tags": []
   },
   "outputs": [
    {
     "data": {
      "text/html": [
       "<div>\n",
       "<style scoped>\n",
       "    .dataframe tbody tr th:only-of-type {\n",
       "        vertical-align: middle;\n",
       "    }\n",
       "\n",
       "    .dataframe tbody tr th {\n",
       "        vertical-align: top;\n",
       "    }\n",
       "\n",
       "    .dataframe thead th {\n",
       "        text-align: right;\n",
       "    }\n",
       "</style>\n",
       "<table border=\"1\" class=\"dataframe\">\n",
       "  <thead>\n",
       "    <tr style=\"text-align: right;\">\n",
       "      <th></th>\n",
       "      <th>key</th>\n",
       "      <th>pickup_datetime</th>\n",
       "      <th>pickup_longitude</th>\n",
       "      <th>pickup_latitude</th>\n",
       "      <th>dropoff_longitude</th>\n",
       "      <th>dropoff_latitude</th>\n",
       "      <th>passenger_count</th>\n",
       "    </tr>\n",
       "  </thead>\n",
       "  <tbody>\n",
       "    <tr>\n",
       "      <th>0</th>\n",
       "      <td>2015-01-27 13:08:24.0000002</td>\n",
       "      <td>2015-01-27 13:08:24 UTC</td>\n",
       "      <td>-73.973320</td>\n",
       "      <td>40.763805</td>\n",
       "      <td>-73.981430</td>\n",
       "      <td>40.743835</td>\n",
       "      <td>1</td>\n",
       "    </tr>\n",
       "    <tr>\n",
       "      <th>1</th>\n",
       "      <td>2015-01-27 13:08:24.0000003</td>\n",
       "      <td>2015-01-27 13:08:24 UTC</td>\n",
       "      <td>-73.986862</td>\n",
       "      <td>40.719383</td>\n",
       "      <td>-73.998886</td>\n",
       "      <td>40.739201</td>\n",
       "      <td>1</td>\n",
       "    </tr>\n",
       "    <tr>\n",
       "      <th>2</th>\n",
       "      <td>2011-10-08 11:53:44.0000002</td>\n",
       "      <td>2011-10-08 11:53:44 UTC</td>\n",
       "      <td>-73.982524</td>\n",
       "      <td>40.751260</td>\n",
       "      <td>-73.979654</td>\n",
       "      <td>40.746139</td>\n",
       "      <td>1</td>\n",
       "    </tr>\n",
       "    <tr>\n",
       "      <th>3</th>\n",
       "      <td>2012-12-01 21:12:12.0000002</td>\n",
       "      <td>2012-12-01 21:12:12 UTC</td>\n",
       "      <td>-73.981160</td>\n",
       "      <td>40.767807</td>\n",
       "      <td>-73.990448</td>\n",
       "      <td>40.751635</td>\n",
       "      <td>1</td>\n",
       "    </tr>\n",
       "    <tr>\n",
       "      <th>4</th>\n",
       "      <td>2012-12-01 21:12:12.0000003</td>\n",
       "      <td>2012-12-01 21:12:12 UTC</td>\n",
       "      <td>-73.966046</td>\n",
       "      <td>40.789775</td>\n",
       "      <td>-73.988565</td>\n",
       "      <td>40.744427</td>\n",
       "      <td>1</td>\n",
       "    </tr>\n",
       "  </tbody>\n",
       "</table>\n",
       "</div>"
      ],
      "text/plain": [
       "                           key          pickup_datetime  pickup_longitude  \\\n",
       "0  2015-01-27 13:08:24.0000002  2015-01-27 13:08:24 UTC        -73.973320   \n",
       "1  2015-01-27 13:08:24.0000003  2015-01-27 13:08:24 UTC        -73.986862   \n",
       "2  2011-10-08 11:53:44.0000002  2011-10-08 11:53:44 UTC        -73.982524   \n",
       "3  2012-12-01 21:12:12.0000002  2012-12-01 21:12:12 UTC        -73.981160   \n",
       "4  2012-12-01 21:12:12.0000003  2012-12-01 21:12:12 UTC        -73.966046   \n",
       "\n",
       "   pickup_latitude  dropoff_longitude  dropoff_latitude  passenger_count  \n",
       "0        40.763805         -73.981430         40.743835                1  \n",
       "1        40.719383         -73.998886         40.739201                1  \n",
       "2        40.751260         -73.979654         40.746139                1  \n",
       "3        40.767807         -73.990448         40.751635                1  \n",
       "4        40.789775         -73.988565         40.744427                1  "
      ]
     },
     "execution_count": 6,
     "metadata": {},
     "output_type": "execute_result"
    }
   ],
   "source": [
    "test_df.head()"
   ]
  },
  {
   "cell_type": "code",
   "execution_count": 7,
   "id": "d7abe801",
   "metadata": {
    "execution": {
     "iopub.execute_input": "2022-08-10T19:35:54.308174Z",
     "iopub.status.busy": "2022-08-10T19:35:54.307540Z",
     "iopub.status.idle": "2022-08-10T19:35:54.342781Z",
     "shell.execute_reply": "2022-08-10T19:35:54.341705Z"
    },
    "papermill": {
     "duration": 0.054609,
     "end_time": "2022-08-10T19:35:54.345172",
     "exception": false,
     "start_time": "2022-08-10T19:35:54.290563",
     "status": "completed"
    },
    "tags": []
   },
   "outputs": [
    {
     "data": {
      "text/html": [
       "<div>\n",
       "<style scoped>\n",
       "    .dataframe tbody tr th:only-of-type {\n",
       "        vertical-align: middle;\n",
       "    }\n",
       "\n",
       "    .dataframe tbody tr th {\n",
       "        vertical-align: top;\n",
       "    }\n",
       "\n",
       "    .dataframe thead th {\n",
       "        text-align: right;\n",
       "    }\n",
       "</style>\n",
       "<table border=\"1\" class=\"dataframe\">\n",
       "  <thead>\n",
       "    <tr style=\"text-align: right;\">\n",
       "      <th></th>\n",
       "      <th>pickup_longitude</th>\n",
       "      <th>pickup_latitude</th>\n",
       "      <th>dropoff_longitude</th>\n",
       "      <th>dropoff_latitude</th>\n",
       "      <th>passenger_count</th>\n",
       "    </tr>\n",
       "  </thead>\n",
       "  <tbody>\n",
       "    <tr>\n",
       "      <th>count</th>\n",
       "      <td>9914.000000</td>\n",
       "      <td>9914.000000</td>\n",
       "      <td>9914.000000</td>\n",
       "      <td>9914.000000</td>\n",
       "      <td>9914.000000</td>\n",
       "    </tr>\n",
       "    <tr>\n",
       "      <th>mean</th>\n",
       "      <td>-73.974722</td>\n",
       "      <td>40.751041</td>\n",
       "      <td>-73.973657</td>\n",
       "      <td>40.751743</td>\n",
       "      <td>1.671273</td>\n",
       "    </tr>\n",
       "    <tr>\n",
       "      <th>std</th>\n",
       "      <td>0.042774</td>\n",
       "      <td>0.033541</td>\n",
       "      <td>0.039072</td>\n",
       "      <td>0.035435</td>\n",
       "      <td>1.278747</td>\n",
       "    </tr>\n",
       "    <tr>\n",
       "      <th>min</th>\n",
       "      <td>-74.252193</td>\n",
       "      <td>40.573143</td>\n",
       "      <td>-74.263242</td>\n",
       "      <td>40.568973</td>\n",
       "      <td>1.000000</td>\n",
       "    </tr>\n",
       "    <tr>\n",
       "      <th>25%</th>\n",
       "      <td>-73.992501</td>\n",
       "      <td>40.736125</td>\n",
       "      <td>-73.991247</td>\n",
       "      <td>40.735254</td>\n",
       "      <td>1.000000</td>\n",
       "    </tr>\n",
       "    <tr>\n",
       "      <th>50%</th>\n",
       "      <td>-73.982326</td>\n",
       "      <td>40.753051</td>\n",
       "      <td>-73.980015</td>\n",
       "      <td>40.754065</td>\n",
       "      <td>1.000000</td>\n",
       "    </tr>\n",
       "    <tr>\n",
       "      <th>75%</th>\n",
       "      <td>-73.968013</td>\n",
       "      <td>40.767113</td>\n",
       "      <td>-73.964059</td>\n",
       "      <td>40.768757</td>\n",
       "      <td>2.000000</td>\n",
       "    </tr>\n",
       "    <tr>\n",
       "      <th>max</th>\n",
       "      <td>-72.986532</td>\n",
       "      <td>41.709555</td>\n",
       "      <td>-72.990963</td>\n",
       "      <td>41.696683</td>\n",
       "      <td>6.000000</td>\n",
       "    </tr>\n",
       "  </tbody>\n",
       "</table>\n",
       "</div>"
      ],
      "text/plain": [
       "       pickup_longitude  pickup_latitude  dropoff_longitude  dropoff_latitude  \\\n",
       "count       9914.000000      9914.000000        9914.000000       9914.000000   \n",
       "mean         -73.974722        40.751041         -73.973657         40.751743   \n",
       "std            0.042774         0.033541           0.039072          0.035435   \n",
       "min          -74.252193        40.573143         -74.263242         40.568973   \n",
       "25%          -73.992501        40.736125         -73.991247         40.735254   \n",
       "50%          -73.982326        40.753051         -73.980015         40.754065   \n",
       "75%          -73.968013        40.767113         -73.964059         40.768757   \n",
       "max          -72.986532        41.709555         -72.990963         41.696683   \n",
       "\n",
       "       passenger_count  \n",
       "count      9914.000000  \n",
       "mean          1.671273  \n",
       "std           1.278747  \n",
       "min           1.000000  \n",
       "25%           1.000000  \n",
       "50%           1.000000  \n",
       "75%           2.000000  \n",
       "max           6.000000  "
      ]
     },
     "execution_count": 7,
     "metadata": {},
     "output_type": "execute_result"
    }
   ],
   "source": [
    "test_df.describe()"
   ]
  },
  {
   "cell_type": "code",
   "execution_count": 8,
   "id": "77a05d8b",
   "metadata": {
    "execution": {
     "iopub.execute_input": "2022-08-10T19:35:54.378262Z",
     "iopub.status.busy": "2022-08-10T19:35:54.377487Z",
     "iopub.status.idle": "2022-08-10T19:35:54.384893Z",
     "shell.execute_reply": "2022-08-10T19:35:54.384169Z"
    },
    "papermill": {
     "duration": 0.025994,
     "end_time": "2022-08-10T19:35:54.386800",
     "exception": false,
     "start_time": "2022-08-10T19:35:54.360806",
     "status": "completed"
    },
    "tags": []
   },
   "outputs": [
    {
     "data": {
      "text/plain": [
       "fare_amount          float64\n",
       "pickup_datetime       object\n",
       "pickup_longitude     float64\n",
       "pickup_latitude      float64\n",
       "dropoff_longitude    float64\n",
       "dropoff_latitude     float64\n",
       "passenger_count        int64\n",
       "dtype: object"
      ]
     },
     "execution_count": 8,
     "metadata": {},
     "output_type": "execute_result"
    }
   ],
   "source": [
    "train_df.dtypes"
   ]
  },
  {
   "cell_type": "code",
   "execution_count": 9,
   "id": "1be27b3e",
   "metadata": {
    "execution": {
     "iopub.execute_input": "2022-08-10T19:35:54.420252Z",
     "iopub.status.busy": "2022-08-10T19:35:54.419401Z",
     "iopub.status.idle": "2022-08-10T19:35:54.955790Z",
     "shell.execute_reply": "2022-08-10T19:35:54.954689Z"
    },
    "papermill": {
     "duration": 0.555841,
     "end_time": "2022-08-10T19:35:54.958405",
     "exception": false,
     "start_time": "2022-08-10T19:35:54.402564",
     "status": "completed"
    },
    "tags": []
   },
   "outputs": [
    {
     "data": {
      "text/plain": [
       "fare_amount           0\n",
       "pickup_datetime       0\n",
       "pickup_longitude      0\n",
       "pickup_latitude       0\n",
       "dropoff_longitude    69\n",
       "dropoff_latitude     69\n",
       "passenger_count       0\n",
       "dtype: int64"
      ]
     },
     "execution_count": 9,
     "metadata": {},
     "output_type": "execute_result"
    }
   ],
   "source": [
    "train_df.isna().sum()"
   ]
  },
  {
   "cell_type": "code",
   "execution_count": 10,
   "id": "e61efbc2",
   "metadata": {
    "execution": {
     "iopub.execute_input": "2022-08-10T19:35:54.993159Z",
     "iopub.status.busy": "2022-08-10T19:35:54.992504Z",
     "iopub.status.idle": "2022-08-10T19:35:57.960824Z",
     "shell.execute_reply": "2022-08-10T19:35:57.959493Z"
    },
    "papermill": {
     "duration": 2.988705,
     "end_time": "2022-08-10T19:35:57.963349",
     "exception": false,
     "start_time": "2022-08-10T19:35:54.974644",
     "status": "completed"
    },
    "tags": []
   },
   "outputs": [
    {
     "data": {
      "text/html": [
       "<div>\n",
       "<style scoped>\n",
       "    .dataframe tbody tr th:only-of-type {\n",
       "        vertical-align: middle;\n",
       "    }\n",
       "\n",
       "    .dataframe tbody tr th {\n",
       "        vertical-align: top;\n",
       "    }\n",
       "\n",
       "    .dataframe thead th {\n",
       "        text-align: right;\n",
       "    }\n",
       "</style>\n",
       "<table border=\"1\" class=\"dataframe\">\n",
       "  <thead>\n",
       "    <tr style=\"text-align: right;\">\n",
       "      <th></th>\n",
       "      <th>fare_amount</th>\n",
       "      <th>pickup_longitude</th>\n",
       "      <th>pickup_latitude</th>\n",
       "      <th>dropoff_longitude</th>\n",
       "      <th>dropoff_latitude</th>\n",
       "      <th>passenger_count</th>\n",
       "    </tr>\n",
       "  </thead>\n",
       "  <tbody>\n",
       "    <tr>\n",
       "      <th>count</th>\n",
       "      <td>10000000.00000</td>\n",
       "      <td>10000000.00000</td>\n",
       "      <td>10000000.00000</td>\n",
       "      <td>9999931.00000</td>\n",
       "      <td>9999931.00000</td>\n",
       "      <td>10000000.00000</td>\n",
       "    </tr>\n",
       "    <tr>\n",
       "      <th>mean</th>\n",
       "      <td>11.33854</td>\n",
       "      <td>-72.50775</td>\n",
       "      <td>39.91934</td>\n",
       "      <td>-72.50897</td>\n",
       "      <td>39.91913</td>\n",
       "      <td>1.68479</td>\n",
       "    </tr>\n",
       "    <tr>\n",
       "      <th>std</th>\n",
       "      <td>9.79993</td>\n",
       "      <td>12.99421</td>\n",
       "      <td>9.32254</td>\n",
       "      <td>12.87532</td>\n",
       "      <td>9.23728</td>\n",
       "      <td>1.32342</td>\n",
       "    </tr>\n",
       "    <tr>\n",
       "      <th>min</th>\n",
       "      <td>-107.75000</td>\n",
       "      <td>-3439.24506</td>\n",
       "      <td>-3492.26377</td>\n",
       "      <td>-3426.60062</td>\n",
       "      <td>-3488.07951</td>\n",
       "      <td>0.00000</td>\n",
       "    </tr>\n",
       "    <tr>\n",
       "      <th>25%</th>\n",
       "      <td>6.00000</td>\n",
       "      <td>-73.99207</td>\n",
       "      <td>40.73491</td>\n",
       "      <td>-73.99139</td>\n",
       "      <td>40.73403</td>\n",
       "      <td>1.00000</td>\n",
       "    </tr>\n",
       "    <tr>\n",
       "      <th>50%</th>\n",
       "      <td>8.50000</td>\n",
       "      <td>-73.98181</td>\n",
       "      <td>40.75263</td>\n",
       "      <td>-73.98015</td>\n",
       "      <td>40.75316</td>\n",
       "      <td>1.00000</td>\n",
       "    </tr>\n",
       "    <tr>\n",
       "      <th>75%</th>\n",
       "      <td>12.50000</td>\n",
       "      <td>-73.96710</td>\n",
       "      <td>40.76712</td>\n",
       "      <td>-73.96367</td>\n",
       "      <td>40.76810</td>\n",
       "      <td>2.00000</td>\n",
       "    </tr>\n",
       "    <tr>\n",
       "      <th>max</th>\n",
       "      <td>1273.31000</td>\n",
       "      <td>3457.62568</td>\n",
       "      <td>3344.45927</td>\n",
       "      <td>3457.62235</td>\n",
       "      <td>3351.40303</td>\n",
       "      <td>208.00000</td>\n",
       "    </tr>\n",
       "  </tbody>\n",
       "</table>\n",
       "</div>"
      ],
      "text/plain": [
       "         fare_amount  pickup_longitude  pickup_latitude  dropoff_longitude  \\\n",
       "count 10000000.00000    10000000.00000   10000000.00000      9999931.00000   \n",
       "mean        11.33854         -72.50775         39.91934          -72.50897   \n",
       "std          9.79993          12.99421          9.32254           12.87532   \n",
       "min       -107.75000       -3439.24506      -3492.26377        -3426.60062   \n",
       "25%          6.00000         -73.99207         40.73491          -73.99139   \n",
       "50%          8.50000         -73.98181         40.75263          -73.98015   \n",
       "75%         12.50000         -73.96710         40.76712          -73.96367   \n",
       "max       1273.31000        3457.62568       3344.45927         3457.62235   \n",
       "\n",
       "       dropoff_latitude  passenger_count  \n",
       "count     9999931.00000   10000000.00000  \n",
       "mean           39.91913          1.68479  \n",
       "std             9.23728          1.32342  \n",
       "min         -3488.07951          0.00000  \n",
       "25%            40.73403          1.00000  \n",
       "50%            40.75316          1.00000  \n",
       "75%            40.76810          2.00000  \n",
       "max          3351.40303        208.00000  "
      ]
     },
     "execution_count": 10,
     "metadata": {},
     "output_type": "execute_result"
    }
   ],
   "source": [
    "pd.set_option('display.float_format', lambda x: '%.5f' % x)\n",
    "train_df.describe()"
   ]
  },
  {
   "cell_type": "markdown",
   "id": "76dbbe4f",
   "metadata": {
    "papermill": {
     "duration": 0.016172,
     "end_time": "2022-08-10T19:35:57.996261",
     "exception": false,
     "start_time": "2022-08-10T19:35:57.980089",
     "status": "completed"
    },
    "tags": []
   },
   "source": [
    "#### We can see that the minimum fare amount is negative, which can't be correct.\n",
    "#### Also, the longitudes and latitudes have to be in between [-180, 180] and [-90, 90] respectively.\n",
    "#### Let's see how many of the values are incorrect."
   ]
  },
  {
   "cell_type": "code",
   "execution_count": 11,
   "id": "57f4494a",
   "metadata": {
    "execution": {
     "iopub.execute_input": "2022-08-10T19:35:58.031250Z",
     "iopub.status.busy": "2022-08-10T19:35:58.030720Z",
     "iopub.status.idle": "2022-08-10T19:35:58.058263Z",
     "shell.execute_reply": "2022-08-10T19:35:58.057455Z"
    },
    "papermill": {
     "duration": 0.047949,
     "end_time": "2022-08-10T19:35:58.060521",
     "exception": false,
     "start_time": "2022-08-10T19:35:58.012572",
     "status": "completed"
    },
    "tags": []
   },
   "outputs": [
    {
     "data": {
      "text/plain": [
       "420"
      ]
     },
     "execution_count": 11,
     "metadata": {},
     "output_type": "execute_result"
    }
   ],
   "source": [
    "(train_df['fare_amount'] < 0).sum()"
   ]
  },
  {
   "cell_type": "code",
   "execution_count": 12,
   "id": "52fe1bf3",
   "metadata": {
    "execution": {
     "iopub.execute_input": "2022-08-10T19:35:58.096411Z",
     "iopub.status.busy": "2022-08-10T19:35:58.095691Z",
     "iopub.status.idle": "2022-08-10T19:35:58.142357Z",
     "shell.execute_reply": "2022-08-10T19:35:58.141194Z"
    },
    "papermill": {
     "duration": 0.067875,
     "end_time": "2022-08-10T19:35:58.144952",
     "exception": false,
     "start_time": "2022-08-10T19:35:58.077077",
     "status": "completed"
    },
    "tags": []
   },
   "outputs": [
    {
     "data": {
      "text/plain": [
       "218"
      ]
     },
     "execution_count": 12,
     "metadata": {},
     "output_type": "execute_result"
    }
   ],
   "source": [
    "((train_df['pickup_longitude'] < -180) | (train_df['pickup_longitude'] > 180)).sum()"
   ]
  },
  {
   "cell_type": "code",
   "execution_count": 13,
   "id": "c2e1811d",
   "metadata": {
    "execution": {
     "iopub.execute_input": "2022-08-10T19:35:58.181362Z",
     "iopub.status.busy": "2022-08-10T19:35:58.180291Z",
     "iopub.status.idle": "2022-08-10T19:35:58.225374Z",
     "shell.execute_reply": "2022-08-10T19:35:58.224511Z"
    },
    "papermill": {
     "duration": 0.065523,
     "end_time": "2022-08-10T19:35:58.227710",
     "exception": false,
     "start_time": "2022-08-10T19:35:58.162187",
     "status": "completed"
    },
    "tags": []
   },
   "outputs": [
    {
     "data": {
      "text/plain": [
       "174"
      ]
     },
     "execution_count": 13,
     "metadata": {},
     "output_type": "execute_result"
    }
   ],
   "source": [
    "((train_df['pickup_latitude'] < -90) | (train_df['pickup_latitude'] > 90)).sum()"
   ]
  },
  {
   "cell_type": "markdown",
   "id": "c656d356",
   "metadata": {
    "papermill": {
     "duration": 0.016445,
     "end_time": "2022-08-10T19:35:58.261223",
     "exception": false,
     "start_time": "2022-08-10T19:35:58.244778",
     "status": "completed"
    },
    "tags": []
   },
   "source": [
    "#### We also have to check that the passenger count is between 1 and 6"
   ]
  },
  {
   "cell_type": "code",
   "execution_count": 14,
   "id": "607b3b13",
   "metadata": {
    "execution": {
     "iopub.execute_input": "2022-08-10T19:35:58.296989Z",
     "iopub.status.busy": "2022-08-10T19:35:58.296248Z",
     "iopub.status.idle": "2022-08-10T19:35:58.333366Z",
     "shell.execute_reply": "2022-08-10T19:35:58.332428Z"
    },
    "papermill": {
     "duration": 0.057542,
     "end_time": "2022-08-10T19:35:58.335620",
     "exception": false,
     "start_time": "2022-08-10T19:35:58.278078",
     "status": "completed"
    },
    "tags": []
   },
   "outputs": [
    {
     "data": {
      "text/plain": [
       "35349"
      ]
     },
     "execution_count": 14,
     "metadata": {},
     "output_type": "execute_result"
    }
   ],
   "source": [
    "((train_df['passenger_count'] == 0) | (train_df['passenger_count'] > 6)).sum()"
   ]
  },
  {
   "cell_type": "code",
   "execution_count": 15,
   "id": "0885e77a",
   "metadata": {
    "execution": {
     "iopub.execute_input": "2022-08-10T19:35:58.371813Z",
     "iopub.status.busy": "2022-08-10T19:35:58.371112Z",
     "iopub.status.idle": "2022-08-10T19:35:58.394838Z",
     "shell.execute_reply": "2022-08-10T19:35:58.394015Z"
    },
    "papermill": {
     "duration": 0.044277,
     "end_time": "2022-08-10T19:35:58.396904",
     "exception": false,
     "start_time": "2022-08-10T19:35:58.352627",
     "status": "completed"
    },
    "tags": []
   },
   "outputs": [
    {
     "data": {
      "text/plain": [
       "17"
      ]
     },
     "execution_count": 15,
     "metadata": {},
     "output_type": "execute_result"
    }
   ],
   "source": [
    "(train_df['passenger_count'] > 6).sum()"
   ]
  },
  {
   "cell_type": "markdown",
   "id": "ebed2c7c",
   "metadata": {
    "papermill": {
     "duration": 0.018021,
     "end_time": "2022-08-10T19:35:58.432125",
     "exception": false,
     "start_time": "2022-08-10T19:35:58.414104",
     "status": "completed"
    },
    "tags": []
   },
   "source": [
    "### There are quite a few entries with passenger count equal to 0, let's check if the test set contains any entries with 0 passenger count."
   ]
  },
  {
   "cell_type": "code",
   "execution_count": 16,
   "id": "1c5f9997",
   "metadata": {
    "execution": {
     "iopub.execute_input": "2022-08-10T19:35:58.470222Z",
     "iopub.status.busy": "2022-08-10T19:35:58.469532Z",
     "iopub.status.idle": "2022-08-10T19:35:58.495832Z",
     "shell.execute_reply": "2022-08-10T19:35:58.494921Z"
    },
    "papermill": {
     "duration": 0.048181,
     "end_time": "2022-08-10T19:35:58.498955",
     "exception": false,
     "start_time": "2022-08-10T19:35:58.450774",
     "status": "completed"
    },
    "tags": []
   },
   "outputs": [
    {
     "name": "stdout",
     "output_type": "stream",
     "text": [
      "Train Passenger count equals 0:  35332\n",
      "Test Passenger count equals 0:  0\n"
     ]
    }
   ],
   "source": [
    "print(\"Train Passenger count equals 0: \", (train_df['passenger_count'] == 0).sum())\n",
    "print(\"Test Passenger count equals 0: \", (test_df['passenger_count'] == 0).sum())"
   ]
  },
  {
   "cell_type": "markdown",
   "id": "4078e4cd",
   "metadata": {
    "papermill": {
     "duration": 0.017249,
     "end_time": "2022-08-10T19:35:58.533745",
     "exception": false,
     "start_time": "2022-08-10T19:35:58.516496",
     "status": "completed"
    },
    "tags": []
   },
   "source": [
    "### Seeing as there are no entries in the test set with passenger count equal to 0, I'll drop them from the train set in clean_df method below"
   ]
  },
  {
   "cell_type": "markdown",
   "id": "c0a97c9f",
   "metadata": {
    "papermill": {
     "duration": 0.017031,
     "end_time": "2022-08-10T19:35:58.568228",
     "exception": false,
     "start_time": "2022-08-10T19:35:58.551197",
     "status": "completed"
    },
    "tags": []
   },
   "source": [
    "### Let's explore some of the data visually"
   ]
  },
  {
   "cell_type": "markdown",
   "id": "090c417f",
   "metadata": {
    "papermill": {
     "duration": 0.017012,
     "end_time": "2022-08-10T19:35:58.602596",
     "exception": false,
     "start_time": "2022-08-10T19:35:58.585584",
     "status": "completed"
    },
    "tags": []
   },
   "source": [
    "#### Check to see how the fare is distributed"
   ]
  },
  {
   "cell_type": "code",
   "execution_count": 17,
   "id": "3125bb22",
   "metadata": {
    "execution": {
     "iopub.execute_input": "2022-08-10T19:35:58.639115Z",
     "iopub.status.busy": "2022-08-10T19:35:58.638683Z",
     "iopub.status.idle": "2022-08-10T19:36:45.318747Z",
     "shell.execute_reply": "2022-08-10T19:36:45.317438Z"
    },
    "papermill": {
     "duration": 46.71926,
     "end_time": "2022-08-10T19:36:45.339345",
     "exception": false,
     "start_time": "2022-08-10T19:35:58.620085",
     "status": "completed"
    },
    "tags": []
   },
   "outputs": [
    {
     "data": {
      "image/png": "[encoded data removed]",
      "text/plain": [
       "<Figure size 720x432 with 1 Axes>"
      ]
     },
     "metadata": {
      "needs_background": "light"
     },
     "output_type": "display_data"
    }
   ],
   "source": [
    "plt.figure(figsize=(10, 6))\n",
    "sns.histplot(train_df['fare_amount']);\n",
    "plt.title('Distribution of Fare Amount');"
   ]
  },
  {
   "cell_type": "markdown",
   "id": "b9b6b131",
   "metadata": {
    "papermill": {
     "duration": 0.017461,
     "end_time": "2022-08-10T19:36:45.374593",
     "exception": false,
     "start_time": "2022-08-10T19:36:45.357132",
     "status": "completed"
    },
    "tags": []
   },
   "source": [
    "#### As the fare amounts over 200 are extremely rare, we can drop them as outliers"
   ]
  },
  {
   "cell_type": "markdown",
   "id": "bbaf061d",
   "metadata": {
    "papermill": {
     "duration": 0.017429,
     "end_time": "2022-08-10T19:36:45.409931",
     "exception": false,
     "start_time": "2022-08-10T19:36:45.392502",
     "status": "completed"
    },
    "tags": []
   },
   "source": [
    "### We can see that only a small amount of values are labeled incorrectly, removing them from this huge dataset should have no impact."
   ]
  },
  {
   "cell_type": "code",
   "execution_count": 18,
   "id": "41d70088",
   "metadata": {
    "execution": {
     "iopub.execute_input": "2022-08-10T19:36:45.447270Z",
     "iopub.status.busy": "2022-08-10T19:36:45.446877Z",
     "iopub.status.idle": "2022-08-10T19:36:45.451204Z",
     "shell.execute_reply": "2022-08-10T19:36:45.450330Z"
    },
    "papermill": {
     "duration": 0.025721,
     "end_time": "2022-08-10T19:36:45.453383",
     "exception": false,
     "start_time": "2022-08-10T19:36:45.427662",
     "status": "completed"
    },
    "tags": []
   },
   "outputs": [],
   "source": [
    "# def clean_df(df):\n",
    "#     new_df = df[\n",
    "#         ((df.fare_amount > 0) & (df['fare_amount'] <= 200)) &\n",
    "#         ((df['pickup_longitude'] >= -180) & (df['pickup_longitude'] <= 180)) &  \n",
    "#         ((df['pickup_latitude'] >= -90) & (df['pickup_latitude'] <= 90)) &\n",
    "#         ((df['passenger_count'] > 0) & (df['passenger_count'] <= 6))\n",
    "#     ]\n",
    "    \n",
    "#     return new_df"
   ]
  },
  {
   "cell_type": "markdown",
   "id": "8b8373fb",
   "metadata": {
    "papermill": {
     "duration": 0.017888,
     "end_time": "2022-08-10T19:36:45.489626",
     "exception": false,
     "start_time": "2022-08-10T19:36:45.471738",
     "status": "completed"
    },
    "tags": []
   },
   "source": [
    "### I initally started with the dataframe cleaning method above, however adding in stricter restrictions to longitude and latitude had a significant improvement for the model\n",
    "### NYC longitude and latitude are (40.7, 70), so I limited the entries to be near the NYC."
   ]
  },
  {
   "cell_type": "code",
   "execution_count": 19,
   "id": "ee7ccebb",
   "metadata": {
    "execution": {
     "iopub.execute_input": "2022-08-10T19:36:45.527537Z",
     "iopub.status.busy": "2022-08-10T19:36:45.527148Z",
     "iopub.status.idle": "2022-08-10T19:36:45.534772Z",
     "shell.execute_reply": "2022-08-10T19:36:45.533555Z"
    },
    "papermill": {
     "duration": 0.029686,
     "end_time": "2022-08-10T19:36:45.537348",
     "exception": false,
     "start_time": "2022-08-10T19:36:45.507662",
     "status": "completed"
    },
    "tags": []
   },
   "outputs": [],
   "source": [
    "def clean_df(df):\n",
    "    new_df = df[\n",
    "        ((df['fare_amount'] > 0) & (df['fare_amount'] <= 200)) &\n",
    "        ((df['pickup_longitude'] > -75) & (df['pickup_longitude'] < -73)) &  \n",
    "        ((df['pickup_latitude'] > 40) & (df['pickup_latitude'] < 42)) &\n",
    "        ((df['dropoff_longitude'] > -75) & (df['dropoff_longitude'] < -73)) &\n",
    "        ((df['dropoff_latitude'] > 40 & (df['dropoff_latitude'] < 42))) &\n",
    "        ((df['passenger_count'] > 0) & (df['passenger_count'] <= 6))\n",
    "    ]\n",
    "    \n",
    "    return new_df"
   ]
  },
  {
   "cell_type": "markdown",
   "id": "07f84b63",
   "metadata": {
    "papermill": {
     "duration": 0.01741,
     "end_time": "2022-08-10T19:36:45.572658",
     "exception": false,
     "start_time": "2022-08-10T19:36:45.555248",
     "status": "completed"
    },
    "tags": []
   },
   "source": [
    "### Here's the visualization of pickup coordinates before and after doing the data cleaning.\n",
    "### As is visible, before cleaning the data contains lots of absurd values.\n",
    "### Restricting the coordinates helps the model to learn"
   ]
  },
  {
   "cell_type": "code",
   "execution_count": 20,
   "id": "b4043e18",
   "metadata": {
    "execution": {
     "iopub.execute_input": "2022-08-10T19:36:45.609858Z",
     "iopub.status.busy": "2022-08-10T19:36:45.609457Z",
     "iopub.status.idle": "2022-08-10T19:37:03.256992Z",
     "shell.execute_reply": "2022-08-10T19:37:03.255730Z"
    },
    "papermill": {
     "duration": 17.669147,
     "end_time": "2022-08-10T19:37:03.259545",
     "exception": false,
     "start_time": "2022-08-10T19:36:45.590398",
     "status": "completed"
    },
    "tags": []
   },
   "outputs": [
    {
     "data": {
      "text/plain": [
       "<AxesSubplot:xlabel='pickup_longitude', ylabel='pickup_latitude'>"
      ]
     },
     "execution_count": 20,
     "metadata": {},
     "output_type": "execute_result"
    },
    {
     "data": {
      "image/png": "[encoded data removed]",
      "text/plain": [
       "<Figure size 864x576 with 1 Axes>"
      ]
     },
     "metadata": {
      "needs_background": "light"
     },
     "output_type": "display_data"
    }
   ],
   "source": [
    "plt.figure(figsize=(12,8))\n",
    "sns.scatterplot(x=train_df['pickup_longitude'], y=train_df['pickup_latitude'])"
   ]
  },
  {
   "cell_type": "code",
   "execution_count": 21,
   "id": "721f2326",
   "metadata": {
    "execution": {
     "iopub.execute_input": "2022-08-10T19:37:03.298289Z",
     "iopub.status.busy": "2022-08-10T19:37:03.297868Z",
     "iopub.status.idle": "2022-08-10T19:37:04.062147Z",
     "shell.execute_reply": "2022-08-10T19:37:04.060915Z"
    },
    "papermill": {
     "duration": 0.786783,
     "end_time": "2022-08-10T19:37:04.064920",
     "exception": false,
     "start_time": "2022-08-10T19:37:03.278137",
     "status": "completed"
    },
    "tags": []
   },
   "outputs": [
    {
     "name": "stdout",
     "output_type": "stream",
     "text": [
      "Before: 10000000\n",
      "After: 9754583\n"
     ]
    }
   ],
   "source": [
    "print(\"Before:\", len(train_df))\n",
    "train_df = clean_df(train_df)\n",
    "print(\"After:\", len(train_df))\n"
   ]
  },
  {
   "cell_type": "code",
   "execution_count": 22,
   "id": "572236a3",
   "metadata": {
    "execution": {
     "iopub.execute_input": "2022-08-10T19:37:04.104416Z",
     "iopub.status.busy": "2022-08-10T19:37:04.103979Z",
     "iopub.status.idle": "2022-08-10T19:37:21.406500Z",
     "shell.execute_reply": "2022-08-10T19:37:21.405302Z"
    },
    "papermill": {
     "duration": 17.325558,
     "end_time": "2022-08-10T19:37:21.409493",
     "exception": false,
     "start_time": "2022-08-10T19:37:04.083935",
     "status": "completed"
    },
    "tags": []
   },
   "outputs": [
    {
     "data": {
      "text/plain": [
       "<AxesSubplot:xlabel='pickup_longitude', ylabel='pickup_latitude'>"
      ]
     },
     "execution_count": 22,
     "metadata": {},
     "output_type": "execute_result"
    },
    {
     "data": {
      "image/png": "[encoded data removed]",
      "text/plain": [
       "<Figure size 864x576 with 1 Axes>"
      ]
     },
     "metadata": {
      "needs_background": "light"
     },
     "output_type": "display_data"
    }
   ],
   "source": [
    "plt.figure(figsize=(12,8))\n",
    "sns.scatterplot(x=train_df['pickup_longitude'], y=train_df['pickup_latitude'])"
   ]
  },
  {
   "cell_type": "markdown",
   "id": "d4efb95c",
   "metadata": {
    "papermill": {
     "duration": 0.021031,
     "end_time": "2022-08-10T19:37:21.452981",
     "exception": false,
     "start_time": "2022-08-10T19:37:21.431950",
     "status": "completed"
    },
    "tags": []
   },
   "source": [
    "#### Check to see if there's correlation between the number of passengers and the fare amount"
   ]
  },
  {
   "cell_type": "code",
   "execution_count": 23,
   "id": "3ee6c30d",
   "metadata": {
    "execution": {
     "iopub.execute_input": "2022-08-10T19:37:21.497941Z",
     "iopub.status.busy": "2022-08-10T19:37:21.497352Z",
     "iopub.status.idle": "2022-08-10T19:37:38.975563Z",
     "shell.execute_reply": "2022-08-10T19:37:38.974682Z"
    },
    "papermill": {
     "duration": 17.503356,
     "end_time": "2022-08-10T19:37:38.977880",
     "exception": false,
     "start_time": "2022-08-10T19:37:21.474524",
     "status": "completed"
    },
    "tags": []
   },
   "outputs": [
    {
     "data": {
      "text/plain": [
       "Text(0, 0.5, 'Fare Amount')"
      ]
     },
     "execution_count": 23,
     "metadata": {},
     "output_type": "execute_result"
    },
    {
     "data": {
      "image/png": "[encoded data removed]",
      "text/plain": [
       "<Figure size 720x432 with 1 Axes>"
      ]
     },
     "metadata": {
      "needs_background": "light"
     },
     "output_type": "display_data"
    }
   ],
   "source": [
    "plt.figure(figsize=(10, 6))\n",
    "sns.scatterplot(x=train_df['passenger_count'], y=train_df['fare_amount'])\n",
    "plt.xlabel('Number of Passengers')\n",
    "plt.ylabel('Fare Amount')"
   ]
  },
  {
   "cell_type": "markdown",
   "id": "72e8120d",
   "metadata": {
    "papermill": {
     "duration": 0.022,
     "end_time": "2022-08-10T19:37:39.022317",
     "exception": false,
     "start_time": "2022-08-10T19:37:39.000317",
     "status": "completed"
    },
    "tags": []
   },
   "source": [
    "#### The fare amount seems to decrease with the increased number of passengers "
   ]
  },
  {
   "cell_type": "code",
   "execution_count": 24,
   "id": "d3602c00",
   "metadata": {
    "execution": {
     "iopub.execute_input": "2022-08-10T19:37:39.069244Z",
     "iopub.status.busy": "2022-08-10T19:37:39.068561Z",
     "iopub.status.idle": "2022-08-10T19:37:42.001022Z",
     "shell.execute_reply": "2022-08-10T19:37:41.999807Z"
    },
    "papermill": {
     "duration": 2.958544,
     "end_time": "2022-08-10T19:37:42.003716",
     "exception": false,
     "start_time": "2022-08-10T19:37:39.045172",
     "status": "completed"
    },
    "tags": []
   },
   "outputs": [
    {
     "data": {
      "text/html": [
       "<div>\n",
       "<style scoped>\n",
       "    .dataframe tbody tr th:only-of-type {\n",
       "        vertical-align: middle;\n",
       "    }\n",
       "\n",
       "    .dataframe tbody tr th {\n",
       "        vertical-align: top;\n",
       "    }\n",
       "\n",
       "    .dataframe thead th {\n",
       "        text-align: right;\n",
       "    }\n",
       "</style>\n",
       "<table border=\"1\" class=\"dataframe\">\n",
       "  <thead>\n",
       "    <tr style=\"text-align: right;\">\n",
       "      <th></th>\n",
       "      <th>fare_amount</th>\n",
       "      <th>pickup_longitude</th>\n",
       "      <th>pickup_latitude</th>\n",
       "      <th>dropoff_longitude</th>\n",
       "      <th>dropoff_latitude</th>\n",
       "      <th>passenger_count</th>\n",
       "    </tr>\n",
       "  </thead>\n",
       "  <tbody>\n",
       "    <tr>\n",
       "      <th>count</th>\n",
       "      <td>9754583.00000</td>\n",
       "      <td>9754583.00000</td>\n",
       "      <td>9754583.00000</td>\n",
       "      <td>9754583.00000</td>\n",
       "      <td>9754583.00000</td>\n",
       "      <td>9754583.00000</td>\n",
       "    </tr>\n",
       "    <tr>\n",
       "      <th>mean</th>\n",
       "      <td>11.32229</td>\n",
       "      <td>-73.97518</td>\n",
       "      <td>40.75104</td>\n",
       "      <td>-73.97433</td>\n",
       "      <td>40.75225</td>\n",
       "      <td>1.69062</td>\n",
       "    </tr>\n",
       "    <tr>\n",
       "      <th>std</th>\n",
       "      <td>9.60933</td>\n",
       "      <td>0.03890</td>\n",
       "      <td>0.03000</td>\n",
       "      <td>0.03802</td>\n",
       "      <td>0.87797</td>\n",
       "      <td>1.30629</td>\n",
       "    </tr>\n",
       "    <tr>\n",
       "      <th>min</th>\n",
       "      <td>0.01000</td>\n",
       "      <td>-74.98993</td>\n",
       "      <td>40.00531</td>\n",
       "      <td>-74.99828</td>\n",
       "      <td>0.00026</td>\n",
       "      <td>1.00000</td>\n",
       "    </tr>\n",
       "    <tr>\n",
       "      <th>25%</th>\n",
       "      <td>6.00000</td>\n",
       "      <td>-73.99229</td>\n",
       "      <td>40.73655</td>\n",
       "      <td>-73.99158</td>\n",
       "      <td>40.73557</td>\n",
       "      <td>1.00000</td>\n",
       "    </tr>\n",
       "    <tr>\n",
       "      <th>50%</th>\n",
       "      <td>8.50000</td>\n",
       "      <td>-73.98210</td>\n",
       "      <td>40.75335</td>\n",
       "      <td>-73.98061</td>\n",
       "      <td>40.75386</td>\n",
       "      <td>1.00000</td>\n",
       "    </tr>\n",
       "    <tr>\n",
       "      <th>75%</th>\n",
       "      <td>12.50000</td>\n",
       "      <td>-73.96832</td>\n",
       "      <td>40.76754</td>\n",
       "      <td>-73.96535</td>\n",
       "      <td>40.76840</td>\n",
       "      <td>2.00000</td>\n",
       "    </tr>\n",
       "    <tr>\n",
       "      <th>max</th>\n",
       "      <td>200.00000</td>\n",
       "      <td>-73.00002</td>\n",
       "      <td>41.98385</td>\n",
       "      <td>-73.00116</td>\n",
       "      <td>494.65000</td>\n",
       "      <td>6.00000</td>\n",
       "    </tr>\n",
       "  </tbody>\n",
       "</table>\n",
       "</div>"
      ],
      "text/plain": [
       "        fare_amount  pickup_longitude  pickup_latitude  dropoff_longitude  \\\n",
       "count 9754583.00000     9754583.00000    9754583.00000      9754583.00000   \n",
       "mean       11.32229         -73.97518         40.75104          -73.97433   \n",
       "std         9.60933           0.03890          0.03000            0.03802   \n",
       "min         0.01000         -74.98993         40.00531          -74.99828   \n",
       "25%         6.00000         -73.99229         40.73655          -73.99158   \n",
       "50%         8.50000         -73.98210         40.75335          -73.98061   \n",
       "75%        12.50000         -73.96832         40.76754          -73.96535   \n",
       "max       200.00000         -73.00002         41.98385          -73.00116   \n",
       "\n",
       "       dropoff_latitude  passenger_count  \n",
       "count     9754583.00000    9754583.00000  \n",
       "mean           40.75225          1.69062  \n",
       "std             0.87797          1.30629  \n",
       "min             0.00026          1.00000  \n",
       "25%            40.73557          1.00000  \n",
       "50%            40.75386          1.00000  \n",
       "75%            40.76840          2.00000  \n",
       "max           494.65000          6.00000  "
      ]
     },
     "execution_count": 24,
     "metadata": {},
     "output_type": "execute_result"
    }
   ],
   "source": [
    "train_df.describe()"
   ]
  },
  {
   "cell_type": "markdown",
   "id": "defef993",
   "metadata": {
    "papermill": {
     "duration": 0.022057,
     "end_time": "2022-08-10T19:37:42.048230",
     "exception": false,
     "start_time": "2022-08-10T19:37:42.026173",
     "status": "completed"
    },
    "tags": []
   },
   "source": [
    "## Feature Engineering\n",
    "#### An important metric for the fare amount is the distance travelled\n",
    "#### Since the earth is almost a sphere, we'll calculate the distances between two points using the haversine formula and add it to our data as a column"
   ]
  },
  {
   "cell_type": "code",
   "execution_count": 25,
   "id": "f40730bb",
   "metadata": {
    "execution": {
     "iopub.execute_input": "2022-08-10T19:37:42.095668Z",
     "iopub.status.busy": "2022-08-10T19:37:42.095256Z",
     "iopub.status.idle": "2022-08-10T19:37:42.100562Z",
     "shell.execute_reply": "2022-08-10T19:37:42.099437Z"
    },
    "papermill": {
     "duration": 0.031832,
     "end_time": "2022-08-10T19:37:42.102671",
     "exception": false,
     "start_time": "2022-08-10T19:37:42.070839",
     "status": "completed"
    },
    "tags": []
   },
   "outputs": [],
   "source": [
    "# def haversine_distance(lat_p, long_p, lat_d, long_d):\n",
    "#     R_earth = 6371  #radius of earth in kilometers\n",
    "    \n",
    "#     lat_p = np.radians(lat_p)\n",
    "#     long_p = np.radians(long_p)\n",
    "#     lat_d = np.radians(lat_d)\n",
    "#     long_d = np.radians(long_d)\n",
    "    \n",
    "#     long_diff = long_d - long_p\n",
    "#     lat_diff = lat_d - lat_p        \n",
    "    \n",
    "#     #a = sin²((φB - φA)/2) + cos φA . cos φB . sin²((λB - λA)/2)\n",
    "#     a = np.sin(lat_diff / 2.0) ** 2 + np.cos(lat_p) * np.cos(lat_d) * np.sin(long_diff / 2.0) ** 2\n",
    "    \n",
    "#     return 2 * R_earth * np.arcsin(np.sqrt(a))\n"
   ]
  },
  {
   "cell_type": "code",
   "execution_count": 26,
   "id": "fcd565ae",
   "metadata": {
    "execution": {
     "iopub.execute_input": "2022-08-10T19:37:42.149556Z",
     "iopub.status.busy": "2022-08-10T19:37:42.148835Z",
     "iopub.status.idle": "2022-08-10T19:37:42.153938Z",
     "shell.execute_reply": "2022-08-10T19:37:42.152923Z"
    },
    "papermill": {
     "duration": 0.031248,
     "end_time": "2022-08-10T19:37:42.156450",
     "exception": false,
     "start_time": "2022-08-10T19:37:42.125202",
     "status": "completed"
    },
    "tags": []
   },
   "outputs": [],
   "source": [
    "# lat_p = train_df['pickup_latitude']\n",
    "# long_p = train_df['pickup_longitude']\n",
    "# lat_d = train_df['dropoff_latitude']\n",
    "# long_d = train_df['dropoff_longitude']\n",
    "\n",
    "# train_df['haversine_dist'] = haversine_distance(lat_p, long_p, lat_d, long_d)\n"
   ]
  },
  {
   "cell_type": "markdown",
   "id": "e94deb4d",
   "metadata": {
    "papermill": {
     "duration": 0.022176,
     "end_time": "2022-08-10T19:37:42.201086",
     "exception": false,
     "start_time": "2022-08-10T19:37:42.178910",
     "status": "completed"
    },
    "tags": []
   },
   "source": [
    "### After experimenting for a while, I found that the manhattan distance formula performs better than the haversine, so I'll be using this for now"
   ]
  },
  {
   "cell_type": "code",
   "execution_count": 27,
   "id": "488234d2",
   "metadata": {
    "execution": {
     "iopub.execute_input": "2022-08-10T19:37:42.248158Z",
     "iopub.status.busy": "2022-08-10T19:37:42.247626Z",
     "iopub.status.idle": "2022-08-10T19:37:42.253700Z",
     "shell.execute_reply": "2022-08-10T19:37:42.252548Z"
    },
    "papermill": {
     "duration": 0.032402,
     "end_time": "2022-08-10T19:37:42.256085",
     "exception": false,
     "start_time": "2022-08-10T19:37:42.223683",
     "status": "completed"
    },
    "tags": []
   },
   "outputs": [],
   "source": [
    "def manhattan_dist(lat_p, long_p, lat_d, long_d):  \n",
    "    distance = np.abs(lat_d - lat_p) + np.abs(long_d - long_p)\n",
    "    \n",
    "    return distance"
   ]
  },
  {
   "cell_type": "markdown",
   "id": "267cfaf4",
   "metadata": {
    "papermill": {
     "duration": 0.023853,
     "end_time": "2022-08-10T19:37:42.302616",
     "exception": false,
     "start_time": "2022-08-10T19:37:42.278763",
     "status": "completed"
    },
    "tags": []
   },
   "source": [
    "#### Let's extract the information from datetime object, as year, month, day and hour could all be important factors in predicting the fare amount"
   ]
  },
  {
   "cell_type": "code",
   "execution_count": 28,
   "id": "77f61931",
   "metadata": {
    "execution": {
     "iopub.execute_input": "2022-08-10T19:37:42.351213Z",
     "iopub.status.busy": "2022-08-10T19:37:42.350016Z",
     "iopub.status.idle": "2022-08-10T19:37:42.357465Z",
     "shell.execute_reply": "2022-08-10T19:37:42.356351Z"
    },
    "papermill": {
     "duration": 0.03368,
     "end_time": "2022-08-10T19:37:42.359720",
     "exception": false,
     "start_time": "2022-08-10T19:37:42.326040",
     "status": "completed"
    },
    "tags": []
   },
   "outputs": [],
   "source": [
    "def add_datetime_info(df, transform_datetime=False):\n",
    "    if transform_datetime:\n",
    "        df['pickup_datetime'] = pd.to_datetime(df['pickup_datetime'], format=\"%Y-%m-%d %H:%M:%S UTC\")\n",
    "    \n",
    "    df['hour'] = df['pickup_datetime'].dt.hour\n",
    "    df['day'] = df['pickup_datetime'].dt.day\n",
    "    df['month'] = df['pickup_datetime'].dt.month\n",
    "    df['year'] = df['pickup_datetime'].dt.year\n",
    "#     df['weekday'] = df['pickup_datetime'].dt.weekday # removing this since it's the least important feature\n",
    "    df.drop('pickup_datetime', axis=1, inplace=True)\n",
    "        "
   ]
  },
  {
   "cell_type": "markdown",
   "id": "7bd54809",
   "metadata": {
    "papermill": {
     "duration": 0.022019,
     "end_time": "2022-08-10T19:37:42.404190",
     "exception": false,
     "start_time": "2022-08-10T19:37:42.382171",
     "status": "completed"
    },
    "tags": []
   },
   "source": [
    "### The intuition for adding the distances to the airports comes from this great [notebook](https://www.kaggle.com/code/breemen/nyc-taxi-fare-data-exploration)  "
   ]
  },
  {
   "cell_type": "code",
   "execution_count": 29,
   "id": "36314933",
   "metadata": {
    "execution": {
     "iopub.execute_input": "2022-08-10T19:37:42.451151Z",
     "iopub.status.busy": "2022-08-10T19:37:42.450740Z",
     "iopub.status.idle": "2022-08-10T19:37:42.460706Z",
     "shell.execute_reply": "2022-08-10T19:37:42.459658Z"
    },
    "papermill": {
     "duration": 0.036364,
     "end_time": "2022-08-10T19:37:42.463034",
     "exception": false,
     "start_time": "2022-08-10T19:37:42.426670",
     "status": "completed"
    },
    "tags": []
   },
   "outputs": [],
   "source": [
    "def add_airport_info(df):\n",
    "#     nyc = (40.7141667, -74.0063889)\n",
    "#     jfk = (-73.7822222222, 40.6441666667)\n",
    "#     ewr = (-74.175, 40.69)\n",
    "#     lgr = (-73.87, 40.77)\n",
    "    \n",
    "    nyc = (-74.0063889, 40.7141667)\n",
    "    jfk = (40.6441666667, -73.7822222222)\n",
    "    ewr = (40.69, -74.175)\n",
    "    lgr = (40.77, -73.87)\n",
    "    \n",
    "    df['distance_to_center'] = manhattan_dist(nyc[0], nyc[1], df['pickup_latitude'], df['pickup_longitude'])\n",
    "    df['pickup_distance_to_jfk'] = manhattan_dist(jfk[0], jfk[1], df['pickup_latitude'], df['pickup_longitude'])\n",
    "    df['dropoff_distance_to_jfk'] = manhattan_dist(jfk[0], jfk[1], df['dropoff_latitude'], df['dropoff_longitude'])\n",
    "    df['pickup_distance_to_ewr'] = manhattan_dist(ewr[0], ewr[1], df['pickup_latitude'], df['pickup_longitude'])\n",
    "    df['dropoff_distance_to_ewr'] = manhattan_dist(ewr[0], ewr[1],df['dropoff_latitude'], df['dropoff_longitude'])\n",
    "    df['pickup_distance_to_lgr'] = manhattan_dist(lgr[0], lgr[1], df['pickup_latitude'], df['pickup_longitude'])\n",
    "    df['dropoff_distance_to_lgr'] = manhattan_dist(lgr[0], lgr[1], df['dropoff_latitude'], df['dropoff_longitude'])\n",
    "\n",
    "    df['long_diff'] = df.dropoff_longitude - df.pickup_longitude\n",
    "    df['lat_diff'] = df.dropoff_latitude - df.pickup_latitude\n",
    "    \n",
    "    "
   ]
  },
  {
   "cell_type": "code",
   "execution_count": 30,
   "id": "1156397f",
   "metadata": {
    "execution": {
     "iopub.execute_input": "2022-08-10T19:37:42.510151Z",
     "iopub.status.busy": "2022-08-10T19:37:42.509714Z",
     "iopub.status.idle": "2022-08-10T19:37:42.515509Z",
     "shell.execute_reply": "2022-08-10T19:37:42.514341Z"
    },
    "papermill": {
     "duration": 0.032398,
     "end_time": "2022-08-10T19:37:42.517809",
     "exception": false,
     "start_time": "2022-08-10T19:37:42.485411",
     "status": "completed"
    },
    "tags": []
   },
   "outputs": [],
   "source": [
    "def transform(df, transform_datetime):\n",
    "    add_datetime_info(df, transform_datetime)\n",
    "    add_airport_info(df)\n",
    "    df['manhattan_dist'] = manhattan_dist(df['pickup_latitude'], df['pickup_longitude'], df['dropoff_latitude'], df['dropoff_longitude'])\n",
    "    return df\n"
   ]
  },
  {
   "cell_type": "markdown",
   "id": "a0f550fc",
   "metadata": {
    "papermill": {
     "duration": 0.022193,
     "end_time": "2022-08-10T19:37:42.562627",
     "exception": false,
     "start_time": "2022-08-10T19:37:42.540434",
     "status": "completed"
    },
    "tags": []
   },
   "source": [
    "### We also need to change the pickup_datetime column from being an object to a datetime object."
   ]
  },
  {
   "cell_type": "code",
   "execution_count": 31,
   "id": "b0f9714b",
   "metadata": {
    "execution": {
     "iopub.execute_input": "2022-08-10T19:37:42.610280Z",
     "iopub.status.busy": "2022-08-10T19:37:42.609839Z",
     "iopub.status.idle": "2022-08-10T19:38:20.103467Z",
     "shell.execute_reply": "2022-08-10T19:38:20.101895Z"
    },
    "papermill": {
     "duration": 37.52086,
     "end_time": "2022-08-10T19:38:20.106355",
     "exception": false,
     "start_time": "2022-08-10T19:37:42.585495",
     "status": "completed"
    },
    "tags": []
   },
   "outputs": [],
   "source": [
    "# train_df['pickup_datetime'] =  pd.to_datetime(train_df['pickup_datetime'], format=\"%Y-%m-%d %H:%M:%S UTC\")\n",
    "train_df = transform(train_df, transform_datetime=True)"
   ]
  },
  {
   "cell_type": "code",
   "execution_count": 32,
   "id": "4c2bcbde",
   "metadata": {
    "execution": {
     "iopub.execute_input": "2022-08-10T19:38:20.153704Z",
     "iopub.status.busy": "2022-08-10T19:38:20.152996Z",
     "iopub.status.idle": "2022-08-10T19:38:20.172521Z",
     "shell.execute_reply": "2022-08-10T19:38:20.171356Z"
    },
    "papermill": {
     "duration": 0.045553,
     "end_time": "2022-08-10T19:38:20.175048",
     "exception": false,
     "start_time": "2022-08-10T19:38:20.129495",
     "status": "completed"
    },
    "tags": []
   },
   "outputs": [
    {
     "data": {
      "text/html": [
       "<div>\n",
       "<style scoped>\n",
       "    .dataframe tbody tr th:only-of-type {\n",
       "        vertical-align: middle;\n",
       "    }\n",
       "\n",
       "    .dataframe tbody tr th {\n",
       "        vertical-align: top;\n",
       "    }\n",
       "\n",
       "    .dataframe thead th {\n",
       "        text-align: right;\n",
       "    }\n",
       "</style>\n",
       "<table border=\"1\" class=\"dataframe\">\n",
       "  <thead>\n",
       "    <tr style=\"text-align: right;\">\n",
       "      <th></th>\n",
       "      <th>fare_amount</th>\n",
       "      <th>pickup_longitude</th>\n",
       "      <th>pickup_latitude</th>\n",
       "      <th>dropoff_longitude</th>\n",
       "      <th>dropoff_latitude</th>\n",
       "      <th>passenger_count</th>\n",
       "      <th>hour</th>\n",
       "      <th>day</th>\n",
       "      <th>month</th>\n",
       "      <th>year</th>\n",
       "      <th>distance_to_center</th>\n",
       "      <th>pickup_distance_to_jfk</th>\n",
       "      <th>dropoff_distance_to_jfk</th>\n",
       "      <th>pickup_distance_to_ewr</th>\n",
       "      <th>dropoff_distance_to_ewr</th>\n",
       "      <th>pickup_distance_to_lgr</th>\n",
       "      <th>dropoff_distance_to_lgr</th>\n",
       "      <th>long_diff</th>\n",
       "      <th>lat_diff</th>\n",
       "      <th>manhattan_dist</th>\n",
       "    </tr>\n",
       "  </thead>\n",
       "  <tbody>\n",
       "    <tr>\n",
       "      <th>0</th>\n",
       "      <td>4.50000</td>\n",
       "      <td>-73.84431</td>\n",
       "      <td>40.72132</td>\n",
       "      <td>-73.84161</td>\n",
       "      <td>40.71228</td>\n",
       "      <td>1</td>\n",
       "      <td>17</td>\n",
       "      <td>15</td>\n",
       "      <td>6</td>\n",
       "      <td>2009</td>\n",
       "      <td>229.28619</td>\n",
       "      <td>0.13924</td>\n",
       "      <td>0.12750</td>\n",
       "      <td>0.36201</td>\n",
       "      <td>0.35567</td>\n",
       "      <td>0.07437</td>\n",
       "      <td>0.08611</td>\n",
       "      <td>0.00270</td>\n",
       "      <td>-0.00904</td>\n",
       "      <td>0.01174</td>\n",
       "    </tr>\n",
       "    <tr>\n",
       "      <th>1</th>\n",
       "      <td>16.90000</td>\n",
       "      <td>-74.01605</td>\n",
       "      <td>40.71130</td>\n",
       "      <td>-73.97927</td>\n",
       "      <td>40.78200</td>\n",
       "      <td>1</td>\n",
       "      <td>16</td>\n",
       "      <td>5</td>\n",
       "      <td>1</td>\n",
       "      <td>2010</td>\n",
       "      <td>229.44791</td>\n",
       "      <td>0.30096</td>\n",
       "      <td>0.33488</td>\n",
       "      <td>0.18026</td>\n",
       "      <td>0.28774</td>\n",
       "      <td>0.20474</td>\n",
       "      <td>0.12127</td>\n",
       "      <td>0.03678</td>\n",
       "      <td>0.07070</td>\n",
       "      <td>0.10748</td>\n",
       "    </tr>\n",
       "    <tr>\n",
       "      <th>2</th>\n",
       "      <td>5.70000</td>\n",
       "      <td>-73.98274</td>\n",
       "      <td>40.76127</td>\n",
       "      <td>-73.99124</td>\n",
       "      <td>40.75056</td>\n",
       "      <td>2</td>\n",
       "      <td>0</td>\n",
       "      <td>18</td>\n",
       "      <td>8</td>\n",
       "      <td>2011</td>\n",
       "      <td>229.46456</td>\n",
       "      <td>0.31762</td>\n",
       "      <td>0.31542</td>\n",
       "      <td>0.26353</td>\n",
       "      <td>0.24432</td>\n",
       "      <td>0.12147</td>\n",
       "      <td>0.14068</td>\n",
       "      <td>-0.00850</td>\n",
       "      <td>-0.01071</td>\n",
       "      <td>0.01921</td>\n",
       "    </tr>\n",
       "    <tr>\n",
       "      <th>3</th>\n",
       "      <td>7.70000</td>\n",
       "      <td>-73.98713</td>\n",
       "      <td>40.73314</td>\n",
       "      <td>-73.99157</td>\n",
       "      <td>40.75809</td>\n",
       "      <td>1</td>\n",
       "      <td>4</td>\n",
       "      <td>21</td>\n",
       "      <td>4</td>\n",
       "      <td>2012</td>\n",
       "      <td>229.44083</td>\n",
       "      <td>0.29388</td>\n",
       "      <td>0.32327</td>\n",
       "      <td>0.23101</td>\n",
       "      <td>0.25152</td>\n",
       "      <td>0.15399</td>\n",
       "      <td>0.13348</td>\n",
       "      <td>-0.00444</td>\n",
       "      <td>0.02495</td>\n",
       "      <td>0.02939</td>\n",
       "    </tr>\n",
       "    <tr>\n",
       "      <th>4</th>\n",
       "      <td>5.30000</td>\n",
       "      <td>-73.96810</td>\n",
       "      <td>40.76801</td>\n",
       "      <td>-73.95665</td>\n",
       "      <td>40.78376</td>\n",
       "      <td>1</td>\n",
       "      <td>7</td>\n",
       "      <td>9</td>\n",
       "      <td>3</td>\n",
       "      <td>2010</td>\n",
       "      <td>229.45666</td>\n",
       "      <td>0.30971</td>\n",
       "      <td>0.31403</td>\n",
       "      <td>0.28491</td>\n",
       "      <td>0.31211</td>\n",
       "      <td>0.10009</td>\n",
       "      <td>0.10042</td>\n",
       "      <td>0.01144</td>\n",
       "      <td>0.01575</td>\n",
       "      <td>0.02719</td>\n",
       "    </tr>\n",
       "  </tbody>\n",
       "</table>\n",
       "</div>"
      ],
      "text/plain": [
       "   fare_amount  pickup_longitude  pickup_latitude  dropoff_longitude  \\\n",
       "0      4.50000         -73.84431         40.72132          -73.84161   \n",
       "1     16.90000         -74.01605         40.71130          -73.97927   \n",
       "2      5.70000         -73.98274         40.76127          -73.99124   \n",
       "3      7.70000         -73.98713         40.73314          -73.99157   \n",
       "4      5.30000         -73.96810         40.76801          -73.95665   \n",
       "\n",
       "   dropoff_latitude  passenger_count  hour  day  month  year  \\\n",
       "0          40.71228                1    17   15      6  2009   \n",
       "1          40.78200                1    16    5      1  2010   \n",
       "2          40.75056                2     0   18      8  2011   \n",
       "3          40.75809                1     4   21      4  2012   \n",
       "4          40.78376                1     7    9      3  2010   \n",
       "\n",
       "   distance_to_center  pickup_distance_to_jfk  dropoff_distance_to_jfk  \\\n",
       "0           229.28619                 0.13924                  0.12750   \n",
       "1           229.44791                 0.30096                  0.33488   \n",
       "2           229.46456                 0.31762                  0.31542   \n",
       "3           229.44083                 0.29388                  0.32327   \n",
       "4           229.45666                 0.30971                  0.31403   \n",
       "\n",
       "   pickup_distance_to_ewr  dropoff_distance_to_ewr  pickup_distance_to_lgr  \\\n",
       "0                 0.36201                  0.35567                 0.07437   \n",
       "1                 0.18026                  0.28774                 0.20474   \n",
       "2                 0.26353                  0.24432                 0.12147   \n",
       "3                 0.23101                  0.25152                 0.15399   \n",
       "4                 0.28491                  0.31211                 0.10009   \n",
       "\n",
       "   dropoff_distance_to_lgr  long_diff  lat_diff  manhattan_dist  \n",
       "0                  0.08611    0.00270  -0.00904         0.01174  \n",
       "1                  0.12127    0.03678   0.07070         0.10748  \n",
       "2                  0.14068   -0.00850  -0.01071         0.01921  \n",
       "3                  0.13348   -0.00444   0.02495         0.02939  \n",
       "4                  0.10042    0.01144   0.01575         0.02719  "
      ]
     },
     "execution_count": 32,
     "metadata": {},
     "output_type": "execute_result"
    }
   ],
   "source": [
    "train_df.head()"
   ]
  },
  {
   "cell_type": "markdown",
   "id": "cfca9b39",
   "metadata": {
    "papermill": {
     "duration": 0.022004,
     "end_time": "2022-08-10T19:38:20.219597",
     "exception": false,
     "start_time": "2022-08-10T19:38:20.197593",
     "status": "completed"
    },
    "tags": []
   },
   "source": [
    "## I want to add some more Visualizations to see how the fare amount is changing with regards to different time periods."
   ]
  },
  {
   "cell_type": "code",
   "execution_count": 33,
   "id": "b4d15822",
   "metadata": {
    "execution": {
     "iopub.execute_input": "2022-08-10T19:38:20.267096Z",
     "iopub.status.busy": "2022-08-10T19:38:20.265907Z",
     "iopub.status.idle": "2022-08-10T19:38:20.272817Z",
     "shell.execute_reply": "2022-08-10T19:38:20.272012Z"
    },
    "papermill": {
     "duration": 0.03278,
     "end_time": "2022-08-10T19:38:20.274860",
     "exception": false,
     "start_time": "2022-08-10T19:38:20.242080",
     "status": "completed"
    },
    "tags": []
   },
   "outputs": [],
   "source": [
    "def visualize_date_fare(df):\n",
    "#     date_objects = ['hour', 'day', 'weekday', 'month', 'year']\n",
    "    date_objects = ['hour', 'day', 'month', 'year']\n",
    "\n",
    "    for idx, obj in enumerate(date_objects):\n",
    "    #     print(\"IDX\", idx)\n",
    "    #     print(\"OBJ\", obj)\n",
    "        plt.figure(figsize=(10,6))\n",
    "        sns.barplot(x=df[obj], y=df['fare_amount'], ci=None) # setting ci=None dramatically decreases the time for plotting\n",
    "        print(plt.get_cmap())\n",
    "        plt.title('Average Fare Amount by ' + obj)\n",
    "        plt.ylabel('Fare Amount')\n",
    "        \n",
    "        plt.show()\n"
   ]
  },
  {
   "cell_type": "code",
   "execution_count": 34,
   "id": "d1d0e31b",
   "metadata": {
    "execution": {
     "iopub.execute_input": "2022-08-10T19:38:20.321949Z",
     "iopub.status.busy": "2022-08-10T19:38:20.321236Z",
     "iopub.status.idle": "2022-08-10T19:38:26.338154Z",
     "shell.execute_reply": "2022-08-10T19:38:26.337008Z"
    },
    "papermill": {
     "duration": 6.043397,
     "end_time": "2022-08-10T19:38:26.340699",
     "exception": false,
     "start_time": "2022-08-10T19:38:20.297302",
     "status": "completed"
    },
    "tags": []
   },
   "outputs": [
    {
     "name": "stdout",
     "output_type": "stream",
     "text": [
      "<matplotlib.colors.ListedColormap object at 0x7f279ab4b390>\n"
     ]
    },
    {
     "data": {
      "image/png": "[encoded data removed]",
      "text/plain": [
       "<Figure size 720x432 with 1 Axes>"
      ]
     },
     "metadata": {
      "needs_background": "light"
     },
     "output_type": "display_data"
    },
    {
     "name": "stdout",
     "output_type": "stream",
     "text": [
      "<matplotlib.colors.ListedColormap object at 0x7f279ab4b390>\n"
     ]
    },
    {
     "data": {
      "image/png": "[encoded data removed]",
      "text/plain": [
       "<Figure size 720x432 with 1 Axes>"
      ]
     },
     "metadata": {
      "needs_background": "light"
     },
     "output_type": "display_data"
    },
    {
     "name": "stdout",
     "output_type": "stream",
     "text": [
      "<matplotlib.colors.ListedColormap object at 0x7f279ab4b390>\n"
     ]
    },
    {
     "data": {
      "image/png": "[encoded data removed]",
      "text/plain": [
       "<Figure size 720x432 with 1 Axes>"
      ]
     },
     "metadata": {
      "needs_background": "light"
     },
     "output_type": "display_data"
    },
    {
     "name": "stdout",
     "output_type": "stream",
     "text": [
      "<matplotlib.colors.ListedColormap object at 0x7f279ab4b390>\n"
     ]
    },
    {
     "data": {
      "image/png": "[encoded data removed]",
      "text/plain": [
       "<Figure size 720x432 with 1 Axes>"
      ]
     },
     "metadata": {
      "needs_background": "light"
     },
     "output_type": "display_data"
    }
   ],
   "source": [
    "visualize_date_fare(train_df)"
   ]
  },
  {
   "cell_type": "markdown",
   "id": "a09241a6",
   "metadata": {
    "papermill": {
     "duration": 0.023757,
     "end_time": "2022-08-10T19:38:26.388554",
     "exception": false,
     "start_time": "2022-08-10T19:38:26.364797",
     "status": "completed"
    },
    "tags": []
   },
   "source": [
    "### There is a steady trend of increasing fare amounts by the year. We can see the fare amount also changes noticeably by the hour.\n",
    "### However, the fare amount doesn't seem to change that much from day to day."
   ]
  },
  {
   "cell_type": "code",
   "execution_count": 35,
   "id": "56fa483c",
   "metadata": {
    "execution": {
     "iopub.execute_input": "2022-08-10T19:38:26.438306Z",
     "iopub.status.busy": "2022-08-10T19:38:26.437898Z",
     "iopub.status.idle": "2022-08-10T19:38:26.443596Z",
     "shell.execute_reply": "2022-08-10T19:38:26.442730Z"
    },
    "papermill": {
     "duration": 0.033078,
     "end_time": "2022-08-10T19:38:26.445656",
     "exception": false,
     "start_time": "2022-08-10T19:38:26.412578",
     "status": "completed"
    },
    "tags": []
   },
   "outputs": [],
   "source": [
    "def visualize_date_counts(df):\n",
    "    #     date_objects = ['hour', 'day', 'weekday', 'month', 'year']\n",
    "    date_objects = ['hour', 'day', 'month', 'year']\n",
    "    # fig, axes = plt.subplots(1, 5)\n",
    "\n",
    "    for obj in date_objects:\n",
    "        plt.figure(figsize=(10,6))\n",
    "        sns.countplot(x=df[obj])\n",
    "        plt.ylabel('Count')\n",
    "        plt.title('Taxi Rides Count by ' + obj)\n",
    "        plt.show()"
   ]
  },
  {
   "cell_type": "markdown",
   "id": "4c7c51aa",
   "metadata": {
    "papermill": {
     "duration": 0.023416,
     "end_time": "2022-08-10T19:38:26.492910",
     "exception": false,
     "start_time": "2022-08-10T19:38:26.469494",
     "status": "completed"
    },
    "tags": []
   },
   "source": [
    "### Graphs of the amount of taxi rides by time periods"
   ]
  },
  {
   "cell_type": "code",
   "execution_count": 36,
   "id": "363c7507",
   "metadata": {
    "execution": {
     "iopub.execute_input": "2022-08-10T19:38:26.542225Z",
     "iopub.status.busy": "2022-08-10T19:38:26.541837Z",
     "iopub.status.idle": "2022-08-10T19:38:32.416187Z",
     "shell.execute_reply": "2022-08-10T19:38:32.415339Z"
    },
    "papermill": {
     "duration": 5.90192,
     "end_time": "2022-08-10T19:38:32.418684",
     "exception": false,
     "start_time": "2022-08-10T19:38:26.516764",
     "status": "completed"
    },
    "tags": []
   },
   "outputs": [
    {
     "data": {
      "image/png": "[encoded data removed]",
      "text/plain": [
       "<Figure size 720x432 with 1 Axes>"
      ]
     },
     "metadata": {
      "needs_background": "light"
     },
     "output_type": "display_data"
    },
    {
     "data": {
      "image/png": "[encoded data removed]",
      "text/plain": [
       "<Figure size 720x432 with 1 Axes>"
      ]
     },
     "metadata": {
      "needs_background": "light"
     },
     "output_type": "display_data"
    },
    {
     "data": {
      "image/png": "[encoded data removed]",
      "text/plain": [
       "<Figure size 720x432 with 1 Axes>"
      ]
     },
     "metadata": {
      "needs_background": "light"
     },
     "output_type": "display_data"
    },
    {
     "data": {
      "image/png": "[encoded data removed]",
      "text/plain": [
       "<Figure size 720x432 with 1 Axes>"
      ]
     },
     "metadata": {
      "needs_background": "light"
     },
     "output_type": "display_data"
    }
   ],
   "source": [
    "visualize_date_counts(train_df)"
   ]
  },
  {
   "cell_type": "code",
   "execution_count": 37,
   "id": "5c1e490a",
   "metadata": {
    "execution": {
     "iopub.execute_input": "2022-08-10T19:38:32.472659Z",
     "iopub.status.busy": "2022-08-10T19:38:32.471907Z",
     "iopub.status.idle": "2022-08-10T19:38:32.490826Z",
     "shell.execute_reply": "2022-08-10T19:38:32.489595Z"
    },
    "papermill": {
     "duration": 0.048806,
     "end_time": "2022-08-10T19:38:32.493164",
     "exception": false,
     "start_time": "2022-08-10T19:38:32.444358",
     "status": "completed"
    },
    "tags": []
   },
   "outputs": [
    {
     "data": {
      "text/html": [
       "<div>\n",
       "<style scoped>\n",
       "    .dataframe tbody tr th:only-of-type {\n",
       "        vertical-align: middle;\n",
       "    }\n",
       "\n",
       "    .dataframe tbody tr th {\n",
       "        vertical-align: top;\n",
       "    }\n",
       "\n",
       "    .dataframe thead th {\n",
       "        text-align: right;\n",
       "    }\n",
       "</style>\n",
       "<table border=\"1\" class=\"dataframe\">\n",
       "  <thead>\n",
       "    <tr style=\"text-align: right;\">\n",
       "      <th></th>\n",
       "      <th>fare_amount</th>\n",
       "      <th>pickup_longitude</th>\n",
       "      <th>pickup_latitude</th>\n",
       "      <th>dropoff_longitude</th>\n",
       "      <th>dropoff_latitude</th>\n",
       "      <th>passenger_count</th>\n",
       "      <th>hour</th>\n",
       "      <th>day</th>\n",
       "      <th>month</th>\n",
       "      <th>year</th>\n",
       "      <th>distance_to_center</th>\n",
       "      <th>pickup_distance_to_jfk</th>\n",
       "      <th>dropoff_distance_to_jfk</th>\n",
       "      <th>pickup_distance_to_ewr</th>\n",
       "      <th>dropoff_distance_to_ewr</th>\n",
       "      <th>pickup_distance_to_lgr</th>\n",
       "      <th>dropoff_distance_to_lgr</th>\n",
       "      <th>long_diff</th>\n",
       "      <th>lat_diff</th>\n",
       "      <th>manhattan_dist</th>\n",
       "    </tr>\n",
       "  </thead>\n",
       "  <tbody>\n",
       "    <tr>\n",
       "      <th>0</th>\n",
       "      <td>4.50000</td>\n",
       "      <td>-73.84431</td>\n",
       "      <td>40.72132</td>\n",
       "      <td>-73.84161</td>\n",
       "      <td>40.71228</td>\n",
       "      <td>1</td>\n",
       "      <td>17</td>\n",
       "      <td>15</td>\n",
       "      <td>6</td>\n",
       "      <td>2009</td>\n",
       "      <td>229.28619</td>\n",
       "      <td>0.13924</td>\n",
       "      <td>0.12750</td>\n",
       "      <td>0.36201</td>\n",
       "      <td>0.35567</td>\n",
       "      <td>0.07437</td>\n",
       "      <td>0.08611</td>\n",
       "      <td>0.00270</td>\n",
       "      <td>-0.00904</td>\n",
       "      <td>0.01174</td>\n",
       "    </tr>\n",
       "    <tr>\n",
       "      <th>1</th>\n",
       "      <td>16.90000</td>\n",
       "      <td>-74.01605</td>\n",
       "      <td>40.71130</td>\n",
       "      <td>-73.97927</td>\n",
       "      <td>40.78200</td>\n",
       "      <td>1</td>\n",
       "      <td>16</td>\n",
       "      <td>5</td>\n",
       "      <td>1</td>\n",
       "      <td>2010</td>\n",
       "      <td>229.44791</td>\n",
       "      <td>0.30096</td>\n",
       "      <td>0.33488</td>\n",
       "      <td>0.18026</td>\n",
       "      <td>0.28774</td>\n",
       "      <td>0.20474</td>\n",
       "      <td>0.12127</td>\n",
       "      <td>0.03678</td>\n",
       "      <td>0.07070</td>\n",
       "      <td>0.10748</td>\n",
       "    </tr>\n",
       "    <tr>\n",
       "      <th>2</th>\n",
       "      <td>5.70000</td>\n",
       "      <td>-73.98274</td>\n",
       "      <td>40.76127</td>\n",
       "      <td>-73.99124</td>\n",
       "      <td>40.75056</td>\n",
       "      <td>2</td>\n",
       "      <td>0</td>\n",
       "      <td>18</td>\n",
       "      <td>8</td>\n",
       "      <td>2011</td>\n",
       "      <td>229.46456</td>\n",
       "      <td>0.31762</td>\n",
       "      <td>0.31542</td>\n",
       "      <td>0.26353</td>\n",
       "      <td>0.24432</td>\n",
       "      <td>0.12147</td>\n",
       "      <td>0.14068</td>\n",
       "      <td>-0.00850</td>\n",
       "      <td>-0.01071</td>\n",
       "      <td>0.01921</td>\n",
       "    </tr>\n",
       "    <tr>\n",
       "      <th>3</th>\n",
       "      <td>7.70000</td>\n",
       "      <td>-73.98713</td>\n",
       "      <td>40.73314</td>\n",
       "      <td>-73.99157</td>\n",
       "      <td>40.75809</td>\n",
       "      <td>1</td>\n",
       "      <td>4</td>\n",
       "      <td>21</td>\n",
       "      <td>4</td>\n",
       "      <td>2012</td>\n",
       "      <td>229.44083</td>\n",
       "      <td>0.29388</td>\n",
       "      <td>0.32327</td>\n",
       "      <td>0.23101</td>\n",
       "      <td>0.25152</td>\n",
       "      <td>0.15399</td>\n",
       "      <td>0.13348</td>\n",
       "      <td>-0.00444</td>\n",
       "      <td>0.02495</td>\n",
       "      <td>0.02939</td>\n",
       "    </tr>\n",
       "    <tr>\n",
       "      <th>4</th>\n",
       "      <td>5.30000</td>\n",
       "      <td>-73.96810</td>\n",
       "      <td>40.76801</td>\n",
       "      <td>-73.95665</td>\n",
       "      <td>40.78376</td>\n",
       "      <td>1</td>\n",
       "      <td>7</td>\n",
       "      <td>9</td>\n",
       "      <td>3</td>\n",
       "      <td>2010</td>\n",
       "      <td>229.45666</td>\n",
       "      <td>0.30971</td>\n",
       "      <td>0.31403</td>\n",
       "      <td>0.28491</td>\n",
       "      <td>0.31211</td>\n",
       "      <td>0.10009</td>\n",
       "      <td>0.10042</td>\n",
       "      <td>0.01144</td>\n",
       "      <td>0.01575</td>\n",
       "      <td>0.02719</td>\n",
       "    </tr>\n",
       "  </tbody>\n",
       "</table>\n",
       "</div>"
      ],
      "text/plain": [
       "   fare_amount  pickup_longitude  pickup_latitude  dropoff_longitude  \\\n",
       "0      4.50000         -73.84431         40.72132          -73.84161   \n",
       "1     16.90000         -74.01605         40.71130          -73.97927   \n",
       "2      5.70000         -73.98274         40.76127          -73.99124   \n",
       "3      7.70000         -73.98713         40.73314          -73.99157   \n",
       "4      5.30000         -73.96810         40.76801          -73.95665   \n",
       "\n",
       "   dropoff_latitude  passenger_count  hour  day  month  year  \\\n",
       "0          40.71228                1    17   15      6  2009   \n",
       "1          40.78200                1    16    5      1  2010   \n",
       "2          40.75056                2     0   18      8  2011   \n",
       "3          40.75809                1     4   21      4  2012   \n",
       "4          40.78376                1     7    9      3  2010   \n",
       "\n",
       "   distance_to_center  pickup_distance_to_jfk  dropoff_distance_to_jfk  \\\n",
       "0           229.28619                 0.13924                  0.12750   \n",
       "1           229.44791                 0.30096                  0.33488   \n",
       "2           229.46456                 0.31762                  0.31542   \n",
       "3           229.44083                 0.29388                  0.32327   \n",
       "4           229.45666                 0.30971                  0.31403   \n",
       "\n",
       "   pickup_distance_to_ewr  dropoff_distance_to_ewr  pickup_distance_to_lgr  \\\n",
       "0                 0.36201                  0.35567                 0.07437   \n",
       "1                 0.18026                  0.28774                 0.20474   \n",
       "2                 0.26353                  0.24432                 0.12147   \n",
       "3                 0.23101                  0.25152                 0.15399   \n",
       "4                 0.28491                  0.31211                 0.10009   \n",
       "\n",
       "   dropoff_distance_to_lgr  long_diff  lat_diff  manhattan_dist  \n",
       "0                  0.08611    0.00270  -0.00904         0.01174  \n",
       "1                  0.12127    0.03678   0.07070         0.10748  \n",
       "2                  0.14068   -0.00850  -0.01071         0.01921  \n",
       "3                  0.13348   -0.00444   0.02495         0.02939  \n",
       "4                  0.10042    0.01144   0.01575         0.02719  "
      ]
     },
     "execution_count": 37,
     "metadata": {},
     "output_type": "execute_result"
    }
   ],
   "source": [
    "train_df.head()"
   ]
  },
  {
   "cell_type": "markdown",
   "id": "fc5aa762",
   "metadata": {
    "papermill": {
     "duration": 0.02505,
     "end_time": "2022-08-10T19:38:32.543487",
     "exception": false,
     "start_time": "2022-08-10T19:38:32.518437",
     "status": "completed"
    },
    "tags": []
   },
   "source": [
    "## Training"
   ]
  },
  {
   "cell_type": "markdown",
   "id": "bb44e93f",
   "metadata": {
    "papermill": {
     "duration": 0.02502,
     "end_time": "2022-08-10T19:38:32.593717",
     "exception": false,
     "start_time": "2022-08-10T19:38:32.568697",
     "status": "completed"
    },
    "tags": []
   },
   "source": [
    "### XGBoost's feature importance showed that the passenger count was the lowest feature in terms of importance.\n",
    "### This aligns with the NYC government's official website, which states that [\"There is no extra charge for extra passengers\"](http://www1.nyc.gov/site/tlc/passengers/taxi-fare.page)\n",
    "### Bearing that in mind, I dropped the passenger count feature from the dataset."
   ]
  },
  {
   "cell_type": "code",
   "execution_count": 38,
   "id": "22e52eb6",
   "metadata": {
    "execution": {
     "iopub.execute_input": "2022-08-10T19:38:32.646271Z",
     "iopub.status.busy": "2022-08-10T19:38:32.645511Z",
     "iopub.status.idle": "2022-08-10T19:38:34.203115Z",
     "shell.execute_reply": "2022-08-10T19:38:34.202253Z"
    },
    "papermill": {
     "duration": 1.586713,
     "end_time": "2022-08-10T19:38:34.205634",
     "exception": false,
     "start_time": "2022-08-10T19:38:32.618921",
     "status": "completed"
    },
    "tags": []
   },
   "outputs": [],
   "source": [
    "# X = train_df.drop(['fare_amount', 'passenger_count'], axis=1)\n",
    "# y = train_df['fare_amount']\n",
    "\n",
    "X = train_df.drop(['fare_amount'], axis=1)\n",
    "y = train_df['fare_amount']"
   ]
  },
  {
   "cell_type": "code",
   "execution_count": 39,
   "id": "25e38c7a",
   "metadata": {
    "execution": {
     "iopub.execute_input": "2022-08-10T19:38:34.259159Z",
     "iopub.status.busy": "2022-08-10T19:38:34.258055Z",
     "iopub.status.idle": "2022-08-10T19:38:38.355583Z",
     "shell.execute_reply": "2022-08-10T19:38:38.354520Z"
    },
    "papermill": {
     "duration": 4.127259,
     "end_time": "2022-08-10T19:38:38.358398",
     "exception": false,
     "start_time": "2022-08-10T19:38:34.231139",
     "status": "completed"
    },
    "tags": []
   },
   "outputs": [],
   "source": [
    "X_train, X_val, y_train, y_val = train_test_split(X, y, random_state=42, test_size=0.05)"
   ]
  },
  {
   "cell_type": "code",
   "execution_count": 40,
   "id": "8461c2d0",
   "metadata": {
    "execution": {
     "iopub.execute_input": "2022-08-10T19:38:38.412350Z",
     "iopub.status.busy": "2022-08-10T19:38:38.411930Z",
     "iopub.status.idle": "2022-08-10T19:38:38.430373Z",
     "shell.execute_reply": "2022-08-10T19:38:38.429193Z"
    },
    "papermill": {
     "duration": 0.048741,
     "end_time": "2022-08-10T19:38:38.432955",
     "exception": false,
     "start_time": "2022-08-10T19:38:38.384214",
     "status": "completed"
    },
    "tags": []
   },
   "outputs": [
    {
     "data": {
      "text/html": [
       "<div>\n",
       "<style scoped>\n",
       "    .dataframe tbody tr th:only-of-type {\n",
       "        vertical-align: middle;\n",
       "    }\n",
       "\n",
       "    .dataframe tbody tr th {\n",
       "        vertical-align: top;\n",
       "    }\n",
       "\n",
       "    .dataframe thead th {\n",
       "        text-align: right;\n",
       "    }\n",
       "</style>\n",
       "<table border=\"1\" class=\"dataframe\">\n",
       "  <thead>\n",
       "    <tr style=\"text-align: right;\">\n",
       "      <th></th>\n",
       "      <th>pickup_longitude</th>\n",
       "      <th>pickup_latitude</th>\n",
       "      <th>dropoff_longitude</th>\n",
       "      <th>dropoff_latitude</th>\n",
       "      <th>passenger_count</th>\n",
       "      <th>hour</th>\n",
       "      <th>day</th>\n",
       "      <th>month</th>\n",
       "      <th>year</th>\n",
       "      <th>distance_to_center</th>\n",
       "      <th>pickup_distance_to_jfk</th>\n",
       "      <th>dropoff_distance_to_jfk</th>\n",
       "      <th>pickup_distance_to_ewr</th>\n",
       "      <th>dropoff_distance_to_ewr</th>\n",
       "      <th>pickup_distance_to_lgr</th>\n",
       "      <th>dropoff_distance_to_lgr</th>\n",
       "      <th>long_diff</th>\n",
       "      <th>lat_diff</th>\n",
       "      <th>manhattan_dist</th>\n",
       "    </tr>\n",
       "  </thead>\n",
       "  <tbody>\n",
       "    <tr>\n",
       "      <th>9862035</th>\n",
       "      <td>-73.97781</td>\n",
       "      <td>40.74659</td>\n",
       "      <td>-73.96574</td>\n",
       "      <td>40.76401</td>\n",
       "      <td>3</td>\n",
       "      <td>11</td>\n",
       "      <td>4</td>\n",
       "      <td>11</td>\n",
       "      <td>2011</td>\n",
       "      <td>229.44496</td>\n",
       "      <td>0.29802</td>\n",
       "      <td>0.30336</td>\n",
       "      <td>0.25378</td>\n",
       "      <td>0.28327</td>\n",
       "      <td>0.13122</td>\n",
       "      <td>0.10173</td>\n",
       "      <td>0.01207</td>\n",
       "      <td>0.01742</td>\n",
       "      <td>0.02949</td>\n",
       "    </tr>\n",
       "    <tr>\n",
       "      <th>7658442</th>\n",
       "      <td>-73.98274</td>\n",
       "      <td>40.76411</td>\n",
       "      <td>-73.97974</td>\n",
       "      <td>40.75613</td>\n",
       "      <td>1</td>\n",
       "      <td>19</td>\n",
       "      <td>27</td>\n",
       "      <td>5</td>\n",
       "      <td>2011</td>\n",
       "      <td>229.46740</td>\n",
       "      <td>0.32046</td>\n",
       "      <td>0.30948</td>\n",
       "      <td>0.26637</td>\n",
       "      <td>0.26139</td>\n",
       "      <td>0.11863</td>\n",
       "      <td>0.12361</td>\n",
       "      <td>0.00299</td>\n",
       "      <td>-0.00798</td>\n",
       "      <td>0.01098</td>\n",
       "    </tr>\n",
       "    <tr>\n",
       "      <th>934617</th>\n",
       "      <td>-73.95678</td>\n",
       "      <td>40.78007</td>\n",
       "      <td>-73.96651</td>\n",
       "      <td>40.76727</td>\n",
       "      <td>1</td>\n",
       "      <td>14</td>\n",
       "      <td>25</td>\n",
       "      <td>1</td>\n",
       "      <td>2010</td>\n",
       "      <td>229.45741</td>\n",
       "      <td>0.31046</td>\n",
       "      <td>0.30739</td>\n",
       "      <td>0.30829</td>\n",
       "      <td>0.28576</td>\n",
       "      <td>0.09685</td>\n",
       "      <td>0.09924</td>\n",
       "      <td>-0.00973</td>\n",
       "      <td>-0.01280</td>\n",
       "      <td>0.02253</td>\n",
       "    </tr>\n",
       "    <tr>\n",
       "      <th>4822154</th>\n",
       "      <td>-73.98793</td>\n",
       "      <td>40.72309</td>\n",
       "      <td>-73.97712</td>\n",
       "      <td>40.75202</td>\n",
       "      <td>1</td>\n",
       "      <td>7</td>\n",
       "      <td>11</td>\n",
       "      <td>5</td>\n",
       "      <td>2011</td>\n",
       "      <td>229.43157</td>\n",
       "      <td>0.28463</td>\n",
       "      <td>0.30274</td>\n",
       "      <td>0.22015</td>\n",
       "      <td>0.25990</td>\n",
       "      <td>0.16484</td>\n",
       "      <td>0.12510</td>\n",
       "      <td>0.01081</td>\n",
       "      <td>0.02893</td>\n",
       "      <td>0.03974</td>\n",
       "    </tr>\n",
       "    <tr>\n",
       "      <th>7110616</th>\n",
       "      <td>-73.97765</td>\n",
       "      <td>40.75774</td>\n",
       "      <td>-73.96173</td>\n",
       "      <td>40.77977</td>\n",
       "      <td>1</td>\n",
       "      <td>12</td>\n",
       "      <td>26</td>\n",
       "      <td>12</td>\n",
       "      <td>2014</td>\n",
       "      <td>229.45595</td>\n",
       "      <td>0.30900</td>\n",
       "      <td>0.31511</td>\n",
       "      <td>0.26509</td>\n",
       "      <td>0.30304</td>\n",
       "      <td>0.11991</td>\n",
       "      <td>0.10150</td>\n",
       "      <td>0.01592</td>\n",
       "      <td>0.02203</td>\n",
       "      <td>0.03795</td>\n",
       "    </tr>\n",
       "  </tbody>\n",
       "</table>\n",
       "</div>"
      ],
      "text/plain": [
       "         pickup_longitude  pickup_latitude  dropoff_longitude  \\\n",
       "9862035         -73.97781         40.74659          -73.96574   \n",
       "7658442         -73.98274         40.76411          -73.97974   \n",
       "934617          -73.95678         40.78007          -73.96651   \n",
       "4822154         -73.98793         40.72309          -73.97712   \n",
       "7110616         -73.97765         40.75774          -73.96173   \n",
       "\n",
       "         dropoff_latitude  passenger_count  hour  day  month  year  \\\n",
       "9862035          40.76401                3    11    4     11  2011   \n",
       "7658442          40.75613                1    19   27      5  2011   \n",
       "934617           40.76727                1    14   25      1  2010   \n",
       "4822154          40.75202                1     7   11      5  2011   \n",
       "7110616          40.77977                1    12   26     12  2014   \n",
       "\n",
       "         distance_to_center  pickup_distance_to_jfk  dropoff_distance_to_jfk  \\\n",
       "9862035           229.44496                 0.29802                  0.30336   \n",
       "7658442           229.46740                 0.32046                  0.30948   \n",
       "934617            229.45741                 0.31046                  0.30739   \n",
       "4822154           229.43157                 0.28463                  0.30274   \n",
       "7110616           229.45595                 0.30900                  0.31511   \n",
       "\n",
       "         pickup_distance_to_ewr  dropoff_distance_to_ewr  \\\n",
       "9862035                 0.25378                  0.28327   \n",
       "7658442                 0.26637                  0.26139   \n",
       "934617                  0.30829                  0.28576   \n",
       "4822154                 0.22015                  0.25990   \n",
       "7110616                 0.26509                  0.30304   \n",
       "\n",
       "         pickup_distance_to_lgr  dropoff_distance_to_lgr  long_diff  lat_diff  \\\n",
       "9862035                 0.13122                  0.10173    0.01207   0.01742   \n",
       "7658442                 0.11863                  0.12361    0.00299  -0.00798   \n",
       "934617                  0.09685                  0.09924   -0.00973  -0.01280   \n",
       "4822154                 0.16484                  0.12510    0.01081   0.02893   \n",
       "7110616                 0.11991                  0.10150    0.01592   0.02203   \n",
       "\n",
       "         manhattan_dist  \n",
       "9862035         0.02949  \n",
       "7658442         0.01098  \n",
       "934617          0.02253  \n",
       "4822154         0.03974  \n",
       "7110616         0.03795  "
      ]
     },
     "execution_count": 40,
     "metadata": {},
     "output_type": "execute_result"
    }
   ],
   "source": [
    "X_train.head()"
   ]
  },
  {
   "cell_type": "code",
   "execution_count": 41,
   "id": "d8117bf5",
   "metadata": {
    "execution": {
     "iopub.execute_input": "2022-08-10T19:38:38.488752Z",
     "iopub.status.busy": "2022-08-10T19:38:38.487780Z",
     "iopub.status.idle": "2022-08-10T19:38:38.495876Z",
     "shell.execute_reply": "2022-08-10T19:38:38.494998Z"
    },
    "papermill": {
     "duration": 0.038166,
     "end_time": "2022-08-10T19:38:38.498143",
     "exception": false,
     "start_time": "2022-08-10T19:38:38.459977",
     "status": "completed"
    },
    "tags": []
   },
   "outputs": [],
   "source": [
    "del(X)\n",
    "del(y)"
   ]
  },
  {
   "cell_type": "markdown",
   "id": "3fd776a0",
   "metadata": {
    "papermill": {
     "duration": 0.026537,
     "end_time": "2022-08-10T19:38:38.551085",
     "exception": false,
     "start_time": "2022-08-10T19:38:38.524548",
     "status": "completed"
    },
    "tags": []
   },
   "source": [
    "## Commented because training takes too long during submit, commented on the results below"
   ]
  },
  {
   "cell_type": "markdown",
   "id": "fa50db09",
   "metadata": {
    "papermill": {
     "duration": 0.026518,
     "end_time": "2022-08-10T19:38:38.604054",
     "exception": false,
     "start_time": "2022-08-10T19:38:38.577536",
     "status": "completed"
    },
    "tags": []
   },
   "source": [
    "## Linear Regression"
   ]
  },
  {
   "cell_type": "code",
   "execution_count": 42,
   "id": "78174e77",
   "metadata": {
    "execution": {
     "iopub.execute_input": "2022-08-10T19:38:38.658663Z",
     "iopub.status.busy": "2022-08-10T19:38:38.657933Z",
     "iopub.status.idle": "2022-08-10T19:38:38.662161Z",
     "shell.execute_reply": "2022-08-10T19:38:38.661326Z"
    },
    "papermill": {
     "duration": 0.033874,
     "end_time": "2022-08-10T19:38:38.664182",
     "exception": false,
     "start_time": "2022-08-10T19:38:38.630308",
     "status": "completed"
    },
    "tags": []
   },
   "outputs": [],
   "source": [
    "# from sklearn.linear_model import LinearRegression\n",
    "\n",
    "# reg_model = Pipeline((\n",
    "#         (\"standard_scaler\", StandardScaler()),\n",
    "#         (\"lin_reg\", LinearRegression()),\n",
    "#     ))\n",
    "# reg_model.fit(X_train, y_train)\n",
    "\n",
    "# y_train_pred = reg_model.predict(X_train)\n",
    "# y_val_pred = reg_model.predict(X_val)\n",
    "\n",
    "# print(\"Linear Regression Train RMSE: \", np.sqrt(mse(y_train, y_train_pred)))\n",
    "# print(\"Linear Regression Validation RMSE: \", np.sqrt(mse(y_val, y_val_pred)))\n"
   ]
  },
  {
   "cell_type": "markdown",
   "id": "fd388db6",
   "metadata": {
    "papermill": {
     "duration": 0.026331,
     "end_time": "2022-08-10T19:38:38.717267",
     "exception": false,
     "start_time": "2022-08-10T19:38:38.690936",
     "status": "completed"
    },
    "tags": []
   },
   "source": [
    "## Random Forest"
   ]
  },
  {
   "cell_type": "code",
   "execution_count": 43,
   "id": "47aeeae4",
   "metadata": {
    "execution": {
     "iopub.execute_input": "2022-08-10T19:38:38.772805Z",
     "iopub.status.busy": "2022-08-10T19:38:38.772030Z",
     "iopub.status.idle": "2022-08-10T19:38:38.777196Z",
     "shell.execute_reply": "2022-08-10T19:38:38.775932Z"
    },
    "papermill": {
     "duration": 0.035797,
     "end_time": "2022-08-10T19:38:38.779625",
     "exception": false,
     "start_time": "2022-08-10T19:38:38.743828",
     "status": "completed"
    },
    "tags": []
   },
   "outputs": [],
   "source": [
    "# from sklearn.ensemble import RandomForestRegressor\n",
    "\n",
    "# reg_model = Pipeline((\n",
    "#         (\"standard_scaler\", StandardScaler()),\n",
    "#         (\"lin_reg\", RandomForestRegressor(max_depth=2, random_state=42, n_jobs=-1, verbose=True, n_estimators=100)),\n",
    "#     ))\n",
    "# reg_model.fit(X_train, y_train)\n",
    "\n",
    "# y_train_pred = reg_model.predict(X_train)\n",
    "# y_val_pred = reg_model.predict(X_val)\n",
    "\n",
    "# print(\"Random Forest Train RMSE: \", np.sqrt(mse(y_train, y_train_pred)))\n",
    "# print(\"Random Forest Validation RMSE: \", np.sqrt(mse(y_val, y_val_pred)))\n",
    "\n"
   ]
  },
  {
   "cell_type": "markdown",
   "id": "d967d997",
   "metadata": {
    "papermill": {
     "duration": 0.026108,
     "end_time": "2022-08-10T19:38:38.833127",
     "exception": false,
     "start_time": "2022-08-10T19:38:38.807019",
     "status": "completed"
    },
    "tags": []
   },
   "source": [
    "## Extreme Gradient Boosting (XGBoost)"
   ]
  },
  {
   "cell_type": "markdown",
   "id": "45948042",
   "metadata": {
    "papermill": {
     "duration": 0.026581,
     "end_time": "2022-08-10T19:38:38.886275",
     "exception": false,
     "start_time": "2022-08-10T19:38:38.859694",
     "status": "completed"
    },
    "tags": []
   },
   "source": [
    "### Parameter tuning was taking too long, so I used parameters from [this](https://www.kaggle.com/code/btyuhas/bayesian-optimization-with-xgboost) notebook, played around for a while and these turned out to work pretty well."
   ]
  },
  {
   "cell_type": "code",
   "execution_count": 44,
   "id": "34ec1680",
   "metadata": {
    "execution": {
     "iopub.execute_input": "2022-08-10T19:38:38.941227Z",
     "iopub.status.busy": "2022-08-10T19:38:38.940794Z",
     "iopub.status.idle": "2022-08-10T19:38:38.947583Z",
     "shell.execute_reply": "2022-08-10T19:38:38.946442Z"
    },
    "papermill": {
     "duration": 0.037344,
     "end_time": "2022-08-10T19:38:38.949853",
     "exception": false,
     "start_time": "2022-08-10T19:38:38.912509",
     "status": "completed"
    },
    "tags": []
   },
   "outputs": [],
   "source": [
    "def XGBoost(X_train,X_test,y_train,y_test):\n",
    "    dtrain = xgb.DMatrix(X_train,label=y_train)\n",
    "    dtest = xgb.DMatrix(X_test,label=y_test)\n",
    "\n",
    "    return xgb.train(params={'objective':'reg:linear','eval_metric':'rmse', 'max_depth':7, 'colsample_bytree':0.9, 'gamma':1}\n",
    "                    ,dtrain=dtrain,num_boost_round=400, \n",
    "                    early_stopping_rounds=30,evals=[(dtest,'test')])"
   ]
  },
  {
   "cell_type": "code",
   "execution_count": 45,
   "id": "c60b79b1",
   "metadata": {
    "execution": {
     "iopub.execute_input": "2022-08-10T19:38:39.005375Z",
     "iopub.status.busy": "2022-08-10T19:38:39.004723Z",
     "iopub.status.idle": "2022-08-10T19:50:00.110009Z",
     "shell.execute_reply": "2022-08-10T19:50:00.108598Z"
    },
    "papermill": {
     "duration": 681.1371,
     "end_time": "2022-08-10T19:50:00.113299",
     "exception": false,
     "start_time": "2022-08-10T19:38:38.976199",
     "status": "completed"
    },
    "tags": []
   },
   "outputs": [
    {
     "name": "stdout",
     "output_type": "stream",
     "text": [
      "[19:38:43] WARNING: ../src/objective/regression_obj.cu:203: reg:linear is now deprecated in favor of reg:squarederror.\n",
      "[0]\ttest-rmse:10.57464\n",
      "[1]\ttest-rmse:7.96779\n",
      "[2]\ttest-rmse:6.28254\n",
      "[3]\ttest-rmse:5.24901\n",
      "[4]\ttest-rmse:4.63494\n",
      "[5]\ttest-rmse:4.27956\n",
      "[6]\ttest-rmse:4.07967\n",
      "[7]\ttest-rmse:3.97116\n",
      "[8]\ttest-rmse:3.89294\n",
      "[9]\ttest-rmse:3.84794\n",
      "[10]\ttest-rmse:3.80728\n",
      "[11]\ttest-rmse:3.78454\n",
      "[12]\ttest-rmse:3.76426\n",
      "[13]\ttest-rmse:3.74928\n",
      "[14]\ttest-rmse:3.74299\n",
      "[15]\ttest-rmse:3.73065\n",
      "[16]\ttest-rmse:3.71714\n",
      "[17]\ttest-rmse:3.71179\n",
      "[18]\ttest-rmse:3.69558\n",
      "[19]\ttest-rmse:3.68859\n",
      "[20]\ttest-rmse:3.68002\n",
      "[21]\ttest-rmse:3.66678\n",
      "[22]\ttest-rmse:3.66300\n",
      "[23]\ttest-rmse:3.66022\n",
      "[24]\ttest-rmse:3.65448\n",
      "[25]\ttest-rmse:3.64918\n",
      "[26]\ttest-rmse:3.64625\n",
      "[27]\ttest-rmse:3.63708\n",
      "[28]\ttest-rmse:3.62997\n",
      "[29]\ttest-rmse:3.62049\n",
      "[30]\ttest-rmse:3.61758\n",
      "[31]\ttest-rmse:3.61644\n",
      "[32]\ttest-rmse:3.61470\n",
      "[33]\ttest-rmse:3.61045\n",
      "[34]\ttest-rmse:3.60669\n",
      "[35]\ttest-rmse:3.60315\n",
      "[36]\ttest-rmse:3.60090\n",
      "[37]\ttest-rmse:3.59837\n",
      "[38]\ttest-rmse:3.59629\n",
      "[39]\ttest-rmse:3.59434\n",
      "[40]\ttest-rmse:3.59116\n",
      "[41]\ttest-rmse:3.58723\n",
      "[42]\ttest-rmse:3.58406\n",
      "[43]\ttest-rmse:3.58230\n",
      "[44]\ttest-rmse:3.57902\n",
      "[45]\ttest-rmse:3.57798\n",
      "[46]\ttest-rmse:3.57664\n",
      "[47]\ttest-rmse:3.57525\n",
      "[48]\ttest-rmse:3.57418\n",
      "[49]\ttest-rmse:3.57251\n",
      "[50]\ttest-rmse:3.56626\n",
      "[51]\ttest-rmse:3.56505\n",
      "[52]\ttest-rmse:3.56314\n",
      "[53]\ttest-rmse:3.55989\n",
      "[54]\ttest-rmse:3.55860\n",
      "[55]\ttest-rmse:3.55713\n",
      "[56]\ttest-rmse:3.55697\n",
      "[57]\ttest-rmse:3.55559\n",
      "[58]\ttest-rmse:3.55466\n",
      "[59]\ttest-rmse:3.55268\n",
      "[60]\ttest-rmse:3.55191\n",
      "[61]\ttest-rmse:3.54872\n",
      "[62]\ttest-rmse:3.54667\n",
      "[63]\ttest-rmse:3.54381\n",
      "[64]\ttest-rmse:3.54184\n",
      "[65]\ttest-rmse:3.54023\n",
      "[66]\ttest-rmse:3.53953\n",
      "[67]\ttest-rmse:3.53863\n",
      "[68]\ttest-rmse:3.53791\n",
      "[69]\ttest-rmse:3.53733\n",
      "[70]\ttest-rmse:3.53691\n",
      "[71]\ttest-rmse:3.53528\n",
      "[72]\ttest-rmse:3.53424\n",
      "[73]\ttest-rmse:3.53139\n",
      "[74]\ttest-rmse:3.53007\n",
      "[75]\ttest-rmse:3.52906\n",
      "[76]\ttest-rmse:3.52851\n",
      "[77]\ttest-rmse:3.52661\n",
      "[78]\ttest-rmse:3.52491\n",
      "[79]\ttest-rmse:3.52452\n",
      "[80]\ttest-rmse:3.52304\n",
      "[81]\ttest-rmse:3.52269\n",
      "[82]\ttest-rmse:3.52214\n",
      "[83]\ttest-rmse:3.52198\n",
      "[84]\ttest-rmse:3.52146\n",
      "[85]\ttest-rmse:3.51976\n",
      "[86]\ttest-rmse:3.51829\n",
      "[87]\ttest-rmse:3.51766\n",
      "[88]\ttest-rmse:3.51665\n",
      "[89]\ttest-rmse:3.51593\n",
      "[90]\ttest-rmse:3.51516\n",
      "[91]\ttest-rmse:3.51377\n",
      "[92]\ttest-rmse:3.51312\n",
      "[93]\ttest-rmse:3.51241\n",
      "[94]\ttest-rmse:3.51165\n",
      "[95]\ttest-rmse:3.51102\n",
      "[96]\ttest-rmse:3.51061\n",
      "[97]\ttest-rmse:3.51000\n",
      "[98]\ttest-rmse:3.50982\n",
      "[99]\ttest-rmse:3.50922\n",
      "[100]\ttest-rmse:3.50887\n",
      "[101]\ttest-rmse:3.50861\n",
      "[102]\ttest-rmse:3.50874\n",
      "[103]\ttest-rmse:3.50746\n",
      "[104]\ttest-rmse:3.50688\n",
      "[105]\ttest-rmse:3.50682\n",
      "[106]\ttest-rmse:3.50551\n",
      "[107]\ttest-rmse:3.50504\n",
      "[108]\ttest-rmse:3.50496\n",
      "[109]\ttest-rmse:3.50452\n",
      "[110]\ttest-rmse:3.50118\n",
      "[111]\ttest-rmse:3.50105\n",
      "[112]\ttest-rmse:3.50085\n",
      "[113]\ttest-rmse:3.49938\n",
      "[114]\ttest-rmse:3.49909\n",
      "[115]\ttest-rmse:3.49858\n",
      "[116]\ttest-rmse:3.49844\n",
      "[117]\ttest-rmse:3.49768\n",
      "[118]\ttest-rmse:3.49782\n",
      "[119]\ttest-rmse:3.49734\n",
      "[120]\ttest-rmse:3.49670\n",
      "[121]\ttest-rmse:3.49597\n",
      "[122]\ttest-rmse:3.49478\n",
      "[123]\ttest-rmse:3.49438\n",
      "[124]\ttest-rmse:3.49388\n",
      "[125]\ttest-rmse:3.49370\n",
      "[126]\ttest-rmse:3.49345\n",
      "[127]\ttest-rmse:3.49261\n",
      "[128]\ttest-rmse:3.49223\n",
      "[129]\ttest-rmse:3.49148\n",
      "[130]\ttest-rmse:3.49108\n",
      "[131]\ttest-rmse:3.49049\n",
      "[132]\ttest-rmse:3.48952\n",
      "[133]\ttest-rmse:3.48905\n",
      "[134]\ttest-rmse:3.48838\n",
      "[135]\ttest-rmse:3.48768\n",
      "[136]\ttest-rmse:3.48782\n",
      "[137]\ttest-rmse:3.48726\n",
      "[138]\ttest-rmse:3.48715\n",
      "[139]\ttest-rmse:3.48706\n",
      "[140]\ttest-rmse:3.48727\n",
      "[141]\ttest-rmse:3.48717\n",
      "[142]\ttest-rmse:3.48655\n",
      "[143]\ttest-rmse:3.48619\n",
      "[144]\ttest-rmse:3.48633\n",
      "[145]\ttest-rmse:3.48723\n",
      "[146]\ttest-rmse:3.48698\n",
      "[147]\ttest-rmse:3.48689\n",
      "[148]\ttest-rmse:3.48655\n",
      "[149]\ttest-rmse:3.48498\n",
      "[150]\ttest-rmse:3.48406\n",
      "[151]\ttest-rmse:3.48287\n",
      "[152]\ttest-rmse:3.48263\n",
      "[153]\ttest-rmse:3.48250\n",
      "[154]\ttest-rmse:3.48191\n",
      "[155]\ttest-rmse:3.48162\n",
      "[156]\ttest-rmse:3.48205\n",
      "[157]\ttest-rmse:3.48203\n",
      "[158]\ttest-rmse:3.48190\n",
      "[159]\ttest-rmse:3.48182\n",
      "[160]\ttest-rmse:3.48164\n",
      "[161]\ttest-rmse:3.48151\n",
      "[162]\ttest-rmse:3.48136\n",
      "[163]\ttest-rmse:3.48137\n",
      "[164]\ttest-rmse:3.48062\n",
      "[165]\ttest-rmse:3.48050\n",
      "[166]\ttest-rmse:3.48064\n",
      "[167]\ttest-rmse:3.48068\n",
      "[168]\ttest-rmse:3.48035\n",
      "[169]\ttest-rmse:3.48011\n",
      "[170]\ttest-rmse:3.47965\n",
      "[171]\ttest-rmse:3.47961\n",
      "[172]\ttest-rmse:3.47888\n",
      "[173]\ttest-rmse:3.47888\n",
      "[174]\ttest-rmse:3.47903\n",
      "[175]\ttest-rmse:3.47865\n",
      "[176]\ttest-rmse:3.47858\n",
      "[177]\ttest-rmse:3.47867\n",
      "[178]\ttest-rmse:3.47837\n",
      "[179]\ttest-rmse:3.47779\n",
      "[180]\ttest-rmse:3.47749\n",
      "[181]\ttest-rmse:3.47733\n",
      "[182]\ttest-rmse:3.47700\n",
      "[183]\ttest-rmse:3.47694\n",
      "[184]\ttest-rmse:3.47693\n",
      "[185]\ttest-rmse:3.47668\n",
      "[186]\ttest-rmse:3.47640\n",
      "[187]\ttest-rmse:3.47579\n",
      "[188]\ttest-rmse:3.47539\n",
      "[189]\ttest-rmse:3.47470\n",
      "[190]\ttest-rmse:3.47460\n",
      "[191]\ttest-rmse:3.47413\n",
      "[192]\ttest-rmse:3.47372\n",
      "[193]\ttest-rmse:3.47398\n",
      "[194]\ttest-rmse:3.47331\n",
      "[195]\ttest-rmse:3.47322\n",
      "[196]\ttest-rmse:3.47284\n",
      "[197]\ttest-rmse:3.47250\n",
      "[198]\ttest-rmse:3.47218\n",
      "[199]\ttest-rmse:3.47168\n",
      "[200]\ttest-rmse:3.47144\n",
      "[201]\ttest-rmse:3.47129\n",
      "[202]\ttest-rmse:3.47195\n",
      "[203]\ttest-rmse:3.47208\n",
      "[204]\ttest-rmse:3.47194\n",
      "[205]\ttest-rmse:3.47163\n",
      "[206]\ttest-rmse:3.47160\n",
      "[207]\ttest-rmse:3.47160\n",
      "[208]\ttest-rmse:3.47119\n",
      "[209]\ttest-rmse:3.47156\n",
      "[210]\ttest-rmse:3.47110\n",
      "[211]\ttest-rmse:3.47083\n",
      "[212]\ttest-rmse:3.47069\n",
      "[213]\ttest-rmse:3.47006\n",
      "[214]\ttest-rmse:3.46972\n",
      "[215]\ttest-rmse:3.46973\n",
      "[216]\ttest-rmse:3.46970\n",
      "[217]\ttest-rmse:3.46931\n",
      "[218]\ttest-rmse:3.46910\n",
      "[219]\ttest-rmse:3.46883\n",
      "[220]\ttest-rmse:3.46901\n",
      "[221]\ttest-rmse:3.46889\n",
      "[222]\ttest-rmse:3.46859\n",
      "[223]\ttest-rmse:3.46894\n",
      "[224]\ttest-rmse:3.46884\n",
      "[225]\ttest-rmse:3.46937\n",
      "[226]\ttest-rmse:3.46948\n",
      "[227]\ttest-rmse:3.46967\n",
      "[228]\ttest-rmse:3.46947\n",
      "[229]\ttest-rmse:3.46903\n",
      "[230]\ttest-rmse:3.46900\n",
      "[231]\ttest-rmse:3.46902\n",
      "[232]\ttest-rmse:3.46886\n",
      "[233]\ttest-rmse:3.46900\n",
      "[234]\ttest-rmse:3.46886\n",
      "[235]\ttest-rmse:3.46869\n",
      "[236]\ttest-rmse:3.46841\n",
      "[237]\ttest-rmse:3.46807\n",
      "[238]\ttest-rmse:3.46753\n",
      "[239]\ttest-rmse:3.46752\n",
      "[240]\ttest-rmse:3.46727\n",
      "[241]\ttest-rmse:3.46720\n",
      "[242]\ttest-rmse:3.46689\n",
      "[243]\ttest-rmse:3.46671\n",
      "[244]\ttest-rmse:3.46662\n",
      "[245]\ttest-rmse:3.46642\n",
      "[246]\ttest-rmse:3.46681\n",
      "[247]\ttest-rmse:3.46744\n",
      "[248]\ttest-rmse:3.46749\n",
      "[249]\ttest-rmse:3.46765\n",
      "[250]\ttest-rmse:3.46713\n",
      "[251]\ttest-rmse:3.46737\n",
      "[252]\ttest-rmse:3.46731\n",
      "[253]\ttest-rmse:3.46709\n",
      "[254]\ttest-rmse:3.46706\n",
      "[255]\ttest-rmse:3.46697\n",
      "[256]\ttest-rmse:3.46677\n",
      "[257]\ttest-rmse:3.46666\n",
      "[258]\ttest-rmse:3.46679\n",
      "[259]\ttest-rmse:3.46637\n",
      "[260]\ttest-rmse:3.46634\n",
      "[261]\ttest-rmse:3.46627\n",
      "[262]\ttest-rmse:3.46589\n",
      "[263]\ttest-rmse:3.46590\n",
      "[264]\ttest-rmse:3.46612\n",
      "[265]\ttest-rmse:3.46591\n",
      "[266]\ttest-rmse:3.46547\n",
      "[267]\ttest-rmse:3.46545\n",
      "[268]\ttest-rmse:3.46544\n",
      "[269]\ttest-rmse:3.46481\n",
      "[270]\ttest-rmse:3.46498\n",
      "[271]\ttest-rmse:3.46497\n",
      "[272]\ttest-rmse:3.46498\n",
      "[273]\ttest-rmse:3.46517\n",
      "[274]\ttest-rmse:3.46518\n",
      "[275]\ttest-rmse:3.46414\n",
      "[276]\ttest-rmse:3.46391\n",
      "[277]\ttest-rmse:3.46419\n",
      "[278]\ttest-rmse:3.46398\n",
      "[279]\ttest-rmse:3.46407\n",
      "[280]\ttest-rmse:3.46406\n",
      "[281]\ttest-rmse:3.46375\n",
      "[282]\ttest-rmse:3.46348\n",
      "[283]\ttest-rmse:3.46325\n",
      "[284]\ttest-rmse:3.46348\n",
      "[285]\ttest-rmse:3.46373\n",
      "[286]\ttest-rmse:3.46352\n",
      "[287]\ttest-rmse:3.46322\n",
      "[288]\ttest-rmse:3.46279\n",
      "[289]\ttest-rmse:3.46295\n",
      "[290]\ttest-rmse:3.46276\n",
      "[291]\ttest-rmse:3.46240\n",
      "[292]\ttest-rmse:3.46246\n",
      "[293]\ttest-rmse:3.46236\n",
      "[294]\ttest-rmse:3.46288\n",
      "[295]\ttest-rmse:3.46273\n",
      "[296]\ttest-rmse:3.46269\n",
      "[297]\ttest-rmse:3.46272\n",
      "[298]\ttest-rmse:3.46262\n",
      "[299]\ttest-rmse:3.46231\n",
      "[300]\ttest-rmse:3.46248\n",
      "[301]\ttest-rmse:3.46304\n",
      "[302]\ttest-rmse:3.46264\n",
      "[303]\ttest-rmse:3.46260\n",
      "[304]\ttest-rmse:3.46285\n",
      "[305]\ttest-rmse:3.46261\n",
      "[306]\ttest-rmse:3.46257\n",
      "[307]\ttest-rmse:3.46232\n",
      "[308]\ttest-rmse:3.46223\n",
      "[309]\ttest-rmse:3.46229\n",
      "[310]\ttest-rmse:3.46207\n",
      "[311]\ttest-rmse:3.46187\n",
      "[312]\ttest-rmse:3.46184\n",
      "[313]\ttest-rmse:3.46159\n",
      "[314]\ttest-rmse:3.46119\n",
      "[315]\ttest-rmse:3.46123\n",
      "[316]\ttest-rmse:3.46094\n",
      "[317]\ttest-rmse:3.46081\n",
      "[318]\ttest-rmse:3.46075\n",
      "[319]\ttest-rmse:3.46093\n",
      "[320]\ttest-rmse:3.46089\n",
      "[321]\ttest-rmse:3.46062\n",
      "[322]\ttest-rmse:3.46008\n",
      "[323]\ttest-rmse:3.45959\n",
      "[324]\ttest-rmse:3.45964\n",
      "[325]\ttest-rmse:3.45948\n",
      "[326]\ttest-rmse:3.45941\n",
      "[327]\ttest-rmse:3.45916\n",
      "[328]\ttest-rmse:3.45897\n",
      "[329]\ttest-rmse:3.45881\n",
      "[330]\ttest-rmse:3.45892\n",
      "[331]\ttest-rmse:3.45895\n",
      "[332]\ttest-rmse:3.45906\n",
      "[333]\ttest-rmse:3.45878\n",
      "[334]\ttest-rmse:3.45941\n",
      "[335]\ttest-rmse:3.45932\n",
      "[336]\ttest-rmse:3.45899\n",
      "[337]\ttest-rmse:3.45883\n",
      "[338]\ttest-rmse:3.45863\n",
      "[339]\ttest-rmse:3.45876\n",
      "[340]\ttest-rmse:3.45870\n",
      "[341]\ttest-rmse:3.45885\n",
      "[342]\ttest-rmse:3.45848\n",
      "[343]\ttest-rmse:3.45828\n",
      "[344]\ttest-rmse:3.45793\n",
      "[345]\ttest-rmse:3.45831\n",
      "[346]\ttest-rmse:3.45823\n",
      "[347]\ttest-rmse:3.45840\n",
      "[348]\ttest-rmse:3.45856\n",
      "[349]\ttest-rmse:3.45855\n",
      "[350]\ttest-rmse:3.45846\n",
      "[351]\ttest-rmse:3.45856\n",
      "[352]\ttest-rmse:3.45887\n",
      "[353]\ttest-rmse:3.45868\n",
      "[354]\ttest-rmse:3.45849\n",
      "[355]\ttest-rmse:3.45861\n",
      "[356]\ttest-rmse:3.45860\n",
      "[357]\ttest-rmse:3.45845\n",
      "[358]\ttest-rmse:3.45823\n",
      "[359]\ttest-rmse:3.45828\n",
      "[360]\ttest-rmse:3.45780\n",
      "[361]\ttest-rmse:3.45805\n",
      "[362]\ttest-rmse:3.45855\n",
      "[363]\ttest-rmse:3.45813\n",
      "[364]\ttest-rmse:3.45774\n",
      "[365]\ttest-rmse:3.45773\n",
      "[366]\ttest-rmse:3.45793\n",
      "[367]\ttest-rmse:3.45793\n",
      "[368]\ttest-rmse:3.45811\n",
      "[369]\ttest-rmse:3.45798\n",
      "[370]\ttest-rmse:3.45830\n",
      "[371]\ttest-rmse:3.45851\n",
      "[372]\ttest-rmse:3.45837\n",
      "[373]\ttest-rmse:3.45824\n",
      "[374]\ttest-rmse:3.45819\n",
      "[375]\ttest-rmse:3.45822\n",
      "[376]\ttest-rmse:3.45816\n",
      "[377]\ttest-rmse:3.45779\n",
      "[378]\ttest-rmse:3.45792\n",
      "[379]\ttest-rmse:3.45774\n",
      "[380]\ttest-rmse:3.45768\n",
      "[381]\ttest-rmse:3.45779\n",
      "[382]\ttest-rmse:3.45796\n",
      "[383]\ttest-rmse:3.45786\n",
      "[384]\ttest-rmse:3.45783\n",
      "[385]\ttest-rmse:3.45797\n",
      "[386]\ttest-rmse:3.45755\n",
      "[387]\ttest-rmse:3.45802\n",
      "[388]\ttest-rmse:3.45774\n",
      "[389]\ttest-rmse:3.45750\n",
      "[390]\ttest-rmse:3.45721\n",
      "[391]\ttest-rmse:3.45737\n",
      "[392]\ttest-rmse:3.45748\n",
      "[393]\ttest-rmse:3.45713\n",
      "[394]\ttest-rmse:3.45708\n",
      "[395]\ttest-rmse:3.45723\n",
      "[396]\ttest-rmse:3.45744\n",
      "[397]\ttest-rmse:3.45764\n",
      "[398]\ttest-rmse:3.45739\n",
      "[399]\ttest-rmse:3.45780\n"
     ]
    }
   ],
   "source": [
    "xgb_model = XGBoost(X_train, X_val, y_train, y_val)"
   ]
  },
  {
   "cell_type": "code",
   "execution_count": 46,
   "id": "838c0392",
   "metadata": {
    "execution": {
     "iopub.execute_input": "2022-08-10T19:50:00.215540Z",
     "iopub.status.busy": "2022-08-10T19:50:00.214857Z",
     "iopub.status.idle": "2022-08-10T19:50:53.551620Z",
     "shell.execute_reply": "2022-08-10T19:50:53.550547Z"
    },
    "papermill": {
     "duration": 53.391694,
     "end_time": "2022-08-10T19:50:53.554856",
     "exception": false,
     "start_time": "2022-08-10T19:50:00.163162",
     "status": "completed"
    },
    "tags": []
   },
   "outputs": [
    {
     "name": "stderr",
     "output_type": "stream",
     "text": [
      "/opt/conda/lib/python3.7/site-packages/xgboost/core.py:93: UserWarning: ntree_limit is deprecated, use `iteration_range` or model slicing instead.\n",
      "  UserWarning\n"
     ]
    }
   ],
   "source": [
    "y_train_pred = xgb_model.predict(xgb.DMatrix(X_train), ntree_limit = xgb_model.best_iteration)\n",
    "y_val_pred = xgb_model.predict(xgb.DMatrix(X_val), ntree_limit = xgb_model.best_iteration)"
   ]
  },
  {
   "cell_type": "code",
   "execution_count": 47,
   "id": "756e439f",
   "metadata": {
    "execution": {
     "iopub.execute_input": "2022-08-10T19:50:53.660728Z",
     "iopub.status.busy": "2022-08-10T19:50:53.659990Z",
     "iopub.status.idle": "2022-08-10T19:50:53.735004Z",
     "shell.execute_reply": "2022-08-10T19:50:53.733039Z"
    },
    "papermill": {
     "duration": 0.131369,
     "end_time": "2022-08-10T19:50:53.738474",
     "exception": false,
     "start_time": "2022-08-10T19:50:53.607105",
     "status": "completed"
    },
    "tags": []
   },
   "outputs": [
    {
     "name": "stdout",
     "output_type": "stream",
     "text": [
      "Train set error:  3.1490281686166424\n",
      "Validation set error:  3.4571341119704186\n"
     ]
    }
   ],
   "source": [
    "print(\"Train set error: \", np.sqrt(mse(y_train, y_train_pred)))\n",
    "print(\"Validation set error: \", np.sqrt(mse(y_val, y_val_pred)))\n"
   ]
  },
  {
   "cell_type": "markdown",
   "id": "ebedd71f",
   "metadata": {
    "papermill": {
     "duration": 0.051257,
     "end_time": "2022-08-10T19:50:53.842142",
     "exception": false,
     "start_time": "2022-08-10T19:50:53.790885",
     "status": "completed"
    },
    "tags": []
   },
   "source": [
    "## As expected, the linear model performs the worst on both train and validation sets. The XGBoost outperforms the Random Forest model, however I haven't done any parameter tuning on it so the actual results might be closer."
   ]
  },
  {
   "cell_type": "code",
   "execution_count": 48,
   "id": "8a8a3436",
   "metadata": {
    "execution": {
     "iopub.execute_input": "2022-08-10T19:50:53.946867Z",
     "iopub.status.busy": "2022-08-10T19:50:53.946138Z",
     "iopub.status.idle": "2022-08-10T19:50:54.071373Z",
     "shell.execute_reply": "2022-08-10T19:50:54.070275Z"
    },
    "papermill": {
     "duration": 0.180968,
     "end_time": "2022-08-10T19:50:54.074226",
     "exception": false,
     "start_time": "2022-08-10T19:50:53.893258",
     "status": "completed"
    },
    "tags": []
   },
   "outputs": [],
   "source": [
    "#Read and preprocess test set\n",
    "test_df =  pd.read_csv('../input/new-york-city-taxi-fare-prediction/test.csv')\n",
    "# test_df['pickup_datetime'] = pd.to_datetime(test_df['pickup_datetime'], format=\"%Y-%m-%d %H:%M:%S UTC\")\n",
    "test_df = transform(test_df, transform_datetime=True)\n",
    "# test_df['manhattan_dist'] = manhattan_dist(test_df['pickup_latitude'], test_df['pickup_longitude'], \n",
    "#                                    test_df['dropoff_latitude'] , test_df['dropoff_longitude'])\n",
    "\n",
    "\n",
    "\n",
    "test_key = test_df['key']\n",
    "# x_pred = test_df.drop(columns=['key', 'passenger_count'])\n",
    "x_pred = test_df.drop(columns=['key'])\n",
    "\n",
    "# Predict from test set\n",
    "prediction = xgb_model.predict(xgb.DMatrix(x_pred))\n"
   ]
  },
  {
   "cell_type": "code",
   "execution_count": 49,
   "id": "1a9a566a",
   "metadata": {
    "execution": {
     "iopub.execute_input": "2022-08-10T19:50:54.180119Z",
     "iopub.status.busy": "2022-08-10T19:50:54.179010Z",
     "iopub.status.idle": "2022-08-10T19:50:54.198577Z",
     "shell.execute_reply": "2022-08-10T19:50:54.197467Z"
    },
    "papermill": {
     "duration": 0.07444,
     "end_time": "2022-08-10T19:50:54.201271",
     "exception": false,
     "start_time": "2022-08-10T19:50:54.126831",
     "status": "completed"
    },
    "tags": []
   },
   "outputs": [
    {
     "data": {
      "text/html": [
       "<div>\n",
       "<style scoped>\n",
       "    .dataframe tbody tr th:only-of-type {\n",
       "        vertical-align: middle;\n",
       "    }\n",
       "\n",
       "    .dataframe tbody tr th {\n",
       "        vertical-align: top;\n",
       "    }\n",
       "\n",
       "    .dataframe thead th {\n",
       "        text-align: right;\n",
       "    }\n",
       "</style>\n",
       "<table border=\"1\" class=\"dataframe\">\n",
       "  <thead>\n",
       "    <tr style=\"text-align: right;\">\n",
       "      <th></th>\n",
       "      <th>key</th>\n",
       "      <th>pickup_longitude</th>\n",
       "      <th>pickup_latitude</th>\n",
       "      <th>dropoff_longitude</th>\n",
       "      <th>dropoff_latitude</th>\n",
       "      <th>passenger_count</th>\n",
       "      <th>hour</th>\n",
       "      <th>day</th>\n",
       "      <th>month</th>\n",
       "      <th>year</th>\n",
       "      <th>distance_to_center</th>\n",
       "      <th>pickup_distance_to_jfk</th>\n",
       "      <th>dropoff_distance_to_jfk</th>\n",
       "      <th>pickup_distance_to_ewr</th>\n",
       "      <th>dropoff_distance_to_ewr</th>\n",
       "      <th>pickup_distance_to_lgr</th>\n",
       "      <th>dropoff_distance_to_lgr</th>\n",
       "      <th>long_diff</th>\n",
       "      <th>lat_diff</th>\n",
       "      <th>manhattan_dist</th>\n",
       "    </tr>\n",
       "  </thead>\n",
       "  <tbody>\n",
       "    <tr>\n",
       "      <th>0</th>\n",
       "      <td>2015-01-27 13:08:24.0000002</td>\n",
       "      <td>-73.97332</td>\n",
       "      <td>40.76381</td>\n",
       "      <td>-73.98143</td>\n",
       "      <td>40.74384</td>\n",
       "      <td>1</td>\n",
       "      <td>13</td>\n",
       "      <td>27</td>\n",
       "      <td>1</td>\n",
       "      <td>2015</td>\n",
       "      <td>229.45768</td>\n",
       "      <td>0.31074</td>\n",
       "      <td>0.29888</td>\n",
       "      <td>0.27549</td>\n",
       "      <td>0.24741</td>\n",
       "      <td>0.10951</td>\n",
       "      <td>0.13759</td>\n",
       "      <td>-0.00811</td>\n",
       "      <td>-0.01997</td>\n",
       "      <td>0.02808</td>\n",
       "    </tr>\n",
       "    <tr>\n",
       "      <th>1</th>\n",
       "      <td>2015-01-27 13:08:24.0000003</td>\n",
       "      <td>-73.98686</td>\n",
       "      <td>40.71938</td>\n",
       "      <td>-73.99889</td>\n",
       "      <td>40.73920</td>\n",
       "      <td>1</td>\n",
       "      <td>13</td>\n",
       "      <td>27</td>\n",
       "      <td>1</td>\n",
       "      <td>2015</td>\n",
       "      <td>229.42680</td>\n",
       "      <td>0.27986</td>\n",
       "      <td>0.31170</td>\n",
       "      <td>0.21752</td>\n",
       "      <td>0.22531</td>\n",
       "      <td>0.16748</td>\n",
       "      <td>0.15969</td>\n",
       "      <td>-0.01202</td>\n",
       "      <td>0.01982</td>\n",
       "      <td>0.03184</td>\n",
       "    </tr>\n",
       "    <tr>\n",
       "      <th>2</th>\n",
       "      <td>2011-10-08 11:53:44.0000002</td>\n",
       "      <td>-73.98252</td>\n",
       "      <td>40.75126</td>\n",
       "      <td>-73.97965</td>\n",
       "      <td>40.74614</td>\n",
       "      <td>1</td>\n",
       "      <td>11</td>\n",
       "      <td>8</td>\n",
       "      <td>10</td>\n",
       "      <td>2011</td>\n",
       "      <td>229.45434</td>\n",
       "      <td>0.30740</td>\n",
       "      <td>0.29940</td>\n",
       "      <td>0.25374</td>\n",
       "      <td>0.25149</td>\n",
       "      <td>0.13126</td>\n",
       "      <td>0.13351</td>\n",
       "      <td>0.00287</td>\n",
       "      <td>-0.00512</td>\n",
       "      <td>0.00799</td>\n",
       "    </tr>\n",
       "    <tr>\n",
       "      <th>3</th>\n",
       "      <td>2012-12-01 21:12:12.0000002</td>\n",
       "      <td>-73.98116</td>\n",
       "      <td>40.76781</td>\n",
       "      <td>-73.99045</td>\n",
       "      <td>40.75164</td>\n",
       "      <td>1</td>\n",
       "      <td>21</td>\n",
       "      <td>1</td>\n",
       "      <td>12</td>\n",
       "      <td>2012</td>\n",
       "      <td>229.46952</td>\n",
       "      <td>0.32258</td>\n",
       "      <td>0.31569</td>\n",
       "      <td>0.27165</td>\n",
       "      <td>0.24619</td>\n",
       "      <td>0.11335</td>\n",
       "      <td>0.13881</td>\n",
       "      <td>-0.00929</td>\n",
       "      <td>-0.01617</td>\n",
       "      <td>0.02546</td>\n",
       "    </tr>\n",
       "    <tr>\n",
       "      <th>4</th>\n",
       "      <td>2012-12-01 21:12:12.0000003</td>\n",
       "      <td>-73.96605</td>\n",
       "      <td>40.78977</td>\n",
       "      <td>-73.98856</td>\n",
       "      <td>40.74443</td>\n",
       "      <td>1</td>\n",
       "      <td>21</td>\n",
       "      <td>1</td>\n",
       "      <td>12</td>\n",
       "      <td>2012</td>\n",
       "      <td>229.47638</td>\n",
       "      <td>0.32943</td>\n",
       "      <td>0.30660</td>\n",
       "      <td>0.30873</td>\n",
       "      <td>0.24086</td>\n",
       "      <td>0.11582</td>\n",
       "      <td>0.14414</td>\n",
       "      <td>-0.02252</td>\n",
       "      <td>-0.04535</td>\n",
       "      <td>0.06787</td>\n",
       "    </tr>\n",
       "  </tbody>\n",
       "</table>\n",
       "</div>"
      ],
      "text/plain": [
       "                           key  pickup_longitude  pickup_latitude  \\\n",
       "0  2015-01-27 13:08:24.0000002         -73.97332         40.76381   \n",
       "1  2015-01-27 13:08:24.0000003         -73.98686         40.71938   \n",
       "2  2011-10-08 11:53:44.0000002         -73.98252         40.75126   \n",
       "3  2012-12-01 21:12:12.0000002         -73.98116         40.76781   \n",
       "4  2012-12-01 21:12:12.0000003         -73.96605         40.78977   \n",
       "\n",
       "   dropoff_longitude  dropoff_latitude  passenger_count  hour  day  month  \\\n",
       "0          -73.98143          40.74384                1    13   27      1   \n",
       "1          -73.99889          40.73920                1    13   27      1   \n",
       "2          -73.97965          40.74614                1    11    8     10   \n",
       "3          -73.99045          40.75164                1    21    1     12   \n",
       "4          -73.98856          40.74443                1    21    1     12   \n",
       "\n",
       "   year  distance_to_center  pickup_distance_to_jfk  dropoff_distance_to_jfk  \\\n",
       "0  2015           229.45768                 0.31074                  0.29888   \n",
       "1  2015           229.42680                 0.27986                  0.31170   \n",
       "2  2011           229.45434                 0.30740                  0.29940   \n",
       "3  2012           229.46952                 0.32258                  0.31569   \n",
       "4  2012           229.47638                 0.32943                  0.30660   \n",
       "\n",
       "   pickup_distance_to_ewr  dropoff_distance_to_ewr  pickup_distance_to_lgr  \\\n",
       "0                 0.27549                  0.24741                 0.10951   \n",
       "1                 0.21752                  0.22531                 0.16748   \n",
       "2                 0.25374                  0.25149                 0.13126   \n",
       "3                 0.27165                  0.24619                 0.11335   \n",
       "4                 0.30873                  0.24086                 0.11582   \n",
       "\n",
       "   dropoff_distance_to_lgr  long_diff  lat_diff  manhattan_dist  \n",
       "0                  0.13759   -0.00811  -0.01997         0.02808  \n",
       "1                  0.15969   -0.01202   0.01982         0.03184  \n",
       "2                  0.13351    0.00287  -0.00512         0.00799  \n",
       "3                  0.13881   -0.00929  -0.01617         0.02546  \n",
       "4                  0.14414   -0.02252  -0.04535         0.06787  "
      ]
     },
     "execution_count": 49,
     "metadata": {},
     "output_type": "execute_result"
    }
   ],
   "source": [
    "test_df.head()"
   ]
  },
  {
   "cell_type": "code",
   "execution_count": 50,
   "id": "dfa22fa0",
   "metadata": {
    "execution": {
     "iopub.execute_input": "2022-08-10T19:50:54.305777Z",
     "iopub.status.busy": "2022-08-10T19:50:54.304871Z",
     "iopub.status.idle": "2022-08-10T19:50:54.323792Z",
     "shell.execute_reply": "2022-08-10T19:50:54.322580Z"
    },
    "papermill": {
     "duration": 0.073667,
     "end_time": "2022-08-10T19:50:54.326246",
     "exception": false,
     "start_time": "2022-08-10T19:50:54.252579",
     "status": "completed"
    },
    "tags": []
   },
   "outputs": [
    {
     "data": {
      "text/html": [
       "<div>\n",
       "<style scoped>\n",
       "    .dataframe tbody tr th:only-of-type {\n",
       "        vertical-align: middle;\n",
       "    }\n",
       "\n",
       "    .dataframe tbody tr th {\n",
       "        vertical-align: top;\n",
       "    }\n",
       "\n",
       "    .dataframe thead th {\n",
       "        text-align: right;\n",
       "    }\n",
       "</style>\n",
       "<table border=\"1\" class=\"dataframe\">\n",
       "  <thead>\n",
       "    <tr style=\"text-align: right;\">\n",
       "      <th></th>\n",
       "      <th>fare_amount</th>\n",
       "      <th>pickup_longitude</th>\n",
       "      <th>pickup_latitude</th>\n",
       "      <th>dropoff_longitude</th>\n",
       "      <th>dropoff_latitude</th>\n",
       "      <th>passenger_count</th>\n",
       "      <th>hour</th>\n",
       "      <th>day</th>\n",
       "      <th>month</th>\n",
       "      <th>year</th>\n",
       "      <th>distance_to_center</th>\n",
       "      <th>pickup_distance_to_jfk</th>\n",
       "      <th>dropoff_distance_to_jfk</th>\n",
       "      <th>pickup_distance_to_ewr</th>\n",
       "      <th>dropoff_distance_to_ewr</th>\n",
       "      <th>pickup_distance_to_lgr</th>\n",
       "      <th>dropoff_distance_to_lgr</th>\n",
       "      <th>long_diff</th>\n",
       "      <th>lat_diff</th>\n",
       "      <th>manhattan_dist</th>\n",
       "    </tr>\n",
       "  </thead>\n",
       "  <tbody>\n",
       "    <tr>\n",
       "      <th>0</th>\n",
       "      <td>4.50000</td>\n",
       "      <td>-73.84431</td>\n",
       "      <td>40.72132</td>\n",
       "      <td>-73.84161</td>\n",
       "      <td>40.71228</td>\n",
       "      <td>1</td>\n",
       "      <td>17</td>\n",
       "      <td>15</td>\n",
       "      <td>6</td>\n",
       "      <td>2009</td>\n",
       "      <td>229.28619</td>\n",
       "      <td>0.13924</td>\n",
       "      <td>0.12750</td>\n",
       "      <td>0.36201</td>\n",
       "      <td>0.35567</td>\n",
       "      <td>0.07437</td>\n",
       "      <td>0.08611</td>\n",
       "      <td>0.00270</td>\n",
       "      <td>-0.00904</td>\n",
       "      <td>0.01174</td>\n",
       "    </tr>\n",
       "    <tr>\n",
       "      <th>1</th>\n",
       "      <td>16.90000</td>\n",
       "      <td>-74.01605</td>\n",
       "      <td>40.71130</td>\n",
       "      <td>-73.97927</td>\n",
       "      <td>40.78200</td>\n",
       "      <td>1</td>\n",
       "      <td>16</td>\n",
       "      <td>5</td>\n",
       "      <td>1</td>\n",
       "      <td>2010</td>\n",
       "      <td>229.44791</td>\n",
       "      <td>0.30096</td>\n",
       "      <td>0.33488</td>\n",
       "      <td>0.18026</td>\n",
       "      <td>0.28774</td>\n",
       "      <td>0.20474</td>\n",
       "      <td>0.12127</td>\n",
       "      <td>0.03678</td>\n",
       "      <td>0.07070</td>\n",
       "      <td>0.10748</td>\n",
       "    </tr>\n",
       "    <tr>\n",
       "      <th>2</th>\n",
       "      <td>5.70000</td>\n",
       "      <td>-73.98274</td>\n",
       "      <td>40.76127</td>\n",
       "      <td>-73.99124</td>\n",
       "      <td>40.75056</td>\n",
       "      <td>2</td>\n",
       "      <td>0</td>\n",
       "      <td>18</td>\n",
       "      <td>8</td>\n",
       "      <td>2011</td>\n",
       "      <td>229.46456</td>\n",
       "      <td>0.31762</td>\n",
       "      <td>0.31542</td>\n",
       "      <td>0.26353</td>\n",
       "      <td>0.24432</td>\n",
       "      <td>0.12147</td>\n",
       "      <td>0.14068</td>\n",
       "      <td>-0.00850</td>\n",
       "      <td>-0.01071</td>\n",
       "      <td>0.01921</td>\n",
       "    </tr>\n",
       "    <tr>\n",
       "      <th>3</th>\n",
       "      <td>7.70000</td>\n",
       "      <td>-73.98713</td>\n",
       "      <td>40.73314</td>\n",
       "      <td>-73.99157</td>\n",
       "      <td>40.75809</td>\n",
       "      <td>1</td>\n",
       "      <td>4</td>\n",
       "      <td>21</td>\n",
       "      <td>4</td>\n",
       "      <td>2012</td>\n",
       "      <td>229.44083</td>\n",
       "      <td>0.29388</td>\n",
       "      <td>0.32327</td>\n",
       "      <td>0.23101</td>\n",
       "      <td>0.25152</td>\n",
       "      <td>0.15399</td>\n",
       "      <td>0.13348</td>\n",
       "      <td>-0.00444</td>\n",
       "      <td>0.02495</td>\n",
       "      <td>0.02939</td>\n",
       "    </tr>\n",
       "    <tr>\n",
       "      <th>4</th>\n",
       "      <td>5.30000</td>\n",
       "      <td>-73.96810</td>\n",
       "      <td>40.76801</td>\n",
       "      <td>-73.95665</td>\n",
       "      <td>40.78376</td>\n",
       "      <td>1</td>\n",
       "      <td>7</td>\n",
       "      <td>9</td>\n",
       "      <td>3</td>\n",
       "      <td>2010</td>\n",
       "      <td>229.45666</td>\n",
       "      <td>0.30971</td>\n",
       "      <td>0.31403</td>\n",
       "      <td>0.28491</td>\n",
       "      <td>0.31211</td>\n",
       "      <td>0.10009</td>\n",
       "      <td>0.10042</td>\n",
       "      <td>0.01144</td>\n",
       "      <td>0.01575</td>\n",
       "      <td>0.02719</td>\n",
       "    </tr>\n",
       "  </tbody>\n",
       "</table>\n",
       "</div>"
      ],
      "text/plain": [
       "   fare_amount  pickup_longitude  pickup_latitude  dropoff_longitude  \\\n",
       "0      4.50000         -73.84431         40.72132          -73.84161   \n",
       "1     16.90000         -74.01605         40.71130          -73.97927   \n",
       "2      5.70000         -73.98274         40.76127          -73.99124   \n",
       "3      7.70000         -73.98713         40.73314          -73.99157   \n",
       "4      5.30000         -73.96810         40.76801          -73.95665   \n",
       "\n",
       "   dropoff_latitude  passenger_count  hour  day  month  year  \\\n",
       "0          40.71228                1    17   15      6  2009   \n",
       "1          40.78200                1    16    5      1  2010   \n",
       "2          40.75056                2     0   18      8  2011   \n",
       "3          40.75809                1     4   21      4  2012   \n",
       "4          40.78376                1     7    9      3  2010   \n",
       "\n",
       "   distance_to_center  pickup_distance_to_jfk  dropoff_distance_to_jfk  \\\n",
       "0           229.28619                 0.13924                  0.12750   \n",
       "1           229.44791                 0.30096                  0.33488   \n",
       "2           229.46456                 0.31762                  0.31542   \n",
       "3           229.44083                 0.29388                  0.32327   \n",
       "4           229.45666                 0.30971                  0.31403   \n",
       "\n",
       "   pickup_distance_to_ewr  dropoff_distance_to_ewr  pickup_distance_to_lgr  \\\n",
       "0                 0.36201                  0.35567                 0.07437   \n",
       "1                 0.18026                  0.28774                 0.20474   \n",
       "2                 0.26353                  0.24432                 0.12147   \n",
       "3                 0.23101                  0.25152                 0.15399   \n",
       "4                 0.28491                  0.31211                 0.10009   \n",
       "\n",
       "   dropoff_distance_to_lgr  long_diff  lat_diff  manhattan_dist  \n",
       "0                  0.08611    0.00270  -0.00904         0.01174  \n",
       "1                  0.12127    0.03678   0.07070         0.10748  \n",
       "2                  0.14068   -0.00850  -0.01071         0.01921  \n",
       "3                  0.13348   -0.00444   0.02495         0.02939  \n",
       "4                  0.10042    0.01144   0.01575         0.02719  "
      ]
     },
     "execution_count": 50,
     "metadata": {},
     "output_type": "execute_result"
    }
   ],
   "source": [
    "train_df.head()"
   ]
  },
  {
   "cell_type": "code",
   "execution_count": 51,
   "id": "2a08c137",
   "metadata": {
    "execution": {
     "iopub.execute_input": "2022-08-10T19:50:54.431995Z",
     "iopub.status.busy": "2022-08-10T19:50:54.431560Z",
     "iopub.status.idle": "2022-08-10T19:50:54.438830Z",
     "shell.execute_reply": "2022-08-10T19:50:54.437733Z"
    },
    "papermill": {
     "duration": 0.063247,
     "end_time": "2022-08-10T19:50:54.441226",
     "exception": false,
     "start_time": "2022-08-10T19:50:54.377979",
     "status": "completed"
    },
    "tags": []
   },
   "outputs": [
    {
     "data": {
      "text/plain": [
       "9914"
      ]
     },
     "execution_count": 51,
     "metadata": {},
     "output_type": "execute_result"
    }
   ],
   "source": [
    "len(x_pred)"
   ]
  },
  {
   "cell_type": "code",
   "execution_count": 52,
   "id": "ef6ac98e",
   "metadata": {
    "execution": {
     "iopub.execute_input": "2022-08-10T19:50:54.548040Z",
     "iopub.status.busy": "2022-08-10T19:50:54.547308Z",
     "iopub.status.idle": "2022-08-10T19:50:54.552446Z",
     "shell.execute_reply": "2022-08-10T19:50:54.551439Z"
    },
    "papermill": {
     "duration": 0.061566,
     "end_time": "2022-08-10T19:50:54.554808",
     "exception": false,
     "start_time": "2022-08-10T19:50:54.493242",
     "status": "completed"
    },
    "tags": []
   },
   "outputs": [],
   "source": [
    "prediction = prediction.round(2)"
   ]
  },
  {
   "cell_type": "code",
   "execution_count": 53,
   "id": "efe6812d",
   "metadata": {
    "execution": {
     "iopub.execute_input": "2022-08-10T19:50:54.660710Z",
     "iopub.status.busy": "2022-08-10T19:50:54.660053Z",
     "iopub.status.idle": "2022-08-10T19:50:54.691423Z",
     "shell.execute_reply": "2022-08-10T19:50:54.690032Z"
    },
    "papermill": {
     "duration": 0.088327,
     "end_time": "2022-08-10T19:50:54.694005",
     "exception": false,
     "start_time": "2022-08-10T19:50:54.605678",
     "status": "completed"
    },
    "tags": []
   },
   "outputs": [],
   "source": [
    "submission = pd.DataFrame({\n",
    "        \"key\": test_key,\n",
    "        \"fare_amount\": prediction\n",
    "})\n",
    "\n",
    "# submission.to_csv('/kaggle/working/XGBSubmission.csv',index=False)\n",
    "submission.to_csv('submission.csv',index=False)\n",
    "        "
   ]
  },
  {
   "cell_type": "code",
   "execution_count": 54,
   "id": "35ec8918",
   "metadata": {
    "execution": {
     "iopub.execute_input": "2022-08-10T19:50:54.799291Z",
     "iopub.status.busy": "2022-08-10T19:50:54.798601Z",
     "iopub.status.idle": "2022-08-10T19:50:54.816054Z",
     "shell.execute_reply": "2022-08-10T19:50:54.815283Z"
    },
    "papermill": {
     "duration": 0.072786,
     "end_time": "2022-08-10T19:50:54.818372",
     "exception": false,
     "start_time": "2022-08-10T19:50:54.745586",
     "status": "completed"
    },
    "tags": []
   },
   "outputs": [
    {
     "data": {
      "text/html": [
       "<div>\n",
       "<style scoped>\n",
       "    .dataframe tbody tr th:only-of-type {\n",
       "        vertical-align: middle;\n",
       "    }\n",
       "\n",
       "    .dataframe tbody tr th {\n",
       "        vertical-align: top;\n",
       "    }\n",
       "\n",
       "    .dataframe thead th {\n",
       "        text-align: right;\n",
       "    }\n",
       "</style>\n",
       "<table border=\"1\" class=\"dataframe\">\n",
       "  <thead>\n",
       "    <tr style=\"text-align: right;\">\n",
       "      <th></th>\n",
       "      <th>key</th>\n",
       "      <th>fare_amount</th>\n",
       "    </tr>\n",
       "  </thead>\n",
       "  <tbody>\n",
       "    <tr>\n",
       "      <th>0</th>\n",
       "      <td>2015-01-27 13:08:24.0000002</td>\n",
       "      <td>9.15000</td>\n",
       "    </tr>\n",
       "    <tr>\n",
       "      <th>1</th>\n",
       "      <td>2015-01-27 13:08:24.0000003</td>\n",
       "      <td>10.19000</td>\n",
       "    </tr>\n",
       "    <tr>\n",
       "      <th>2</th>\n",
       "      <td>2011-10-08 11:53:44.0000002</td>\n",
       "      <td>4.67000</td>\n",
       "    </tr>\n",
       "    <tr>\n",
       "      <th>3</th>\n",
       "      <td>2012-12-01 21:12:12.0000002</td>\n",
       "      <td>8.71000</td>\n",
       "    </tr>\n",
       "    <tr>\n",
       "      <th>4</th>\n",
       "      <td>2012-12-01 21:12:12.0000003</td>\n",
       "      <td>15.93000</td>\n",
       "    </tr>\n",
       "  </tbody>\n",
       "</table>\n",
       "</div>"
      ],
      "text/plain": [
       "                           key  fare_amount\n",
       "0  2015-01-27 13:08:24.0000002      9.15000\n",
       "1  2015-01-27 13:08:24.0000003     10.19000\n",
       "2  2011-10-08 11:53:44.0000002      4.67000\n",
       "3  2012-12-01 21:12:12.0000002      8.71000\n",
       "4  2012-12-01 21:12:12.0000003     15.93000"
      ]
     },
     "execution_count": 54,
     "metadata": {},
     "output_type": "execute_result"
    }
   ],
   "source": [
    "pd.read_csv('submission.csv').head()"
   ]
  },
  {
   "cell_type": "code",
   "execution_count": 55,
   "id": "7dbe7943",
   "metadata": {
    "execution": {
     "iopub.execute_input": "2022-08-10T19:50:54.925811Z",
     "iopub.status.busy": "2022-08-10T19:50:54.925160Z",
     "iopub.status.idle": "2022-08-10T19:50:55.327417Z",
     "shell.execute_reply": "2022-08-10T19:50:55.326222Z"
    },
    "papermill": {
     "duration": 0.459408,
     "end_time": "2022-08-10T19:50:55.329893",
     "exception": false,
     "start_time": "2022-08-10T19:50:54.870485",
     "status": "completed"
    },
    "tags": []
   },
   "outputs": [
    {
     "name": "stdout",
     "output_type": "stream",
     "text": [
      "Plotting Feature Importance\n"
     ]
    },
    {
     "data": {
      "image/png": "[encoded data removed]",
      "text/plain": [
       "<Figure size 864x1152 with 1 Axes>"
      ]
     },
     "metadata": {
      "needs_background": "light"
     },
     "output_type": "display_data"
    }
   ],
   "source": [
    "print('Plotting Feature Importance')\n",
    "fig, ax = plt.subplots(figsize=(12,16))\n",
    "xgb.plot_importance(xgb_model, height=0.7, ax=ax)\n",
    "ax.grid(False)\n",
    "plt.title(\"XGBoost - Feature Importance\", fontsize=14)\n",
    "plt.show()"
   ]
  },
  {
   "cell_type": "markdown",
   "id": "c874f048",
   "metadata": {
    "papermill": {
     "duration": 0.053393,
     "end_time": "2022-08-10T19:50:55.436775",
     "exception": false,
     "start_time": "2022-08-10T19:50:55.383382",
     "status": "completed"
    },
    "tags": []
   },
   "source": [
    "## Possible Improvements:\n",
    "* ### Train with more data, currently I use 10 million examples\n",
    "* ### Tune hyperparameters using Cross Validation.\n",
    "* ### Could take real life New York taxi fares in account, for example currently initial charge for taxis in NYC is 2.5$.\n",
    "* ### Could take holidays and special occations in account, since the tax fares are higher on those days"
   ]
  }
 ],
 "metadata": {
  "kernelspec": {
   "display_name": "Python 3",
   "language": "python",
   "name": "python3"
  },
  "language_info": {
   "codemirror_mode": {
    "name": "ipython",
    "version": 3
   },
   "file_extension": ".py",
   "mimetype": "text/x-python",
   "name": "python",
   "nbconvert_exporter": "python",
   "pygments_lexer": "ipython3",
   "version": "3.7.12"
  },
  "papermill": {
   "default_parameters": {},
   "duration": 945.433477,
   "end_time": "2022-08-10T19:50:58.115491",
   "environment_variables": {},
   "exception": null,
   "input_path": "__notebook__.ipynb",
   "output_path": "__notebook__.ipynb",
   "parameters": {},
   "start_time": "2022-08-10T19:35:12.682014",
   "version": "2.3.4"
  }
 },
 "nbformat": 4,
 "nbformat_minor": 5
}
