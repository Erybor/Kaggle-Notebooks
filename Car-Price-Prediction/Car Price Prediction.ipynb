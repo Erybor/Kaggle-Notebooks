{
 "cells": [
  {
   "cell_type": "markdown",
   "id": "057559f9",
   "metadata": {},
   "source": [
    "# First Objective:\n",
    "* ## The problem that we want to treat is predicting the price of used cars. The goal is to develop a model that can accurately predict the price of a used car based on various features such as make, model, age, mileage, and other relevant factors. \n",
    "* ## I have thoroughly studied the factors that significantly impact the price of a used car. According to sources such as [First](https://www.investopedia.com/articles/investing/090314/just-what-factors-value-your-used-car.asp), [Second](https://www.moneycrashers.com/factors-affect-used-cars-resale-value/), [Third](https://www.truebil.com/blog/7-factors-that-influence-the-price-of-a-used-car), the most influential factors include the make and model of the vehicle, the mileage, and the year of production. However, other factors such as the color, number of doors, and drive wheels may also influence the value to some extent.\n",
    "## State of the Art: \n",
    "* ### This is a regression problem and there are various existing methods for predicting the price of used cars, including linear regression, decision trees, and random forests. Linear regression models the relationship between the dependent variable (car price) and one or more independent variables (car features), however the model's usually way too simple to capture complex relationships. That's where the tree-like models come in. Decision trees and Random Forests are more complex methods that use a tree-like model to make predictions based on the features of the data.\n",
    "* ### Source: Here's a simple Study [\"Predicting the Price of Used Cars using Machine Learning Techniques\"](http://ripublication.com/irph/ijict_spl/ijictv4n7spl_17.pdf) that uses the techniques I just described.\n",
    "\n"
   ]
  },
  {
   "cell_type": "markdown",
   "id": "d30a1b7e",
   "metadata": {},
   "source": [
    "# Second Objective"
   ]
  },
  {
   "cell_type": "markdown",
   "id": "5282710a",
   "metadata": {},
   "source": [
    "* ### Now I'm gonna collect and clean the data and start exploring the features.\n",
    "* ### The dataset I use comes from an old competition on [machinehack](https://machinehack.com/hackathons/data_hack_mathcothon_car_price_prediction_challenge/data). I chose this dataset because it offers more data and better features than others I could find."
   ]
  },
  {
   "cell_type": "code",
   "execution_count": 1,
   "id": "496fd277",
   "metadata": {},
   "outputs": [],
   "source": [
    "import pandas as pd\n",
    "import numpy as np\n",
    "import matplotlib.pyplot as plt\n",
    "import seaborn as sns\n",
    "\n",
    "from sklearn.model_selection import train_test_split\n",
    "from sklearn.linear_model import LinearRegression\n",
    "from sklearn.ensemble import RandomForestRegressor\n",
    "from sklearn.neighbors import KNeighborsRegressor\n",
    "from sklearn.ensemble import GradientBoostingRegressor\n",
    "\n",
    "from sklearn.metrics import mean_squared_error\n",
    "from sklearn.metrics import mean_absolute_error\n",
    "from sklearn.metrics import mean_squared_log_error"
   ]
  },
  {
   "cell_type": "code",
   "execution_count": 3,
   "id": "331e6f30",
   "metadata": {},
   "outputs": [
    {
     "data": {
      "text/html": [
       "<div>\n",
       "<style scoped>\n",
       "    .dataframe tbody tr th:only-of-type {\n",
       "        vertical-align: middle;\n",
       "    }\n",
       "\n",
       "    .dataframe tbody tr th {\n",
       "        vertical-align: top;\n",
       "    }\n",
       "\n",
       "    .dataframe thead th {\n",
       "        text-align: right;\n",
       "    }\n",
       "</style>\n",
       "<table border=\"1\" class=\"dataframe\">\n",
       "  <thead>\n",
       "    <tr style=\"text-align: right;\">\n",
       "      <th></th>\n",
       "      <th>ID</th>\n",
       "      <th>Price</th>\n",
       "      <th>Levy</th>\n",
       "      <th>Manufacturer</th>\n",
       "      <th>Model</th>\n",
       "      <th>Prod. year</th>\n",
       "      <th>Category</th>\n",
       "      <th>Leather interior</th>\n",
       "      <th>Fuel type</th>\n",
       "      <th>Engine volume</th>\n",
       "      <th>Mileage</th>\n",
       "      <th>Cylinders</th>\n",
       "      <th>Gear box type</th>\n",
       "      <th>Drive wheels</th>\n",
       "      <th>Doors</th>\n",
       "      <th>Wheel</th>\n",
       "      <th>Color</th>\n",
       "      <th>Airbags</th>\n",
       "    </tr>\n",
       "  </thead>\n",
       "  <tbody>\n",
       "    <tr>\n",
       "      <th>0</th>\n",
       "      <td>45654403</td>\n",
       "      <td>13328</td>\n",
       "      <td>1399</td>\n",
       "      <td>LEXUS</td>\n",
       "      <td>RX 450</td>\n",
       "      <td>2010</td>\n",
       "      <td>Jeep</td>\n",
       "      <td>Yes</td>\n",
       "      <td>Hybrid</td>\n",
       "      <td>3.5</td>\n",
       "      <td>186005 km</td>\n",
       "      <td>6.0</td>\n",
       "      <td>Automatic</td>\n",
       "      <td>4x4</td>\n",
       "      <td>04-May</td>\n",
       "      <td>Left wheel</td>\n",
       "      <td>Silver</td>\n",
       "      <td>12</td>\n",
       "    </tr>\n",
       "    <tr>\n",
       "      <th>1</th>\n",
       "      <td>44731507</td>\n",
       "      <td>16621</td>\n",
       "      <td>1018</td>\n",
       "      <td>CHEVROLET</td>\n",
       "      <td>Equinox</td>\n",
       "      <td>2011</td>\n",
       "      <td>Jeep</td>\n",
       "      <td>No</td>\n",
       "      <td>Petrol</td>\n",
       "      <td>3</td>\n",
       "      <td>192000 km</td>\n",
       "      <td>6.0</td>\n",
       "      <td>Tiptronic</td>\n",
       "      <td>4x4</td>\n",
       "      <td>04-May</td>\n",
       "      <td>Left wheel</td>\n",
       "      <td>Black</td>\n",
       "      <td>8</td>\n",
       "    </tr>\n",
       "    <tr>\n",
       "      <th>2</th>\n",
       "      <td>45774419</td>\n",
       "      <td>8467</td>\n",
       "      <td>-</td>\n",
       "      <td>HONDA</td>\n",
       "      <td>FIT</td>\n",
       "      <td>2006</td>\n",
       "      <td>Hatchback</td>\n",
       "      <td>No</td>\n",
       "      <td>Petrol</td>\n",
       "      <td>1.3</td>\n",
       "      <td>200000 km</td>\n",
       "      <td>4.0</td>\n",
       "      <td>Variator</td>\n",
       "      <td>Front</td>\n",
       "      <td>04-May</td>\n",
       "      <td>Right-hand drive</td>\n",
       "      <td>Black</td>\n",
       "      <td>2</td>\n",
       "    </tr>\n",
       "    <tr>\n",
       "      <th>3</th>\n",
       "      <td>45769185</td>\n",
       "      <td>3607</td>\n",
       "      <td>862</td>\n",
       "      <td>FORD</td>\n",
       "      <td>Escape</td>\n",
       "      <td>2011</td>\n",
       "      <td>Jeep</td>\n",
       "      <td>Yes</td>\n",
       "      <td>Hybrid</td>\n",
       "      <td>2.5</td>\n",
       "      <td>168966 km</td>\n",
       "      <td>4.0</td>\n",
       "      <td>Automatic</td>\n",
       "      <td>4x4</td>\n",
       "      <td>04-May</td>\n",
       "      <td>Left wheel</td>\n",
       "      <td>White</td>\n",
       "      <td>0</td>\n",
       "    </tr>\n",
       "    <tr>\n",
       "      <th>4</th>\n",
       "      <td>45809263</td>\n",
       "      <td>11726</td>\n",
       "      <td>446</td>\n",
       "      <td>HONDA</td>\n",
       "      <td>FIT</td>\n",
       "      <td>2014</td>\n",
       "      <td>Hatchback</td>\n",
       "      <td>Yes</td>\n",
       "      <td>Petrol</td>\n",
       "      <td>1.3</td>\n",
       "      <td>91901 km</td>\n",
       "      <td>4.0</td>\n",
       "      <td>Automatic</td>\n",
       "      <td>Front</td>\n",
       "      <td>04-May</td>\n",
       "      <td>Left wheel</td>\n",
       "      <td>Silver</td>\n",
       "      <td>4</td>\n",
       "    </tr>\n",
       "  </tbody>\n",
       "</table>\n",
       "</div>"
      ],
      "text/plain": [
       "         ID  Price  Levy Manufacturer    Model  Prod. year   Category  \\\n",
       "0  45654403  13328  1399        LEXUS   RX 450        2010       Jeep   \n",
       "1  44731507  16621  1018    CHEVROLET  Equinox        2011       Jeep   \n",
       "2  45774419   8467     -        HONDA      FIT        2006  Hatchback   \n",
       "3  45769185   3607   862         FORD   Escape        2011       Jeep   \n",
       "4  45809263  11726   446        HONDA      FIT        2014  Hatchback   \n",
       "\n",
       "  Leather interior Fuel type Engine volume    Mileage  Cylinders  \\\n",
       "0              Yes    Hybrid           3.5  186005 km        6.0   \n",
       "1               No    Petrol             3  192000 km        6.0   \n",
       "2               No    Petrol           1.3  200000 km        4.0   \n",
       "3              Yes    Hybrid           2.5  168966 km        4.0   \n",
       "4              Yes    Petrol           1.3   91901 km        4.0   \n",
       "\n",
       "  Gear box type Drive wheels   Doors             Wheel   Color  Airbags  \n",
       "0     Automatic          4x4  04-May        Left wheel  Silver       12  \n",
       "1     Tiptronic          4x4  04-May        Left wheel   Black        8  \n",
       "2      Variator        Front  04-May  Right-hand drive   Black        2  \n",
       "3     Automatic          4x4  04-May        Left wheel   White        0  \n",
       "4     Automatic        Front  04-May        Left wheel  Silver        4  "
      ]
     },
     "execution_count": 3,
     "metadata": {},
     "output_type": "execute_result"
    }
   ],
   "source": [
    "df = pd.read_csv(\"car_data.csv\")\n",
    "df.head()"
   ]
  },
  {
   "cell_type": "code",
   "execution_count": 4,
   "id": "3edb6d6e",
   "metadata": {},
   "outputs": [
    {
     "name": "stdout",
     "output_type": "stream",
     "text": [
      "<class 'pandas.core.frame.DataFrame'>\n",
      "RangeIndex: 19237 entries, 0 to 19236\n",
      "Data columns (total 18 columns):\n",
      " #   Column            Non-Null Count  Dtype  \n",
      "---  ------            --------------  -----  \n",
      " 0   ID                19237 non-null  int64  \n",
      " 1   Price             19237 non-null  int64  \n",
      " 2   Levy              19237 non-null  object \n",
      " 3   Manufacturer      19237 non-null  object \n",
      " 4   Model             19237 non-null  object \n",
      " 5   Prod. year        19237 non-null  int64  \n",
      " 6   Category          19237 non-null  object \n",
      " 7   Leather interior  19237 non-null  object \n",
      " 8   Fuel type         19237 non-null  object \n",
      " 9   Engine volume     19237 non-null  object \n",
      " 10  Mileage           19237 non-null  object \n",
      " 11  Cylinders         19237 non-null  float64\n",
      " 12  Gear box type     19237 non-null  object \n",
      " 13  Drive wheels      19237 non-null  object \n",
      " 14  Doors             19237 non-null  object \n",
      " 15  Wheel             19237 non-null  object \n",
      " 16  Color             19237 non-null  object \n",
      " 17  Airbags           19237 non-null  int64  \n",
      "dtypes: float64(1), int64(4), object(13)\n",
      "memory usage: 2.6+ MB\n"
     ]
    }
   ],
   "source": [
    "df.info()"
   ]
  },
  {
   "cell_type": "code",
   "execution_count": 5,
   "id": "4f9890ac",
   "metadata": {},
   "outputs": [
    {
     "data": {
      "text/plain": [
       "45815365    8\n",
       "45815361    8\n",
       "45815363    7\n",
       "45815368    7\n",
       "45723475    7\n",
       "           ..\n",
       "45774312    1\n",
       "45732621    1\n",
       "45773011    1\n",
       "45774019    1\n",
       "45813273    1\n",
       "Name: ID, Length: 18924, dtype: int64"
      ]
     },
     "execution_count": 5,
     "metadata": {},
     "output_type": "execute_result"
    }
   ],
   "source": [
    "df['ID'].value_counts()"
   ]
  },
  {
   "cell_type": "markdown",
   "id": "a523fa7a",
   "metadata": {},
   "source": [
    "### Since the ID is not unique and does not appear to be a useful feature for our analysis, we can remove it from the dataset."
   ]
  },
  {
   "cell_type": "code",
   "execution_count": 6,
   "id": "80c7a280",
   "metadata": {},
   "outputs": [],
   "source": [
    "df = df.drop('ID', axis=1)"
   ]
  },
  {
   "cell_type": "code",
   "execution_count": 7,
   "id": "4473217d",
   "metadata": {},
   "outputs": [
    {
     "data": {
      "text/html": [
       "<div>\n",
       "<style scoped>\n",
       "    .dataframe tbody tr th:only-of-type {\n",
       "        vertical-align: middle;\n",
       "    }\n",
       "\n",
       "    .dataframe tbody tr th {\n",
       "        vertical-align: top;\n",
       "    }\n",
       "\n",
       "    .dataframe thead th {\n",
       "        text-align: right;\n",
       "    }\n",
       "</style>\n",
       "<table border=\"1\" class=\"dataframe\">\n",
       "  <thead>\n",
       "    <tr style=\"text-align: right;\">\n",
       "      <th></th>\n",
       "      <th>Price</th>\n",
       "      <th>Levy</th>\n",
       "      <th>Manufacturer</th>\n",
       "      <th>Model</th>\n",
       "      <th>Prod. year</th>\n",
       "      <th>Category</th>\n",
       "      <th>Leather interior</th>\n",
       "      <th>Fuel type</th>\n",
       "      <th>Engine volume</th>\n",
       "      <th>Mileage</th>\n",
       "      <th>Cylinders</th>\n",
       "      <th>Gear box type</th>\n",
       "      <th>Drive wheels</th>\n",
       "      <th>Doors</th>\n",
       "      <th>Wheel</th>\n",
       "      <th>Color</th>\n",
       "      <th>Airbags</th>\n",
       "    </tr>\n",
       "  </thead>\n",
       "  <tbody>\n",
       "    <tr>\n",
       "      <th>0</th>\n",
       "      <td>13328</td>\n",
       "      <td>1399</td>\n",
       "      <td>LEXUS</td>\n",
       "      <td>RX 450</td>\n",
       "      <td>2010</td>\n",
       "      <td>Jeep</td>\n",
       "      <td>Yes</td>\n",
       "      <td>Hybrid</td>\n",
       "      <td>3.5</td>\n",
       "      <td>186005 km</td>\n",
       "      <td>6.0</td>\n",
       "      <td>Automatic</td>\n",
       "      <td>4x4</td>\n",
       "      <td>04-May</td>\n",
       "      <td>Left wheel</td>\n",
       "      <td>Silver</td>\n",
       "      <td>12</td>\n",
       "    </tr>\n",
       "    <tr>\n",
       "      <th>1</th>\n",
       "      <td>16621</td>\n",
       "      <td>1018</td>\n",
       "      <td>CHEVROLET</td>\n",
       "      <td>Equinox</td>\n",
       "      <td>2011</td>\n",
       "      <td>Jeep</td>\n",
       "      <td>No</td>\n",
       "      <td>Petrol</td>\n",
       "      <td>3</td>\n",
       "      <td>192000 km</td>\n",
       "      <td>6.0</td>\n",
       "      <td>Tiptronic</td>\n",
       "      <td>4x4</td>\n",
       "      <td>04-May</td>\n",
       "      <td>Left wheel</td>\n",
       "      <td>Black</td>\n",
       "      <td>8</td>\n",
       "    </tr>\n",
       "    <tr>\n",
       "      <th>2</th>\n",
       "      <td>8467</td>\n",
       "      <td>-</td>\n",
       "      <td>HONDA</td>\n",
       "      <td>FIT</td>\n",
       "      <td>2006</td>\n",
       "      <td>Hatchback</td>\n",
       "      <td>No</td>\n",
       "      <td>Petrol</td>\n",
       "      <td>1.3</td>\n",
       "      <td>200000 km</td>\n",
       "      <td>4.0</td>\n",
       "      <td>Variator</td>\n",
       "      <td>Front</td>\n",
       "      <td>04-May</td>\n",
       "      <td>Right-hand drive</td>\n",
       "      <td>Black</td>\n",
       "      <td>2</td>\n",
       "    </tr>\n",
       "    <tr>\n",
       "      <th>3</th>\n",
       "      <td>3607</td>\n",
       "      <td>862</td>\n",
       "      <td>FORD</td>\n",
       "      <td>Escape</td>\n",
       "      <td>2011</td>\n",
       "      <td>Jeep</td>\n",
       "      <td>Yes</td>\n",
       "      <td>Hybrid</td>\n",
       "      <td>2.5</td>\n",
       "      <td>168966 km</td>\n",
       "      <td>4.0</td>\n",
       "      <td>Automatic</td>\n",
       "      <td>4x4</td>\n",
       "      <td>04-May</td>\n",
       "      <td>Left wheel</td>\n",
       "      <td>White</td>\n",
       "      <td>0</td>\n",
       "    </tr>\n",
       "    <tr>\n",
       "      <th>4</th>\n",
       "      <td>11726</td>\n",
       "      <td>446</td>\n",
       "      <td>HONDA</td>\n",
       "      <td>FIT</td>\n",
       "      <td>2014</td>\n",
       "      <td>Hatchback</td>\n",
       "      <td>Yes</td>\n",
       "      <td>Petrol</td>\n",
       "      <td>1.3</td>\n",
       "      <td>91901 km</td>\n",
       "      <td>4.0</td>\n",
       "      <td>Automatic</td>\n",
       "      <td>Front</td>\n",
       "      <td>04-May</td>\n",
       "      <td>Left wheel</td>\n",
       "      <td>Silver</td>\n",
       "      <td>4</td>\n",
       "    </tr>\n",
       "    <tr>\n",
       "      <th>5</th>\n",
       "      <td>39493</td>\n",
       "      <td>891</td>\n",
       "      <td>HYUNDAI</td>\n",
       "      <td>Santa FE</td>\n",
       "      <td>2016</td>\n",
       "      <td>Jeep</td>\n",
       "      <td>Yes</td>\n",
       "      <td>Diesel</td>\n",
       "      <td>2</td>\n",
       "      <td>160931 km</td>\n",
       "      <td>4.0</td>\n",
       "      <td>Automatic</td>\n",
       "      <td>Front</td>\n",
       "      <td>04-May</td>\n",
       "      <td>Left wheel</td>\n",
       "      <td>White</td>\n",
       "      <td>4</td>\n",
       "    </tr>\n",
       "    <tr>\n",
       "      <th>6</th>\n",
       "      <td>1803</td>\n",
       "      <td>761</td>\n",
       "      <td>TOYOTA</td>\n",
       "      <td>Prius</td>\n",
       "      <td>2010</td>\n",
       "      <td>Hatchback</td>\n",
       "      <td>Yes</td>\n",
       "      <td>Hybrid</td>\n",
       "      <td>1.8</td>\n",
       "      <td>258909 km</td>\n",
       "      <td>4.0</td>\n",
       "      <td>Automatic</td>\n",
       "      <td>Front</td>\n",
       "      <td>04-May</td>\n",
       "      <td>Left wheel</td>\n",
       "      <td>White</td>\n",
       "      <td>12</td>\n",
       "    </tr>\n",
       "    <tr>\n",
       "      <th>7</th>\n",
       "      <td>549</td>\n",
       "      <td>751</td>\n",
       "      <td>HYUNDAI</td>\n",
       "      <td>Sonata</td>\n",
       "      <td>2013</td>\n",
       "      <td>Sedan</td>\n",
       "      <td>Yes</td>\n",
       "      <td>Petrol</td>\n",
       "      <td>2.4</td>\n",
       "      <td>216118 km</td>\n",
       "      <td>4.0</td>\n",
       "      <td>Automatic</td>\n",
       "      <td>Front</td>\n",
       "      <td>04-May</td>\n",
       "      <td>Left wheel</td>\n",
       "      <td>Grey</td>\n",
       "      <td>12</td>\n",
       "    </tr>\n",
       "    <tr>\n",
       "      <th>8</th>\n",
       "      <td>1098</td>\n",
       "      <td>394</td>\n",
       "      <td>TOYOTA</td>\n",
       "      <td>Camry</td>\n",
       "      <td>2014</td>\n",
       "      <td>Sedan</td>\n",
       "      <td>Yes</td>\n",
       "      <td>Hybrid</td>\n",
       "      <td>2.5</td>\n",
       "      <td>398069 km</td>\n",
       "      <td>4.0</td>\n",
       "      <td>Automatic</td>\n",
       "      <td>Front</td>\n",
       "      <td>04-May</td>\n",
       "      <td>Left wheel</td>\n",
       "      <td>Black</td>\n",
       "      <td>12</td>\n",
       "    </tr>\n",
       "    <tr>\n",
       "      <th>9</th>\n",
       "      <td>26657</td>\n",
       "      <td>-</td>\n",
       "      <td>LEXUS</td>\n",
       "      <td>RX 350</td>\n",
       "      <td>2007</td>\n",
       "      <td>Jeep</td>\n",
       "      <td>Yes</td>\n",
       "      <td>Petrol</td>\n",
       "      <td>3.5</td>\n",
       "      <td>128500 km</td>\n",
       "      <td>6.0</td>\n",
       "      <td>Automatic</td>\n",
       "      <td>4x4</td>\n",
       "      <td>04-May</td>\n",
       "      <td>Left wheel</td>\n",
       "      <td>Silver</td>\n",
       "      <td>12</td>\n",
       "    </tr>\n",
       "  </tbody>\n",
       "</table>\n",
       "</div>"
      ],
      "text/plain": [
       "   Price  Levy Manufacturer     Model  Prod. year   Category Leather interior  \\\n",
       "0  13328  1399        LEXUS    RX 450        2010       Jeep              Yes   \n",
       "1  16621  1018    CHEVROLET   Equinox        2011       Jeep               No   \n",
       "2   8467     -        HONDA       FIT        2006  Hatchback               No   \n",
       "3   3607   862         FORD    Escape        2011       Jeep              Yes   \n",
       "4  11726   446        HONDA       FIT        2014  Hatchback              Yes   \n",
       "5  39493   891      HYUNDAI  Santa FE        2016       Jeep              Yes   \n",
       "6   1803   761       TOYOTA     Prius        2010  Hatchback              Yes   \n",
       "7    549   751      HYUNDAI    Sonata        2013      Sedan              Yes   \n",
       "8   1098   394       TOYOTA     Camry        2014      Sedan              Yes   \n",
       "9  26657     -        LEXUS    RX 350        2007       Jeep              Yes   \n",
       "\n",
       "  Fuel type Engine volume    Mileage  Cylinders Gear box type Drive wheels  \\\n",
       "0    Hybrid           3.5  186005 km        6.0     Automatic          4x4   \n",
       "1    Petrol             3  192000 km        6.0     Tiptronic          4x4   \n",
       "2    Petrol           1.3  200000 km        4.0      Variator        Front   \n",
       "3    Hybrid           2.5  168966 km        4.0     Automatic          4x4   \n",
       "4    Petrol           1.3   91901 km        4.0     Automatic        Front   \n",
       "5    Diesel             2  160931 km        4.0     Automatic        Front   \n",
       "6    Hybrid           1.8  258909 km        4.0     Automatic        Front   \n",
       "7    Petrol           2.4  216118 km        4.0     Automatic        Front   \n",
       "8    Hybrid           2.5  398069 km        4.0     Automatic        Front   \n",
       "9    Petrol           3.5  128500 km        6.0     Automatic          4x4   \n",
       "\n",
       "    Doors             Wheel   Color  Airbags  \n",
       "0  04-May        Left wheel  Silver       12  \n",
       "1  04-May        Left wheel   Black        8  \n",
       "2  04-May  Right-hand drive   Black        2  \n",
       "3  04-May        Left wheel   White        0  \n",
       "4  04-May        Left wheel  Silver        4  \n",
       "5  04-May        Left wheel   White        4  \n",
       "6  04-May        Left wheel   White       12  \n",
       "7  04-May        Left wheel    Grey       12  \n",
       "8  04-May        Left wheel   Black       12  \n",
       "9  04-May        Left wheel  Silver       12  "
      ]
     },
     "execution_count": 7,
     "metadata": {},
     "output_type": "execute_result"
    }
   ],
   "source": [
    "df.head(10)"
   ]
  },
  {
   "cell_type": "markdown",
   "id": "fff3024d",
   "metadata": {},
   "source": [
    "* ### There seem to be some values missing from the dataset, though it's filled with '-' instead of NAN values.\n",
    "* ### I'm gonna replace them with NAN values, so it's easier to work with."
   ]
  },
  {
   "cell_type": "code",
   "execution_count": 8,
   "id": "9873efca",
   "metadata": {},
   "outputs": [],
   "source": [
    "df = df.replace('-', np.nan)"
   ]
  },
  {
   "cell_type": "code",
   "execution_count": 9,
   "id": "16da991c",
   "metadata": {
    "scrolled": false
   },
   "outputs": [
    {
     "name": "stdout",
     "output_type": "stream",
     "text": [
      "<class 'pandas.core.frame.DataFrame'>\n",
      "RangeIndex: 19237 entries, 0 to 19236\n",
      "Data columns (total 17 columns):\n",
      " #   Column            Non-Null Count  Dtype  \n",
      "---  ------            --------------  -----  \n",
      " 0   Price             19237 non-null  int64  \n",
      " 1   Levy              13418 non-null  object \n",
      " 2   Manufacturer      19237 non-null  object \n",
      " 3   Model             19237 non-null  object \n",
      " 4   Prod. year        19237 non-null  int64  \n",
      " 5   Category          19237 non-null  object \n",
      " 6   Leather interior  19237 non-null  object \n",
      " 7   Fuel type         19237 non-null  object \n",
      " 8   Engine volume     19237 non-null  object \n",
      " 9   Mileage           19237 non-null  object \n",
      " 10  Cylinders         19237 non-null  float64\n",
      " 11  Gear box type     19237 non-null  object \n",
      " 12  Drive wheels      19237 non-null  object \n",
      " 13  Doors             19237 non-null  object \n",
      " 14  Wheel             19237 non-null  object \n",
      " 15  Color             19237 non-null  object \n",
      " 16  Airbags           19237 non-null  int64  \n",
      "dtypes: float64(1), int64(3), object(13)\n",
      "memory usage: 2.5+ MB\n"
     ]
    }
   ],
   "source": [
    "df.info()"
   ]
  },
  {
   "cell_type": "markdown",
   "id": "8ec88db5",
   "metadata": {},
   "source": [
    "### Looks like the only column filled with '-' was Levy. This might mean that there are no other columns with missing values, or that they are filled with other values. We're gonna find out as we proceed."
   ]
  },
  {
   "cell_type": "markdown",
   "id": "c48e47a4",
   "metadata": {},
   "source": [
    "### ~30% of the values for the Levy feature are missing, and it does not appear to be a particularly useful feature for our analysis. So, we can drop it."
   ]
  },
  {
   "cell_type": "code",
   "execution_count": 10,
   "id": "43569ad6",
   "metadata": {},
   "outputs": [],
   "source": [
    "df = df.drop('Levy', axis=1)"
   ]
  },
  {
   "cell_type": "markdown",
   "id": "6a43398b",
   "metadata": {},
   "source": [
    "## EDA"
   ]
  },
  {
   "cell_type": "markdown",
   "id": "9689cbb7",
   "metadata": {},
   "source": [
    "### Now let's start by exploring some of the features"
   ]
  },
  {
   "cell_type": "markdown",
   "id": "8d023bb7",
   "metadata": {},
   "source": [
    "* ### Price Distribution"
   ]
  },
  {
   "cell_type": "code",
   "execution_count": 11,
   "id": "959d0c79",
   "metadata": {},
   "outputs": [
    {
     "data": {
      "text/plain": [
       "count      19237.000\n",
       "mean       18555.927\n",
       "std       190581.270\n",
       "min            1.000\n",
       "25%         5331.000\n",
       "50%        13172.000\n",
       "75%        22075.000\n",
       "max     26307500.000\n",
       "Name: Price, dtype: float64"
      ]
     },
     "execution_count": 11,
     "metadata": {},
     "output_type": "execute_result"
    }
   ],
   "source": [
    "pd.set_option('display.float_format', lambda x: '%.3f' % x) # this suppresses scientific formatting\n",
    "df['Price'].describe()"
   ]
  },
  {
   "cell_type": "code",
   "execution_count": 12,
   "id": "f2b0ba7b",
   "metadata": {},
   "outputs": [
    {
     "data": {
      "text/plain": [
       "<Figure size 1400x1000 with 0 Axes>"
      ]
     },
     "metadata": {},
     "output_type": "display_data"
    },
    {
     "data": {
      "image/png": "[encoded data removed]",
      "text/plain": [
       "<Figure size 500x500 with 1 Axes>"
      ]
     },
     "metadata": {},
     "output_type": "display_data"
    }
   ],
   "source": [
    "plt.figure(figsize=(14, 10))\n",
    "sns.displot(df[df['Price'] <= 200000]['Price'])\n",
    "plt.show()"
   ]
  },
  {
   "cell_type": "code",
   "execution_count": 13,
   "id": "ca9bd82a",
   "metadata": {
    "scrolled": false
   },
   "outputs": [
    {
     "data": {
      "text/html": [
       "<div>\n",
       "<style scoped>\n",
       "    .dataframe tbody tr th:only-of-type {\n",
       "        vertical-align: middle;\n",
       "    }\n",
       "\n",
       "    .dataframe tbody tr th {\n",
       "        vertical-align: top;\n",
       "    }\n",
       "\n",
       "    .dataframe thead th {\n",
       "        text-align: right;\n",
       "    }\n",
       "</style>\n",
       "<table border=\"1\" class=\"dataframe\">\n",
       "  <thead>\n",
       "    <tr style=\"text-align: right;\">\n",
       "      <th></th>\n",
       "      <th>Price</th>\n",
       "      <th>Manufacturer</th>\n",
       "      <th>Model</th>\n",
       "      <th>Prod. year</th>\n",
       "      <th>Category</th>\n",
       "      <th>Leather interior</th>\n",
       "      <th>Fuel type</th>\n",
       "      <th>Engine volume</th>\n",
       "      <th>Mileage</th>\n",
       "      <th>Cylinders</th>\n",
       "      <th>Gear box type</th>\n",
       "      <th>Drive wheels</th>\n",
       "      <th>Doors</th>\n",
       "      <th>Wheel</th>\n",
       "      <th>Color</th>\n",
       "      <th>Airbags</th>\n",
       "    </tr>\n",
       "  </thead>\n",
       "  <tbody>\n",
       "    <tr>\n",
       "      <th>27</th>\n",
       "      <td>30</td>\n",
       "      <td>TOYOTA</td>\n",
       "      <td>Prius</td>\n",
       "      <td>2008</td>\n",
       "      <td>Sedan</td>\n",
       "      <td>No</td>\n",
       "      <td>Hybrid</td>\n",
       "      <td>1.5</td>\n",
       "      <td>169000 km</td>\n",
       "      <td>4.000</td>\n",
       "      <td>Automatic</td>\n",
       "      <td>Front</td>\n",
       "      <td>04-May</td>\n",
       "      <td>Left wheel</td>\n",
       "      <td>White</td>\n",
       "      <td>8</td>\n",
       "    </tr>\n",
       "    <tr>\n",
       "      <th>33</th>\n",
       "      <td>125</td>\n",
       "      <td>TOYOTA</td>\n",
       "      <td>Highlander</td>\n",
       "      <td>2008</td>\n",
       "      <td>Sedan</td>\n",
       "      <td>Yes</td>\n",
       "      <td>Hybrid</td>\n",
       "      <td>3.3</td>\n",
       "      <td>287274 km</td>\n",
       "      <td>6.000</td>\n",
       "      <td>Automatic</td>\n",
       "      <td>4x4</td>\n",
       "      <td>04-May</td>\n",
       "      <td>Left wheel</td>\n",
       "      <td>White</td>\n",
       "      <td>12</td>\n",
       "    </tr>\n",
       "    <tr>\n",
       "      <th>39</th>\n",
       "      <td>314</td>\n",
       "      <td>LEXUS</td>\n",
       "      <td>RX 450</td>\n",
       "      <td>2010</td>\n",
       "      <td>Jeep</td>\n",
       "      <td>Yes</td>\n",
       "      <td>Hybrid</td>\n",
       "      <td>3.5</td>\n",
       "      <td>382746 km</td>\n",
       "      <td>6.000</td>\n",
       "      <td>Automatic</td>\n",
       "      <td>4x4</td>\n",
       "      <td>04-May</td>\n",
       "      <td>Left wheel</td>\n",
       "      <td>Silver</td>\n",
       "      <td>12</td>\n",
       "    </tr>\n",
       "    <tr>\n",
       "      <th>45</th>\n",
       "      <td>220</td>\n",
       "      <td>TOYOTA</td>\n",
       "      <td>Tacoma</td>\n",
       "      <td>2013</td>\n",
       "      <td>Jeep</td>\n",
       "      <td>Yes</td>\n",
       "      <td>Petrol</td>\n",
       "      <td>4</td>\n",
       "      <td>239342 km</td>\n",
       "      <td>6.000</td>\n",
       "      <td>Automatic</td>\n",
       "      <td>4x4</td>\n",
       "      <td>04-May</td>\n",
       "      <td>Left wheel</td>\n",
       "      <td>Silver</td>\n",
       "      <td>12</td>\n",
       "    </tr>\n",
       "    <tr>\n",
       "      <th>53</th>\n",
       "      <td>392</td>\n",
       "      <td>MERCEDES-BENZ</td>\n",
       "      <td>E 300</td>\n",
       "      <td>2017</td>\n",
       "      <td>Sedan</td>\n",
       "      <td>Yes</td>\n",
       "      <td>Petrol</td>\n",
       "      <td>2</td>\n",
       "      <td>1600 km</td>\n",
       "      <td>4.000</td>\n",
       "      <td>Automatic</td>\n",
       "      <td>Rear</td>\n",
       "      <td>04-May</td>\n",
       "      <td>Left wheel</td>\n",
       "      <td>Black</td>\n",
       "      <td>12</td>\n",
       "    </tr>\n",
       "    <tr>\n",
       "      <th>...</th>\n",
       "      <td>...</td>\n",
       "      <td>...</td>\n",
       "      <td>...</td>\n",
       "      <td>...</td>\n",
       "      <td>...</td>\n",
       "      <td>...</td>\n",
       "      <td>...</td>\n",
       "      <td>...</td>\n",
       "      <td>...</td>\n",
       "      <td>...</td>\n",
       "      <td>...</td>\n",
       "      <td>...</td>\n",
       "      <td>...</td>\n",
       "      <td>...</td>\n",
       "      <td>...</td>\n",
       "      <td>...</td>\n",
       "    </tr>\n",
       "    <tr>\n",
       "      <th>19215</th>\n",
       "      <td>470</td>\n",
       "      <td>HYUNDAI</td>\n",
       "      <td>Elantra</td>\n",
       "      <td>2017</td>\n",
       "      <td>Sedan</td>\n",
       "      <td>Yes</td>\n",
       "      <td>Petrol</td>\n",
       "      <td>1.6</td>\n",
       "      <td>25635 km</td>\n",
       "      <td>4.000</td>\n",
       "      <td>Automatic</td>\n",
       "      <td>Front</td>\n",
       "      <td>04-May</td>\n",
       "      <td>Left wheel</td>\n",
       "      <td>Black</td>\n",
       "      <td>12</td>\n",
       "    </tr>\n",
       "    <tr>\n",
       "      <th>19218</th>\n",
       "      <td>30</td>\n",
       "      <td>NISSAN</td>\n",
       "      <td>Note</td>\n",
       "      <td>2006</td>\n",
       "      <td>Hatchback</td>\n",
       "      <td>No</td>\n",
       "      <td>Petrol</td>\n",
       "      <td>1.3</td>\n",
       "      <td>0 km</td>\n",
       "      <td>4.000</td>\n",
       "      <td>Automatic</td>\n",
       "      <td>Front</td>\n",
       "      <td>04-May</td>\n",
       "      <td>Right-hand drive</td>\n",
       "      <td>Green</td>\n",
       "      <td>9</td>\n",
       "    </tr>\n",
       "    <tr>\n",
       "      <th>19229</th>\n",
       "      <td>50</td>\n",
       "      <td>TOYOTA</td>\n",
       "      <td>Prius</td>\n",
       "      <td>2008</td>\n",
       "      <td>Hatchback</td>\n",
       "      <td>No</td>\n",
       "      <td>Hybrid</td>\n",
       "      <td>1.5</td>\n",
       "      <td>150000 km</td>\n",
       "      <td>4.000</td>\n",
       "      <td>Automatic</td>\n",
       "      <td>Front</td>\n",
       "      <td>04-May</td>\n",
       "      <td>Left wheel</td>\n",
       "      <td>Silver</td>\n",
       "      <td>6</td>\n",
       "    </tr>\n",
       "    <tr>\n",
       "      <th>19230</th>\n",
       "      <td>470</td>\n",
       "      <td>TOYOTA</td>\n",
       "      <td>Prius</td>\n",
       "      <td>2011</td>\n",
       "      <td>Hatchback</td>\n",
       "      <td>Yes</td>\n",
       "      <td>Hybrid</td>\n",
       "      <td>1.8</td>\n",
       "      <td>307325 km</td>\n",
       "      <td>4.000</td>\n",
       "      <td>Automatic</td>\n",
       "      <td>Front</td>\n",
       "      <td>04-May</td>\n",
       "      <td>Left wheel</td>\n",
       "      <td>Silver</td>\n",
       "      <td>12</td>\n",
       "    </tr>\n",
       "    <tr>\n",
       "      <th>19236</th>\n",
       "      <td>470</td>\n",
       "      <td>HYUNDAI</td>\n",
       "      <td>Sonata</td>\n",
       "      <td>2012</td>\n",
       "      <td>Sedan</td>\n",
       "      <td>Yes</td>\n",
       "      <td>Hybrid</td>\n",
       "      <td>2.4</td>\n",
       "      <td>186923 km</td>\n",
       "      <td>4.000</td>\n",
       "      <td>Automatic</td>\n",
       "      <td>Front</td>\n",
       "      <td>04-May</td>\n",
       "      <td>Left wheel</td>\n",
       "      <td>White</td>\n",
       "      <td>12</td>\n",
       "    </tr>\n",
       "  </tbody>\n",
       "</table>\n",
       "<p>1663 rows × 16 columns</p>\n",
       "</div>"
      ],
      "text/plain": [
       "       Price   Manufacturer       Model  Prod. year   Category  \\\n",
       "27        30         TOYOTA       Prius        2008      Sedan   \n",
       "33       125         TOYOTA  Highlander        2008      Sedan   \n",
       "39       314          LEXUS      RX 450        2010       Jeep   \n",
       "45       220         TOYOTA      Tacoma        2013       Jeep   \n",
       "53       392  MERCEDES-BENZ       E 300        2017      Sedan   \n",
       "...      ...            ...         ...         ...        ...   \n",
       "19215    470        HYUNDAI     Elantra        2017      Sedan   \n",
       "19218     30         NISSAN        Note        2006  Hatchback   \n",
       "19229     50         TOYOTA       Prius        2008  Hatchback   \n",
       "19230    470         TOYOTA       Prius        2011  Hatchback   \n",
       "19236    470        HYUNDAI      Sonata        2012      Sedan   \n",
       "\n",
       "      Leather interior Fuel type Engine volume    Mileage  Cylinders  \\\n",
       "27                  No    Hybrid           1.5  169000 km      4.000   \n",
       "33                 Yes    Hybrid           3.3  287274 km      6.000   \n",
       "39                 Yes    Hybrid           3.5  382746 km      6.000   \n",
       "45                 Yes    Petrol             4  239342 km      6.000   \n",
       "53                 Yes    Petrol             2    1600 km      4.000   \n",
       "...                ...       ...           ...        ...        ...   \n",
       "19215              Yes    Petrol           1.6   25635 km      4.000   \n",
       "19218               No    Petrol           1.3       0 km      4.000   \n",
       "19229               No    Hybrid           1.5  150000 km      4.000   \n",
       "19230              Yes    Hybrid           1.8  307325 km      4.000   \n",
       "19236              Yes    Hybrid           2.4  186923 km      4.000   \n",
       "\n",
       "      Gear box type Drive wheels   Doors             Wheel   Color  Airbags  \n",
       "27        Automatic        Front  04-May        Left wheel   White        8  \n",
       "33        Automatic          4x4  04-May        Left wheel   White       12  \n",
       "39        Automatic          4x4  04-May        Left wheel  Silver       12  \n",
       "45        Automatic          4x4  04-May        Left wheel  Silver       12  \n",
       "53        Automatic         Rear  04-May        Left wheel   Black       12  \n",
       "...             ...          ...     ...               ...     ...      ...  \n",
       "19215     Automatic        Front  04-May        Left wheel   Black       12  \n",
       "19218     Automatic        Front  04-May  Right-hand drive   Green        9  \n",
       "19229     Automatic        Front  04-May        Left wheel  Silver        6  \n",
       "19230     Automatic        Front  04-May        Left wheel  Silver       12  \n",
       "19236     Automatic        Front  04-May        Left wheel   White       12  \n",
       "\n",
       "[1663 rows x 16 columns]"
      ]
     },
     "execution_count": 13,
     "metadata": {},
     "output_type": "execute_result"
    }
   ],
   "source": [
    "df[df['Price'] < 500]"
   ]
  },
  {
   "cell_type": "code",
   "execution_count": 14,
   "id": "a5ccccc2",
   "metadata": {},
   "outputs": [
    {
     "data": {
      "text/plain": [
       "13"
      ]
     },
     "execution_count": 14,
     "metadata": {},
     "output_type": "execute_result"
    }
   ],
   "source": [
    "len(df[df['Price'] > 200000])"
   ]
  },
  {
   "cell_type": "markdown",
   "id": "7328950a",
   "metadata": {},
   "source": [
    "### Removing the outliers:\n",
    "* ### There are only 13 cars above 200000 price point, we can remove them.\n",
    "* ### The cars that are below 500 seem to be outliers too. There are many newer cars with low Mileages listed at that price point, which is very unlikely."
   ]
  },
  {
   "cell_type": "code",
   "execution_count": 15,
   "id": "b98d2982",
   "metadata": {},
   "outputs": [],
   "source": [
    "df = df[df['Price'] <= 200000]\n",
    "df = df[df['Price'] > 500]"
   ]
  },
  {
   "cell_type": "code",
   "execution_count": 16,
   "id": "39364675",
   "metadata": {},
   "outputs": [
    {
     "name": "stdout",
     "output_type": "stream",
     "text": [
      "<class 'pandas.core.frame.DataFrame'>\n",
      "Int64Index: 17559 entries, 0 to 19235\n",
      "Data columns (total 16 columns):\n",
      " #   Column            Non-Null Count  Dtype  \n",
      "---  ------            --------------  -----  \n",
      " 0   Price             17559 non-null  int64  \n",
      " 1   Manufacturer      17559 non-null  object \n",
      " 2   Model             17559 non-null  object \n",
      " 3   Prod. year        17559 non-null  int64  \n",
      " 4   Category          17559 non-null  object \n",
      " 5   Leather interior  17559 non-null  object \n",
      " 6   Fuel type         17559 non-null  object \n",
      " 7   Engine volume     17559 non-null  object \n",
      " 8   Mileage           17559 non-null  object \n",
      " 9   Cylinders         17559 non-null  float64\n",
      " 10  Gear box type     17559 non-null  object \n",
      " 11  Drive wheels      17559 non-null  object \n",
      " 12  Doors             17559 non-null  object \n",
      " 13  Wheel             17559 non-null  object \n",
      " 14  Color             17559 non-null  object \n",
      " 15  Airbags           17559 non-null  int64  \n",
      "dtypes: float64(1), int64(3), object(12)\n",
      "memory usage: 2.3+ MB\n"
     ]
    }
   ],
   "source": [
    "df.info()"
   ]
  },
  {
   "cell_type": "code",
   "execution_count": 18,
   "id": "6c7e8d44",
   "metadata": {},
   "outputs": [
    {
     "data": {
      "text/plain": [
       "2014    1961\n",
       "2012    1932\n",
       "2013    1777\n",
       "2015    1439\n",
       "2016    1411\n",
       "2011    1395\n",
       "2010    1330\n",
       "2017     833\n",
       "2008     636\n",
       "2009     563\n",
       "Name: Prod. year, dtype: int64"
      ]
     },
     "execution_count": 18,
     "metadata": {},
     "output_type": "execute_result"
    }
   ],
   "source": [
    "df['Prod. year'].value_counts()[:10]"
   ]
  },
  {
   "cell_type": "markdown",
   "id": "f6d8cef0",
   "metadata": {},
   "source": [
    "## As expected, the average price for year is steadily increasing. There seem to be some outliers, so I'm gonna check them by hand. It's possible that older cars are considered antique and therefore have a higher value."
   ]
  },
  {
   "cell_type": "code",
   "execution_count": 19,
   "id": "27d97d63",
   "metadata": {},
   "outputs": [
    {
     "data": {
      "image/png": "[encoded data removed]",
      "text/plain": [
       "<Figure size 1400x1000 with 1 Axes>"
      ]
     },
     "metadata": {},
     "output_type": "display_data"
    }
   ],
   "source": [
    "plt.figure(figsize=(14, 10))\n",
    "sns.barplot(data=df, x='Prod. year', y='Price')\n",
    "plt.xticks(rotation=45)\n",
    "plt.show()"
   ]
  },
  {
   "cell_type": "markdown",
   "id": "90183bcc",
   "metadata": {},
   "source": [
    "## Sure enough, these cars are very prestigue. So I'm just gonna leave them as is."
   ]
  },
  {
   "cell_type": "code",
   "execution_count": 20,
   "id": "203c9e01",
   "metadata": {},
   "outputs": [
    {
     "data": {
      "text/html": [
       "<div>\n",
       "<style scoped>\n",
       "    .dataframe tbody tr th:only-of-type {\n",
       "        vertical-align: middle;\n",
       "    }\n",
       "\n",
       "    .dataframe tbody tr th {\n",
       "        vertical-align: top;\n",
       "    }\n",
       "\n",
       "    .dataframe thead th {\n",
       "        text-align: right;\n",
       "    }\n",
       "</style>\n",
       "<table border=\"1\" class=\"dataframe\">\n",
       "  <thead>\n",
       "    <tr style=\"text-align: right;\">\n",
       "      <th></th>\n",
       "      <th>Price</th>\n",
       "      <th>Manufacturer</th>\n",
       "      <th>Model</th>\n",
       "      <th>Prod. year</th>\n",
       "      <th>Category</th>\n",
       "      <th>Leather interior</th>\n",
       "      <th>Fuel type</th>\n",
       "      <th>Engine volume</th>\n",
       "      <th>Mileage</th>\n",
       "      <th>Cylinders</th>\n",
       "      <th>Gear box type</th>\n",
       "      <th>Drive wheels</th>\n",
       "      <th>Doors</th>\n",
       "      <th>Wheel</th>\n",
       "      <th>Color</th>\n",
       "      <th>Airbags</th>\n",
       "    </tr>\n",
       "  </thead>\n",
       "  <tbody>\n",
       "    <tr>\n",
       "      <th>6607</th>\n",
       "      <td>119172</td>\n",
       "      <td>MERCEDES-BENZ</td>\n",
       "      <td>230 W153</td>\n",
       "      <td>1943</td>\n",
       "      <td>Sedan</td>\n",
       "      <td>Yes</td>\n",
       "      <td>Petrol</td>\n",
       "      <td>2.2</td>\n",
       "      <td>69000 km</td>\n",
       "      <td>4.000</td>\n",
       "      <td>Automatic</td>\n",
       "      <td>Rear</td>\n",
       "      <td>04-May</td>\n",
       "      <td>Left wheel</td>\n",
       "      <td>White</td>\n",
       "      <td>0</td>\n",
       "    </tr>\n",
       "  </tbody>\n",
       "</table>\n",
       "</div>"
      ],
      "text/plain": [
       "       Price   Manufacturer     Model  Prod. year Category Leather interior  \\\n",
       "6607  119172  MERCEDES-BENZ  230 W153        1943    Sedan              Yes   \n",
       "\n",
       "     Fuel type Engine volume   Mileage  Cylinders Gear box type Drive wheels  \\\n",
       "6607    Petrol           2.2  69000 km      4.000     Automatic         Rear   \n",
       "\n",
       "       Doors       Wheel  Color  Airbags  \n",
       "6607  04-May  Left wheel  White        0  "
      ]
     },
     "execution_count": 20,
     "metadata": {},
     "output_type": "execute_result"
    }
   ],
   "source": [
    "df[df['Prod. year'] == 1943]"
   ]
  },
  {
   "cell_type": "code",
   "execution_count": 21,
   "id": "be965993",
   "metadata": {},
   "outputs": [
    {
     "data": {
      "text/html": [
       "<div>\n",
       "<style scoped>\n",
       "    .dataframe tbody tr th:only-of-type {\n",
       "        vertical-align: middle;\n",
       "    }\n",
       "\n",
       "    .dataframe tbody tr th {\n",
       "        vertical-align: top;\n",
       "    }\n",
       "\n",
       "    .dataframe thead th {\n",
       "        text-align: right;\n",
       "    }\n",
       "</style>\n",
       "<table border=\"1\" class=\"dataframe\">\n",
       "  <thead>\n",
       "    <tr style=\"text-align: right;\">\n",
       "      <th></th>\n",
       "      <th>Price</th>\n",
       "      <th>Manufacturer</th>\n",
       "      <th>Model</th>\n",
       "      <th>Prod. year</th>\n",
       "      <th>Category</th>\n",
       "      <th>Leather interior</th>\n",
       "      <th>Fuel type</th>\n",
       "      <th>Engine volume</th>\n",
       "      <th>Mileage</th>\n",
       "      <th>Cylinders</th>\n",
       "      <th>Gear box type</th>\n",
       "      <th>Drive wheels</th>\n",
       "      <th>Doors</th>\n",
       "      <th>Wheel</th>\n",
       "      <th>Color</th>\n",
       "      <th>Airbags</th>\n",
       "    </tr>\n",
       "  </thead>\n",
       "  <tbody>\n",
       "    <tr>\n",
       "      <th>7667</th>\n",
       "      <td>65858</td>\n",
       "      <td>FORD</td>\n",
       "      <td>Mustang</td>\n",
       "      <td>1965</td>\n",
       "      <td>Coupe</td>\n",
       "      <td>Yes</td>\n",
       "      <td>Petrol</td>\n",
       "      <td>4.7</td>\n",
       "      <td>68800 km</td>\n",
       "      <td>8.000</td>\n",
       "      <td>Automatic</td>\n",
       "      <td>Front</td>\n",
       "      <td>02-Mar</td>\n",
       "      <td>Left wheel</td>\n",
       "      <td>Red</td>\n",
       "      <td>2</td>\n",
       "    </tr>\n",
       "    <tr>\n",
       "      <th>13973</th>\n",
       "      <td>64290</td>\n",
       "      <td>FORD</td>\n",
       "      <td>Mustang</td>\n",
       "      <td>1965</td>\n",
       "      <td>Coupe</td>\n",
       "      <td>Yes</td>\n",
       "      <td>Petrol</td>\n",
       "      <td>4.7 Turbo</td>\n",
       "      <td>1142 km</td>\n",
       "      <td>8.000</td>\n",
       "      <td>Automatic</td>\n",
       "      <td>Rear</td>\n",
       "      <td>02-Mar</td>\n",
       "      <td>Left wheel</td>\n",
       "      <td>Red</td>\n",
       "      <td>12</td>\n",
       "    </tr>\n",
       "  </tbody>\n",
       "</table>\n",
       "</div>"
      ],
      "text/plain": [
       "       Price Manufacturer    Model  Prod. year Category Leather interior  \\\n",
       "7667   65858         FORD  Mustang        1965    Coupe              Yes   \n",
       "13973  64290         FORD  Mustang        1965    Coupe              Yes   \n",
       "\n",
       "      Fuel type Engine volume   Mileage  Cylinders Gear box type Drive wheels  \\\n",
       "7667     Petrol           4.7  68800 km      8.000     Automatic        Front   \n",
       "13973    Petrol     4.7 Turbo   1142 km      8.000     Automatic         Rear   \n",
       "\n",
       "        Doors       Wheel Color  Airbags  \n",
       "7667   02-Mar  Left wheel   Red        2  \n",
       "13973  02-Mar  Left wheel   Red       12  "
      ]
     },
     "execution_count": 21,
     "metadata": {},
     "output_type": "execute_result"
    }
   ],
   "source": [
    "df[df['Prod. year'] == 1965]"
   ]
  },
  {
   "cell_type": "code",
   "execution_count": 22,
   "id": "c1533e33",
   "metadata": {},
   "outputs": [
    {
     "name": "stdout",
     "output_type": "stream",
     "text": [
      "<class 'pandas.core.frame.DataFrame'>\n",
      "Int64Index: 17559 entries, 0 to 19235\n",
      "Data columns (total 16 columns):\n",
      " #   Column            Non-Null Count  Dtype  \n",
      "---  ------            --------------  -----  \n",
      " 0   Price             17559 non-null  int64  \n",
      " 1   Manufacturer      17559 non-null  object \n",
      " 2   Model             17559 non-null  object \n",
      " 3   Prod. year        17559 non-null  int64  \n",
      " 4   Category          17559 non-null  object \n",
      " 5   Leather interior  17559 non-null  object \n",
      " 6   Fuel type         17559 non-null  object \n",
      " 7   Engine volume     17559 non-null  object \n",
      " 8   Mileage           17559 non-null  object \n",
      " 9   Cylinders         17559 non-null  float64\n",
      " 10  Gear box type     17559 non-null  object \n",
      " 11  Drive wheels      17559 non-null  object \n",
      " 12  Doors             17559 non-null  object \n",
      " 13  Wheel             17559 non-null  object \n",
      " 14  Color             17559 non-null  object \n",
      " 15  Airbags           17559 non-null  int64  \n",
      "dtypes: float64(1), int64(3), object(12)\n",
      "memory usage: 2.3+ MB\n"
     ]
    }
   ],
   "source": [
    "df.info()"
   ]
  },
  {
   "cell_type": "code",
   "execution_count": null,
   "id": "f4355030",
   "metadata": {},
   "outputs": [],
   "source": []
  },
  {
   "cell_type": "code",
   "execution_count": 23,
   "id": "68bf2613",
   "metadata": {},
   "outputs": [
    {
     "data": {
      "text/plain": [
       "Sedan          7998\n",
       "Jeep           4925\n",
       "Hatchback      2531\n",
       "Minivan         624\n",
       "Coupe           507\n",
       "Universal       363\n",
       "Microbus        295\n",
       "Goods wagon     229\n",
       "Pickup           47\n",
       "Cabriolet        34\n",
       "Limousine         6\n",
       "Name: Category, dtype: int64"
      ]
     },
     "execution_count": 23,
     "metadata": {},
     "output_type": "execute_result"
    }
   ],
   "source": [
    "df['Category'].value_counts()"
   ]
  },
  {
   "cell_type": "markdown",
   "id": "68d1df80",
   "metadata": {},
   "source": [
    "## Check how category affects the Price."
   ]
  },
  {
   "cell_type": "code",
   "execution_count": 24,
   "id": "bab26fc6",
   "metadata": {},
   "outputs": [
    {
     "data": {
      "image/png": "[encoded data removed]",
      "text/plain": [
       "<Figure size 640x480 with 1 Axes>"
      ]
     },
     "metadata": {},
     "output_type": "display_data"
    }
   ],
   "source": [
    "sns.barplot(data=df, x='Category', y='Price')\n",
    "plt.xticks(rotation=45)\n",
    "plt.show()"
   ]
  },
  {
   "cell_type": "markdown",
   "id": "4a463322",
   "metadata": {},
   "source": [
    "## The price is highly dependent on the type of category. To use this information in a model, we need to convert the fuel type from a categorical variable to a numeric one.\n",
    "* ### We can use the [to_dummies]((https://pandas.pydata.org/pandas-docs/stable/reference/api/pandas.get_dummies.html)) method in pandas to create dummy variables. This will add 11 new features to our DataFrame, but this should not pose a problem for the models we plan to train."
   ]
  },
  {
   "cell_type": "code",
   "execution_count": 25,
   "id": "e5d5fda4",
   "metadata": {},
   "outputs": [],
   "source": [
    "# Get one hot encoded values\n",
    "one_hot = pd.get_dummies(df['Category'])\n",
    "# Drop the initial column\n",
    "df = df.drop('Category', axis = 1)\n",
    "# Add one hot values to DataFrame.\n",
    "df = df.join(one_hot)"
   ]
  },
  {
   "cell_type": "markdown",
   "id": "ee789c87",
   "metadata": {},
   "source": [
    "## Let's check how Leather interior feature affects the price\n",
    "* ### We can compare their distributions and their average prices"
   ]
  },
  {
   "cell_type": "code",
   "execution_count": 26,
   "id": "19d3ecbc",
   "metadata": {},
   "outputs": [
    {
     "data": {
      "text/plain": [
       "Yes    12530\n",
       "No      5029\n",
       "Name: Leather interior, dtype: int64"
      ]
     },
     "execution_count": 26,
     "metadata": {},
     "output_type": "execute_result"
    }
   ],
   "source": [
    "df['Leather interior'].value_counts()"
   ]
  },
  {
   "cell_type": "code",
   "execution_count": 27,
   "id": "1dd12249",
   "metadata": {},
   "outputs": [
    {
     "data": {
      "text/plain": [
       "<Figure size 1000x1400 with 0 Axes>"
      ]
     },
     "metadata": {},
     "output_type": "display_data"
    },
    {
     "data": {
      "image/png": "[encoded data removed]",
      "text/plain": [
       "<Figure size 500x500 with 1 Axes>"
      ]
     },
     "metadata": {},
     "output_type": "display_data"
    }
   ],
   "source": [
    "plt.figure(figsize=(10, 14))\n",
    "sns.displot(df[df['Leather interior'] == 'Yes']['Price'])\n",
    "plt.show()"
   ]
  },
  {
   "cell_type": "code",
   "execution_count": 28,
   "id": "a09b4fb9",
   "metadata": {},
   "outputs": [
    {
     "data": {
      "image/png": "[encoded data removed]",
      "text/plain": [
       "<Figure size 500x500 with 1 Axes>"
      ]
     },
     "metadata": {},
     "output_type": "display_data"
    }
   ],
   "source": [
    "sns.displot(df[df['Leather interior'] == 'No']['Price'])\n",
    "plt.show()"
   ]
  },
  {
   "cell_type": "code",
   "execution_count": 29,
   "id": "45401d07",
   "metadata": {},
   "outputs": [
    {
     "name": "stdout",
     "output_type": "stream",
     "text": [
      "Average Price for with leather: 20401.407342378294\n",
      "Average Price for without leather: 14012.986677271823\n"
     ]
    }
   ],
   "source": [
    "average_price_with_leather = df[df['Leather interior'] == 'Yes']['Price'].mean()\n",
    "average_price_without_leather = df[df['Leather interior'] == 'No']['Price'].mean()\n",
    "\n",
    "print(\"Average Price for with leather:\", average_price_with_leather)\n",
    "print(\"Average Price for without leather:\", average_price_without_leather)"
   ]
  },
  {
   "cell_type": "markdown",
   "id": "26711195",
   "metadata": {},
   "source": [
    "* ### It seems that cars with leather interior have a higher price and their distributions are different too.\n",
    "* ### In order to use this feature for our model, we need to transform it from categorical to numeric.\n",
    "* ### We can just replace \"Yes\" with 1 and \"No\" with 0."
   ]
  },
  {
   "cell_type": "code",
   "execution_count": 30,
   "id": "c3cc13b6",
   "metadata": {},
   "outputs": [],
   "source": [
    "df['Leather interior'] = df['Leather interior'].map({\"Yes\": 1, \"No\": 0})"
   ]
  },
  {
   "cell_type": "code",
   "execution_count": 31,
   "id": "1e825968",
   "metadata": {},
   "outputs": [
    {
     "name": "stdout",
     "output_type": "stream",
     "text": [
      "<class 'pandas.core.frame.DataFrame'>\n",
      "Int64Index: 17559 entries, 0 to 19235\n",
      "Data columns (total 26 columns):\n",
      " #   Column            Non-Null Count  Dtype  \n",
      "---  ------            --------------  -----  \n",
      " 0   Price             17559 non-null  int64  \n",
      " 1   Manufacturer      17559 non-null  object \n",
      " 2   Model             17559 non-null  object \n",
      " 3   Prod. year        17559 non-null  int64  \n",
      " 4   Leather interior  17559 non-null  int64  \n",
      " 5   Fuel type         17559 non-null  object \n",
      " 6   Engine volume     17559 non-null  object \n",
      " 7   Mileage           17559 non-null  object \n",
      " 8   Cylinders         17559 non-null  float64\n",
      " 9   Gear box type     17559 non-null  object \n",
      " 10  Drive wheels      17559 non-null  object \n",
      " 11  Doors             17559 non-null  object \n",
      " 12  Wheel             17559 non-null  object \n",
      " 13  Color             17559 non-null  object \n",
      " 14  Airbags           17559 non-null  int64  \n",
      " 15  Cabriolet         17559 non-null  uint8  \n",
      " 16  Coupe             17559 non-null  uint8  \n",
      " 17  Goods wagon       17559 non-null  uint8  \n",
      " 18  Hatchback         17559 non-null  uint8  \n",
      " 19  Jeep              17559 non-null  uint8  \n",
      " 20  Limousine         17559 non-null  uint8  \n",
      " 21  Microbus          17559 non-null  uint8  \n",
      " 22  Minivan           17559 non-null  uint8  \n",
      " 23  Pickup            17559 non-null  uint8  \n",
      " 24  Sedan             17559 non-null  uint8  \n",
      " 25  Universal         17559 non-null  uint8  \n",
      "dtypes: float64(1), int64(4), object(10), uint8(11)\n",
      "memory usage: 2.8+ MB\n"
     ]
    }
   ],
   "source": [
    "df.info()"
   ]
  },
  {
   "cell_type": "code",
   "execution_count": 32,
   "id": "ceaf112e",
   "metadata": {
    "scrolled": true
   },
   "outputs": [
    {
     "data": {
      "text/plain": [
       "Petrol            9307\n",
       "Diesel            3846\n",
       "Hybrid            2959\n",
       "LPG                874\n",
       "CNG                486\n",
       "Plug-in Hybrid      86\n",
       "Hydrogen             1\n",
       "Name: Fuel type, dtype: int64"
      ]
     },
     "execution_count": 32,
     "metadata": {},
     "output_type": "execute_result"
    }
   ],
   "source": [
    "df['Fuel type'].value_counts()"
   ]
  },
  {
   "cell_type": "markdown",
   "id": "6d8e724c",
   "metadata": {},
   "source": [
    "## Let's check how fuel type affects the Price\n",
    "* ### We can use barplot to plot average prices for each type of fuel."
   ]
  },
  {
   "cell_type": "code",
   "execution_count": 33,
   "id": "8d184df1",
   "metadata": {},
   "outputs": [
    {
     "data": {
      "text/plain": [
       "<AxesSubplot:xlabel='Fuel type', ylabel='Price'>"
      ]
     },
     "execution_count": 33,
     "metadata": {},
     "output_type": "execute_result"
    },
    {
     "data": {
      "image/png": "[encoded data removed]",
      "text/plain": [
       "<Figure size 640x480 with 1 Axes>"
      ]
     },
     "metadata": {},
     "output_type": "display_data"
    }
   ],
   "source": [
    "sns.barplot(data=df, x='Fuel type', y='Price')"
   ]
  },
  {
   "cell_type": "markdown",
   "id": "a178d11b",
   "metadata": {},
   "source": [
    "## It appears the price of a car is significantly influenced by the type of fuel. To include this information into our model, we will need to transform the fuel type variable into a numeric representation."
   ]
  },
  {
   "cell_type": "code",
   "execution_count": 34,
   "id": "51710174",
   "metadata": {},
   "outputs": [],
   "source": [
    "# Get one hot encoded values\n",
    "one_hot = pd.get_dummies(df['Fuel type'])\n",
    "# Drop the initial column\n",
    "df = df.drop('Fuel type', axis = 1)\n",
    "# Add one hot values to DataFrame.\n",
    "df = df.join(one_hot)"
   ]
  },
  {
   "cell_type": "code",
   "execution_count": 35,
   "id": "1b461772",
   "metadata": {},
   "outputs": [
    {
     "name": "stdout",
     "output_type": "stream",
     "text": [
      "<class 'pandas.core.frame.DataFrame'>\n",
      "Int64Index: 17559 entries, 0 to 19235\n",
      "Data columns (total 32 columns):\n",
      " #   Column            Non-Null Count  Dtype  \n",
      "---  ------            --------------  -----  \n",
      " 0   Price             17559 non-null  int64  \n",
      " 1   Manufacturer      17559 non-null  object \n",
      " 2   Model             17559 non-null  object \n",
      " 3   Prod. year        17559 non-null  int64  \n",
      " 4   Leather interior  17559 non-null  int64  \n",
      " 5   Engine volume     17559 non-null  object \n",
      " 6   Mileage           17559 non-null  object \n",
      " 7   Cylinders         17559 non-null  float64\n",
      " 8   Gear box type     17559 non-null  object \n",
      " 9   Drive wheels      17559 non-null  object \n",
      " 10  Doors             17559 non-null  object \n",
      " 11  Wheel             17559 non-null  object \n",
      " 12  Color             17559 non-null  object \n",
      " 13  Airbags           17559 non-null  int64  \n",
      " 14  Cabriolet         17559 non-null  uint8  \n",
      " 15  Coupe             17559 non-null  uint8  \n",
      " 16  Goods wagon       17559 non-null  uint8  \n",
      " 17  Hatchback         17559 non-null  uint8  \n",
      " 18  Jeep              17559 non-null  uint8  \n",
      " 19  Limousine         17559 non-null  uint8  \n",
      " 20  Microbus          17559 non-null  uint8  \n",
      " 21  Minivan           17559 non-null  uint8  \n",
      " 22  Pickup            17559 non-null  uint8  \n",
      " 23  Sedan             17559 non-null  uint8  \n",
      " 24  Universal         17559 non-null  uint8  \n",
      " 25  CNG               17559 non-null  uint8  \n",
      " 26  Diesel            17559 non-null  uint8  \n",
      " 27  Hybrid            17559 non-null  uint8  \n",
      " 28  Hydrogen          17559 non-null  uint8  \n",
      " 29  LPG               17559 non-null  uint8  \n",
      " 30  Petrol            17559 non-null  uint8  \n",
      " 31  Plug-in Hybrid    17559 non-null  uint8  \n",
      "dtypes: float64(1), int64(4), object(9), uint8(18)\n",
      "memory usage: 2.8+ MB\n"
     ]
    }
   ],
   "source": [
    "df.info()"
   ]
  },
  {
   "cell_type": "code",
   "execution_count": 36,
   "id": "c74044f7",
   "metadata": {},
   "outputs": [
    {
     "data": {
      "text/plain": [
       "2            3706\n",
       "2.5          2051\n",
       "1.8          1569\n",
       "1.6          1413\n",
       "1.5          1203\n",
       "             ... \n",
       "6.7             1\n",
       "7.3             1\n",
       "3.7 Turbo       1\n",
       "6.8             1\n",
       "1.1 Turbo       1\n",
       "Name: Engine volume, Length: 106, dtype: int64"
      ]
     },
     "execution_count": 36,
     "metadata": {},
     "output_type": "execute_result"
    }
   ],
   "source": [
    "df['Engine volume'].value_counts()"
   ]
  },
  {
   "cell_type": "markdown",
   "id": "ea20581e",
   "metadata": {},
   "source": [
    "## Transform Engine Volume from categorical to numeric.\n",
    "* ### Engine Volume is a string object and we need to extract integer values from it. We can use the .extract() method."
   ]
  },
  {
   "cell_type": "code",
   "execution_count": 37,
   "id": "273b8ca5",
   "metadata": {},
   "outputs": [],
   "source": [
    "df['Engine volume'] = df['Engine volume'].str.extract('(\\d+)')\n",
    "df['Engine volume'] = pd.to_numeric(df['Engine volume'])"
   ]
  },
  {
   "cell_type": "code",
   "execution_count": 38,
   "id": "f8d7c23e",
   "metadata": {},
   "outputs": [
    {
     "data": {
      "text/plain": [
       "2     8010\n",
       "1     5971\n",
       "3     2605\n",
       "4      685\n",
       "5      189\n",
       "0       74\n",
       "6       22\n",
       "20       2\n",
       "7        1\n",
       "Name: Engine volume, dtype: int64"
      ]
     },
     "execution_count": 38,
     "metadata": {},
     "output_type": "execute_result"
    }
   ],
   "source": [
    "df['Engine volume'].value_counts()"
   ]
  },
  {
   "cell_type": "code",
   "execution_count": 39,
   "id": "3e7d7036",
   "metadata": {},
   "outputs": [
    {
     "data": {
      "text/plain": [
       "0        186005 km\n",
       "1        192000 km\n",
       "2        200000 km\n",
       "3        168966 km\n",
       "4         91901 km\n",
       "           ...    \n",
       "19231    107800 km\n",
       "19232    300000 km\n",
       "19233    161600 km\n",
       "19234    116365 km\n",
       "19235     51258 km\n",
       "Name: Mileage, Length: 17559, dtype: object"
      ]
     },
     "execution_count": 39,
     "metadata": {},
     "output_type": "execute_result"
    }
   ],
   "source": [
    "df['Mileage']"
   ]
  },
  {
   "cell_type": "markdown",
   "id": "07190ff0",
   "metadata": {},
   "source": [
    "## Transform Mileage from categorical to numeric\n",
    "* ### We can use the extract() method in a similar manner as above."
   ]
  },
  {
   "cell_type": "code",
   "execution_count": 40,
   "id": "15006b40",
   "metadata": {},
   "outputs": [],
   "source": [
    "df['Mileage'] = df['Mileage'].str.extract('(\\d+)')\n",
    "df['Mileage'] = pd.to_numeric(df['Mileage'])"
   ]
  },
  {
   "cell_type": "code",
   "execution_count": 41,
   "id": "56dd74fa",
   "metadata": {},
   "outputs": [
    {
     "name": "stdout",
     "output_type": "stream",
     "text": [
      "<class 'pandas.core.frame.DataFrame'>\n",
      "Int64Index: 17559 entries, 0 to 19235\n",
      "Data columns (total 32 columns):\n",
      " #   Column            Non-Null Count  Dtype  \n",
      "---  ------            --------------  -----  \n",
      " 0   Price             17559 non-null  int64  \n",
      " 1   Manufacturer      17559 non-null  object \n",
      " 2   Model             17559 non-null  object \n",
      " 3   Prod. year        17559 non-null  int64  \n",
      " 4   Leather interior  17559 non-null  int64  \n",
      " 5   Engine volume     17559 non-null  int64  \n",
      " 6   Mileage           17559 non-null  int64  \n",
      " 7   Cylinders         17559 non-null  float64\n",
      " 8   Gear box type     17559 non-null  object \n",
      " 9   Drive wheels      17559 non-null  object \n",
      " 10  Doors             17559 non-null  object \n",
      " 11  Wheel             17559 non-null  object \n",
      " 12  Color             17559 non-null  object \n",
      " 13  Airbags           17559 non-null  int64  \n",
      " 14  Cabriolet         17559 non-null  uint8  \n",
      " 15  Coupe             17559 non-null  uint8  \n",
      " 16  Goods wagon       17559 non-null  uint8  \n",
      " 17  Hatchback         17559 non-null  uint8  \n",
      " 18  Jeep              17559 non-null  uint8  \n",
      " 19  Limousine         17559 non-null  uint8  \n",
      " 20  Microbus          17559 non-null  uint8  \n",
      " 21  Minivan           17559 non-null  uint8  \n",
      " 22  Pickup            17559 non-null  uint8  \n",
      " 23  Sedan             17559 non-null  uint8  \n",
      " 24  Universal         17559 non-null  uint8  \n",
      " 25  CNG               17559 non-null  uint8  \n",
      " 26  Diesel            17559 non-null  uint8  \n",
      " 27  Hybrid            17559 non-null  uint8  \n",
      " 28  Hydrogen          17559 non-null  uint8  \n",
      " 29  LPG               17559 non-null  uint8  \n",
      " 30  Petrol            17559 non-null  uint8  \n",
      " 31  Plug-in Hybrid    17559 non-null  uint8  \n",
      "dtypes: float64(1), int64(6), object(7), uint8(18)\n",
      "memory usage: 2.8+ MB\n"
     ]
    }
   ],
   "source": [
    "df.info()"
   ]
  },
  {
   "cell_type": "code",
   "execution_count": 42,
   "id": "34726bf5",
   "metadata": {},
   "outputs": [
    {
     "data": {
      "text/plain": [
       "Automatic    11990\n",
       "Tiptronic     3021\n",
       "Manual        1836\n",
       "Variator       712\n",
       "Name: Gear box type, dtype: int64"
      ]
     },
     "execution_count": 42,
     "metadata": {},
     "output_type": "execute_result"
    }
   ],
   "source": [
    "df['Gear box type'].value_counts()"
   ]
  },
  {
   "cell_type": "markdown",
   "id": "d71feafc",
   "metadata": {},
   "source": [
    "## Transform Gear Box Type from Categorical to Numeric.\n",
    "* ### We can handle this the same way we handled Fuel type feature."
   ]
  },
  {
   "cell_type": "code",
   "execution_count": 43,
   "id": "9c58ec39",
   "metadata": {},
   "outputs": [],
   "source": [
    "# Get one hot encoded values\n",
    "one_hot = pd.get_dummies(df['Gear box type'])\n",
    "# Drop the initial column\n",
    "df = df.drop('Gear box type', axis = 1)\n",
    "# Add one hot values to DataFrame.\n",
    "df = df.join(one_hot)"
   ]
  },
  {
   "cell_type": "code",
   "execution_count": 44,
   "id": "d160eab5",
   "metadata": {},
   "outputs": [
    {
     "data": {
      "text/html": [
       "<div>\n",
       "<style scoped>\n",
       "    .dataframe tbody tr th:only-of-type {\n",
       "        vertical-align: middle;\n",
       "    }\n",
       "\n",
       "    .dataframe tbody tr th {\n",
       "        vertical-align: top;\n",
       "    }\n",
       "\n",
       "    .dataframe thead th {\n",
       "        text-align: right;\n",
       "    }\n",
       "</style>\n",
       "<table border=\"1\" class=\"dataframe\">\n",
       "  <thead>\n",
       "    <tr style=\"text-align: right;\">\n",
       "      <th></th>\n",
       "      <th>Price</th>\n",
       "      <th>Manufacturer</th>\n",
       "      <th>Model</th>\n",
       "      <th>Prod. year</th>\n",
       "      <th>Leather interior</th>\n",
       "      <th>Engine volume</th>\n",
       "      <th>Mileage</th>\n",
       "      <th>Cylinders</th>\n",
       "      <th>Drive wheels</th>\n",
       "      <th>Doors</th>\n",
       "      <th>...</th>\n",
       "      <th>Diesel</th>\n",
       "      <th>Hybrid</th>\n",
       "      <th>Hydrogen</th>\n",
       "      <th>LPG</th>\n",
       "      <th>Petrol</th>\n",
       "      <th>Plug-in Hybrid</th>\n",
       "      <th>Automatic</th>\n",
       "      <th>Manual</th>\n",
       "      <th>Tiptronic</th>\n",
       "      <th>Variator</th>\n",
       "    </tr>\n",
       "  </thead>\n",
       "  <tbody>\n",
       "    <tr>\n",
       "      <th>0</th>\n",
       "      <td>13328</td>\n",
       "      <td>LEXUS</td>\n",
       "      <td>RX 450</td>\n",
       "      <td>2010</td>\n",
       "      <td>1</td>\n",
       "      <td>3</td>\n",
       "      <td>186005</td>\n",
       "      <td>6.000</td>\n",
       "      <td>4x4</td>\n",
       "      <td>04-May</td>\n",
       "      <td>...</td>\n",
       "      <td>0</td>\n",
       "      <td>1</td>\n",
       "      <td>0</td>\n",
       "      <td>0</td>\n",
       "      <td>0</td>\n",
       "      <td>0</td>\n",
       "      <td>1</td>\n",
       "      <td>0</td>\n",
       "      <td>0</td>\n",
       "      <td>0</td>\n",
       "    </tr>\n",
       "    <tr>\n",
       "      <th>1</th>\n",
       "      <td>16621</td>\n",
       "      <td>CHEVROLET</td>\n",
       "      <td>Equinox</td>\n",
       "      <td>2011</td>\n",
       "      <td>0</td>\n",
       "      <td>3</td>\n",
       "      <td>192000</td>\n",
       "      <td>6.000</td>\n",
       "      <td>4x4</td>\n",
       "      <td>04-May</td>\n",
       "      <td>...</td>\n",
       "      <td>0</td>\n",
       "      <td>0</td>\n",
       "      <td>0</td>\n",
       "      <td>0</td>\n",
       "      <td>1</td>\n",
       "      <td>0</td>\n",
       "      <td>0</td>\n",
       "      <td>0</td>\n",
       "      <td>1</td>\n",
       "      <td>0</td>\n",
       "    </tr>\n",
       "    <tr>\n",
       "      <th>2</th>\n",
       "      <td>8467</td>\n",
       "      <td>HONDA</td>\n",
       "      <td>FIT</td>\n",
       "      <td>2006</td>\n",
       "      <td>0</td>\n",
       "      <td>1</td>\n",
       "      <td>200000</td>\n",
       "      <td>4.000</td>\n",
       "      <td>Front</td>\n",
       "      <td>04-May</td>\n",
       "      <td>...</td>\n",
       "      <td>0</td>\n",
       "      <td>0</td>\n",
       "      <td>0</td>\n",
       "      <td>0</td>\n",
       "      <td>1</td>\n",
       "      <td>0</td>\n",
       "      <td>0</td>\n",
       "      <td>0</td>\n",
       "      <td>0</td>\n",
       "      <td>1</td>\n",
       "    </tr>\n",
       "    <tr>\n",
       "      <th>3</th>\n",
       "      <td>3607</td>\n",
       "      <td>FORD</td>\n",
       "      <td>Escape</td>\n",
       "      <td>2011</td>\n",
       "      <td>1</td>\n",
       "      <td>2</td>\n",
       "      <td>168966</td>\n",
       "      <td>4.000</td>\n",
       "      <td>4x4</td>\n",
       "      <td>04-May</td>\n",
       "      <td>...</td>\n",
       "      <td>0</td>\n",
       "      <td>1</td>\n",
       "      <td>0</td>\n",
       "      <td>0</td>\n",
       "      <td>0</td>\n",
       "      <td>0</td>\n",
       "      <td>1</td>\n",
       "      <td>0</td>\n",
       "      <td>0</td>\n",
       "      <td>0</td>\n",
       "    </tr>\n",
       "    <tr>\n",
       "      <th>4</th>\n",
       "      <td>11726</td>\n",
       "      <td>HONDA</td>\n",
       "      <td>FIT</td>\n",
       "      <td>2014</td>\n",
       "      <td>1</td>\n",
       "      <td>1</td>\n",
       "      <td>91901</td>\n",
       "      <td>4.000</td>\n",
       "      <td>Front</td>\n",
       "      <td>04-May</td>\n",
       "      <td>...</td>\n",
       "      <td>0</td>\n",
       "      <td>0</td>\n",
       "      <td>0</td>\n",
       "      <td>0</td>\n",
       "      <td>1</td>\n",
       "      <td>0</td>\n",
       "      <td>1</td>\n",
       "      <td>0</td>\n",
       "      <td>0</td>\n",
       "      <td>0</td>\n",
       "    </tr>\n",
       "    <tr>\n",
       "      <th>...</th>\n",
       "      <td>...</td>\n",
       "      <td>...</td>\n",
       "      <td>...</td>\n",
       "      <td>...</td>\n",
       "      <td>...</td>\n",
       "      <td>...</td>\n",
       "      <td>...</td>\n",
       "      <td>...</td>\n",
       "      <td>...</td>\n",
       "      <td>...</td>\n",
       "      <td>...</td>\n",
       "      <td>...</td>\n",
       "      <td>...</td>\n",
       "      <td>...</td>\n",
       "      <td>...</td>\n",
       "      <td>...</td>\n",
       "      <td>...</td>\n",
       "      <td>...</td>\n",
       "      <td>...</td>\n",
       "      <td>...</td>\n",
       "      <td>...</td>\n",
       "    </tr>\n",
       "    <tr>\n",
       "      <th>19231</th>\n",
       "      <td>5802</td>\n",
       "      <td>MERCEDES-BENZ</td>\n",
       "      <td>E 350</td>\n",
       "      <td>2013</td>\n",
       "      <td>1</td>\n",
       "      <td>3</td>\n",
       "      <td>107800</td>\n",
       "      <td>6.000</td>\n",
       "      <td>Rear</td>\n",
       "      <td>04-May</td>\n",
       "      <td>...</td>\n",
       "      <td>1</td>\n",
       "      <td>0</td>\n",
       "      <td>0</td>\n",
       "      <td>0</td>\n",
       "      <td>0</td>\n",
       "      <td>0</td>\n",
       "      <td>1</td>\n",
       "      <td>0</td>\n",
       "      <td>0</td>\n",
       "      <td>0</td>\n",
       "    </tr>\n",
       "    <tr>\n",
       "      <th>19232</th>\n",
       "      <td>8467</td>\n",
       "      <td>MERCEDES-BENZ</td>\n",
       "      <td>CLK 200</td>\n",
       "      <td>1999</td>\n",
       "      <td>1</td>\n",
       "      <td>2</td>\n",
       "      <td>300000</td>\n",
       "      <td>4.000</td>\n",
       "      <td>Rear</td>\n",
       "      <td>02-Mar</td>\n",
       "      <td>...</td>\n",
       "      <td>0</td>\n",
       "      <td>0</td>\n",
       "      <td>0</td>\n",
       "      <td>0</td>\n",
       "      <td>0</td>\n",
       "      <td>0</td>\n",
       "      <td>0</td>\n",
       "      <td>1</td>\n",
       "      <td>0</td>\n",
       "      <td>0</td>\n",
       "    </tr>\n",
       "    <tr>\n",
       "      <th>19233</th>\n",
       "      <td>15681</td>\n",
       "      <td>HYUNDAI</td>\n",
       "      <td>Sonata</td>\n",
       "      <td>2011</td>\n",
       "      <td>1</td>\n",
       "      <td>2</td>\n",
       "      <td>161600</td>\n",
       "      <td>4.000</td>\n",
       "      <td>Front</td>\n",
       "      <td>04-May</td>\n",
       "      <td>...</td>\n",
       "      <td>0</td>\n",
       "      <td>0</td>\n",
       "      <td>0</td>\n",
       "      <td>0</td>\n",
       "      <td>1</td>\n",
       "      <td>0</td>\n",
       "      <td>0</td>\n",
       "      <td>0</td>\n",
       "      <td>1</td>\n",
       "      <td>0</td>\n",
       "    </tr>\n",
       "    <tr>\n",
       "      <th>19234</th>\n",
       "      <td>26108</td>\n",
       "      <td>HYUNDAI</td>\n",
       "      <td>Tucson</td>\n",
       "      <td>2010</td>\n",
       "      <td>1</td>\n",
       "      <td>2</td>\n",
       "      <td>116365</td>\n",
       "      <td>4.000</td>\n",
       "      <td>Front</td>\n",
       "      <td>04-May</td>\n",
       "      <td>...</td>\n",
       "      <td>1</td>\n",
       "      <td>0</td>\n",
       "      <td>0</td>\n",
       "      <td>0</td>\n",
       "      <td>0</td>\n",
       "      <td>0</td>\n",
       "      <td>1</td>\n",
       "      <td>0</td>\n",
       "      <td>0</td>\n",
       "      <td>0</td>\n",
       "    </tr>\n",
       "    <tr>\n",
       "      <th>19235</th>\n",
       "      <td>5331</td>\n",
       "      <td>CHEVROLET</td>\n",
       "      <td>Captiva</td>\n",
       "      <td>2007</td>\n",
       "      <td>1</td>\n",
       "      <td>2</td>\n",
       "      <td>51258</td>\n",
       "      <td>4.000</td>\n",
       "      <td>Front</td>\n",
       "      <td>04-May</td>\n",
       "      <td>...</td>\n",
       "      <td>1</td>\n",
       "      <td>0</td>\n",
       "      <td>0</td>\n",
       "      <td>0</td>\n",
       "      <td>0</td>\n",
       "      <td>0</td>\n",
       "      <td>1</td>\n",
       "      <td>0</td>\n",
       "      <td>0</td>\n",
       "      <td>0</td>\n",
       "    </tr>\n",
       "  </tbody>\n",
       "</table>\n",
       "<p>17559 rows × 35 columns</p>\n",
       "</div>"
      ],
      "text/plain": [
       "       Price   Manufacturer    Model  Prod. year  Leather interior  \\\n",
       "0      13328          LEXUS   RX 450        2010                 1   \n",
       "1      16621      CHEVROLET  Equinox        2011                 0   \n",
       "2       8467          HONDA      FIT        2006                 0   \n",
       "3       3607           FORD   Escape        2011                 1   \n",
       "4      11726          HONDA      FIT        2014                 1   \n",
       "...      ...            ...      ...         ...               ...   \n",
       "19231   5802  MERCEDES-BENZ    E 350        2013                 1   \n",
       "19232   8467  MERCEDES-BENZ  CLK 200        1999                 1   \n",
       "19233  15681        HYUNDAI   Sonata        2011                 1   \n",
       "19234  26108        HYUNDAI   Tucson        2010                 1   \n",
       "19235   5331      CHEVROLET  Captiva        2007                 1   \n",
       "\n",
       "       Engine volume  Mileage  Cylinders Drive wheels   Doors  ... Diesel  \\\n",
       "0                  3   186005      6.000          4x4  04-May  ...      0   \n",
       "1                  3   192000      6.000          4x4  04-May  ...      0   \n",
       "2                  1   200000      4.000        Front  04-May  ...      0   \n",
       "3                  2   168966      4.000          4x4  04-May  ...      0   \n",
       "4                  1    91901      4.000        Front  04-May  ...      0   \n",
       "...              ...      ...        ...          ...     ...  ...    ...   \n",
       "19231              3   107800      6.000         Rear  04-May  ...      1   \n",
       "19232              2   300000      4.000         Rear  02-Mar  ...      0   \n",
       "19233              2   161600      4.000        Front  04-May  ...      0   \n",
       "19234              2   116365      4.000        Front  04-May  ...      1   \n",
       "19235              2    51258      4.000        Front  04-May  ...      1   \n",
       "\n",
       "      Hybrid  Hydrogen  LPG  Petrol  Plug-in Hybrid  Automatic  Manual  \\\n",
       "0          1         0    0       0               0          1       0   \n",
       "1          0         0    0       1               0          0       0   \n",
       "2          0         0    0       1               0          0       0   \n",
       "3          1         0    0       0               0          1       0   \n",
       "4          0         0    0       1               0          1       0   \n",
       "...      ...       ...  ...     ...             ...        ...     ...   \n",
       "19231      0         0    0       0               0          1       0   \n",
       "19232      0         0    0       0               0          0       1   \n",
       "19233      0         0    0       1               0          0       0   \n",
       "19234      0         0    0       0               0          1       0   \n",
       "19235      0         0    0       0               0          1       0   \n",
       "\n",
       "       Tiptronic  Variator  \n",
       "0              0         0  \n",
       "1              1         0  \n",
       "2              0         1  \n",
       "3              0         0  \n",
       "4              0         0  \n",
       "...          ...       ...  \n",
       "19231          0         0  \n",
       "19232          0         0  \n",
       "19233          1         0  \n",
       "19234          0         0  \n",
       "19235          0         0  \n",
       "\n",
       "[17559 rows x 35 columns]"
      ]
     },
     "execution_count": 44,
     "metadata": {},
     "output_type": "execute_result"
    }
   ],
   "source": [
    "df"
   ]
  },
  {
   "cell_type": "code",
   "execution_count": 45,
   "id": "384a4fab",
   "metadata": {},
   "outputs": [
    {
     "name": "stdout",
     "output_type": "stream",
     "text": [
      "<class 'pandas.core.frame.DataFrame'>\n",
      "Int64Index: 17559 entries, 0 to 19235\n",
      "Data columns (total 35 columns):\n",
      " #   Column            Non-Null Count  Dtype  \n",
      "---  ------            --------------  -----  \n",
      " 0   Price             17559 non-null  int64  \n",
      " 1   Manufacturer      17559 non-null  object \n",
      " 2   Model             17559 non-null  object \n",
      " 3   Prod. year        17559 non-null  int64  \n",
      " 4   Leather interior  17559 non-null  int64  \n",
      " 5   Engine volume     17559 non-null  int64  \n",
      " 6   Mileage           17559 non-null  int64  \n",
      " 7   Cylinders         17559 non-null  float64\n",
      " 8   Drive wheels      17559 non-null  object \n",
      " 9   Doors             17559 non-null  object \n",
      " 10  Wheel             17559 non-null  object \n",
      " 11  Color             17559 non-null  object \n",
      " 12  Airbags           17559 non-null  int64  \n",
      " 13  Cabriolet         17559 non-null  uint8  \n",
      " 14  Coupe             17559 non-null  uint8  \n",
      " 15  Goods wagon       17559 non-null  uint8  \n",
      " 16  Hatchback         17559 non-null  uint8  \n",
      " 17  Jeep              17559 non-null  uint8  \n",
      " 18  Limousine         17559 non-null  uint8  \n",
      " 19  Microbus          17559 non-null  uint8  \n",
      " 20  Minivan           17559 non-null  uint8  \n",
      " 21  Pickup            17559 non-null  uint8  \n",
      " 22  Sedan             17559 non-null  uint8  \n",
      " 23  Universal         17559 non-null  uint8  \n",
      " 24  CNG               17559 non-null  uint8  \n",
      " 25  Diesel            17559 non-null  uint8  \n",
      " 26  Hybrid            17559 non-null  uint8  \n",
      " 27  Hydrogen          17559 non-null  uint8  \n",
      " 28  LPG               17559 non-null  uint8  \n",
      " 29  Petrol            17559 non-null  uint8  \n",
      " 30  Plug-in Hybrid    17559 non-null  uint8  \n",
      " 31  Automatic         17559 non-null  uint8  \n",
      " 32  Manual            17559 non-null  uint8  \n",
      " 33  Tiptronic         17559 non-null  uint8  \n",
      " 34  Variator          17559 non-null  uint8  \n",
      "dtypes: float64(1), int64(6), object(6), uint8(22)\n",
      "memory usage: 2.7+ MB\n"
     ]
    }
   ],
   "source": [
    "df.info()"
   ]
  },
  {
   "cell_type": "code",
   "execution_count": 46,
   "id": "ab442ac5",
   "metadata": {},
   "outputs": [
    {
     "data": {
      "text/plain": [
       "Front    11928\n",
       "4x4       3497\n",
       "Rear      2134\n",
       "Name: Drive wheels, dtype: int64"
      ]
     },
     "execution_count": 46,
     "metadata": {},
     "output_type": "execute_result"
    }
   ],
   "source": [
    "df['Drive wheels'].value_counts()"
   ]
  },
  {
   "cell_type": "markdown",
   "id": "cab55043",
   "metadata": {},
   "source": [
    "## Although there is not as much difference in the Drive wheels category, it still appears to be significant enough to justify including it in the model."
   ]
  },
  {
   "cell_type": "code",
   "execution_count": 47,
   "id": "af361fae",
   "metadata": {
    "scrolled": false
   },
   "outputs": [
    {
     "data": {
      "text/plain": [
       "<AxesSubplot:xlabel='Drive wheels', ylabel='Price'>"
      ]
     },
     "execution_count": 47,
     "metadata": {},
     "output_type": "execute_result"
    },
    {
     "data": {
      "image/png": "[encoded data removed]",
      "text/plain": [
       "<Figure size 640x480 with 1 Axes>"
      ]
     },
     "metadata": {},
     "output_type": "display_data"
    }
   ],
   "source": [
    "sns.barplot(data=df, x='Drive wheels', y='Price')"
   ]
  },
  {
   "cell_type": "code",
   "execution_count": 48,
   "id": "b7bed1b0",
   "metadata": {},
   "outputs": [],
   "source": [
    "# Get one hot encoded values\n",
    "one_hot = pd.get_dummies(df['Drive wheels'])\n",
    "# Drop the initial column\n",
    "df = df.drop('Drive wheels', axis = 1)\n",
    "# Add one hot values to DataFrame.\n",
    "df = df.join(one_hot)"
   ]
  },
  {
   "cell_type": "code",
   "execution_count": 49,
   "id": "273213c2",
   "metadata": {},
   "outputs": [
    {
     "data": {
      "text/plain": [
       "04-May    16686\n",
       "02-Mar      754\n",
       ">5          119\n",
       "Name: Doors, dtype: int64"
      ]
     },
     "execution_count": 49,
     "metadata": {},
     "output_type": "execute_result"
    }
   ],
   "source": [
    "df['Doors'].value_counts()"
   ]
  },
  {
   "cell_type": "markdown",
   "id": "625d498e",
   "metadata": {},
   "source": [
    "## Transform Doors into numeric values.\n",
    "* ### We can use the same approach for doors as we used with dealing with Mileages.\n",
    "* ### Extract integer informations and transform data"
   ]
  },
  {
   "cell_type": "code",
   "execution_count": 50,
   "id": "3c5b905e",
   "metadata": {},
   "outputs": [],
   "source": [
    "df['Doors'] = df['Doors'].str.extract('(\\d+)')\n",
    "df['Doors'] = pd.to_numeric(df['Doors'])"
   ]
  },
  {
   "cell_type": "code",
   "execution_count": 51,
   "id": "e85e1a78",
   "metadata": {},
   "outputs": [
    {
     "data": {
      "text/plain": [
       "4    16686\n",
       "2      754\n",
       "5      119\n",
       "Name: Doors, dtype: int64"
      ]
     },
     "execution_count": 51,
     "metadata": {},
     "output_type": "execute_result"
    }
   ],
   "source": [
    "df['Doors'].value_counts()"
   ]
  },
  {
   "cell_type": "code",
   "execution_count": 52,
   "id": "8190e3e5",
   "metadata": {},
   "outputs": [
    {
     "data": {
      "text/plain": [
       "Left wheel          16218\n",
       "Right-hand drive     1341\n",
       "Name: Wheel, dtype: int64"
      ]
     },
     "execution_count": 52,
     "metadata": {},
     "output_type": "execute_result"
    }
   ],
   "source": [
    "df['Wheel'].value_counts()"
   ]
  },
  {
   "cell_type": "markdown",
   "id": "ca198163",
   "metadata": {},
   "source": [
    "# Transform wheels into numeric values.\n",
    "* ### We can use the same approach for wheels as we used with dealing with Leather interior.\n",
    "* ### We can transform \"Left Wheel\" as 1 and \"Right-hand drive\" to 0."
   ]
  },
  {
   "cell_type": "code",
   "execution_count": 53,
   "id": "329daee6",
   "metadata": {},
   "outputs": [],
   "source": [
    "df['Wheel'] = df['Wheel'].map({\"Left wheel\": 1, \"Right-hand drive\": 0})"
   ]
  },
  {
   "cell_type": "code",
   "execution_count": 54,
   "id": "0016c4ed",
   "metadata": {},
   "outputs": [
    {
     "data": {
      "text/plain": [
       "0        1\n",
       "1        1\n",
       "2        0\n",
       "3        1\n",
       "4        1\n",
       "        ..\n",
       "19231    1\n",
       "19232    1\n",
       "19233    1\n",
       "19234    1\n",
       "19235    1\n",
       "Name: Wheel, Length: 17559, dtype: int64"
      ]
     },
     "execution_count": 54,
     "metadata": {},
     "output_type": "execute_result"
    }
   ],
   "source": [
    "df['Wheel']"
   ]
  },
  {
   "cell_type": "code",
   "execution_count": 55,
   "id": "6568cc00",
   "metadata": {},
   "outputs": [
    {
     "data": {
      "text/plain": [
       "Black            4544\n",
       "White            4046\n",
       "Silver           3496\n",
       "Grey             2144\n",
       "Blue             1291\n",
       "Red               597\n",
       "Green             301\n",
       "Orange            251\n",
       "Carnelian red     171\n",
       "Brown             164\n",
       "Golden            142\n",
       "Beige             128\n",
       "Sky blue          116\n",
       "Yellow            106\n",
       "Purple             37\n",
       "Pink               25\n",
       "Name: Color, dtype: int64"
      ]
     },
     "execution_count": 55,
     "metadata": {},
     "output_type": "execute_result"
    }
   ],
   "source": [
    "df['Color'].value_counts()"
   ]
  },
  {
   "cell_type": "markdown",
   "id": "06d6e708",
   "metadata": {},
   "source": [
    "## Color is another feature that might be relevant to the pricing of the car.\n",
    "* ### If we don't want to lose any information, we have to one hot encode this feature too. This means we'll be adding 16 new columns to the DataFrame."
   ]
  },
  {
   "cell_type": "code",
   "execution_count": 56,
   "id": "115022c5",
   "metadata": {},
   "outputs": [],
   "source": [
    "# Get one hot encoded values\n",
    "one_hot = pd.get_dummies(df['Color'])\n",
    "# Drop the initial column\n",
    "df = df.drop('Color', axis = 1)\n",
    "# Add one hot values to DataFrame.\n",
    "df = df.join(one_hot)"
   ]
  },
  {
   "cell_type": "code",
   "execution_count": 57,
   "id": "842bf81c",
   "metadata": {},
   "outputs": [
    {
     "name": "stdout",
     "output_type": "stream",
     "text": [
      "<class 'pandas.core.frame.DataFrame'>\n",
      "Int64Index: 17559 entries, 0 to 19235\n",
      "Data columns (total 52 columns):\n",
      " #   Column            Non-Null Count  Dtype  \n",
      "---  ------            --------------  -----  \n",
      " 0   Price             17559 non-null  int64  \n",
      " 1   Manufacturer      17559 non-null  object \n",
      " 2   Model             17559 non-null  object \n",
      " 3   Prod. year        17559 non-null  int64  \n",
      " 4   Leather interior  17559 non-null  int64  \n",
      " 5   Engine volume     17559 non-null  int64  \n",
      " 6   Mileage           17559 non-null  int64  \n",
      " 7   Cylinders         17559 non-null  float64\n",
      " 8   Doors             17559 non-null  int64  \n",
      " 9   Wheel             17559 non-null  int64  \n",
      " 10  Airbags           17559 non-null  int64  \n",
      " 11  Cabriolet         17559 non-null  uint8  \n",
      " 12  Coupe             17559 non-null  uint8  \n",
      " 13  Goods wagon       17559 non-null  uint8  \n",
      " 14  Hatchback         17559 non-null  uint8  \n",
      " 15  Jeep              17559 non-null  uint8  \n",
      " 16  Limousine         17559 non-null  uint8  \n",
      " 17  Microbus          17559 non-null  uint8  \n",
      " 18  Minivan           17559 non-null  uint8  \n",
      " 19  Pickup            17559 non-null  uint8  \n",
      " 20  Sedan             17559 non-null  uint8  \n",
      " 21  Universal         17559 non-null  uint8  \n",
      " 22  CNG               17559 non-null  uint8  \n",
      " 23  Diesel            17559 non-null  uint8  \n",
      " 24  Hybrid            17559 non-null  uint8  \n",
      " 25  Hydrogen          17559 non-null  uint8  \n",
      " 26  LPG               17559 non-null  uint8  \n",
      " 27  Petrol            17559 non-null  uint8  \n",
      " 28  Plug-in Hybrid    17559 non-null  uint8  \n",
      " 29  Automatic         17559 non-null  uint8  \n",
      " 30  Manual            17559 non-null  uint8  \n",
      " 31  Tiptronic         17559 non-null  uint8  \n",
      " 32  Variator          17559 non-null  uint8  \n",
      " 33  4x4               17559 non-null  uint8  \n",
      " 34  Front             17559 non-null  uint8  \n",
      " 35  Rear              17559 non-null  uint8  \n",
      " 36  Beige             17559 non-null  uint8  \n",
      " 37  Black             17559 non-null  uint8  \n",
      " 38  Blue              17559 non-null  uint8  \n",
      " 39  Brown             17559 non-null  uint8  \n",
      " 40  Carnelian red     17559 non-null  uint8  \n",
      " 41  Golden            17559 non-null  uint8  \n",
      " 42  Green             17559 non-null  uint8  \n",
      " 43  Grey              17559 non-null  uint8  \n",
      " 44  Orange            17559 non-null  uint8  \n",
      " 45  Pink              17559 non-null  uint8  \n",
      " 46  Purple            17559 non-null  uint8  \n",
      " 47  Red               17559 non-null  uint8  \n",
      " 48  Silver            17559 non-null  uint8  \n",
      " 49  Sky blue          17559 non-null  uint8  \n",
      " 50  White             17559 non-null  uint8  \n",
      " 51  Yellow            17559 non-null  uint8  \n",
      "dtypes: float64(1), int64(8), object(2), uint8(41)\n",
      "memory usage: 2.8+ MB\n"
     ]
    }
   ],
   "source": [
    "df.info()"
   ]
  },
  {
   "cell_type": "code",
   "execution_count": null,
   "id": "a581bed2",
   "metadata": {},
   "outputs": [],
   "source": []
  },
  {
   "cell_type": "markdown",
   "id": "bb53c81b",
   "metadata": {},
   "source": [
    "# Creating Regression Models\n",
    "* ## Now that all of our variables are in numeric values, we can start training our model.\n",
    "* ## Let's first split the data into train and test sets using sklearn's [train_test_split](https://scikit-learn.org/stable/modules/generated/sklearn.model_selection.train_test_split.html)"
   ]
  },
  {
   "cell_type": "code",
   "execution_count": 58,
   "id": "7420c691",
   "metadata": {},
   "outputs": [],
   "source": [
    "X = df.drop(['Manufacturer', 'Model', 'Price'], axis=1)\n",
    "y = df['Price']"
   ]
  },
  {
   "cell_type": "code",
   "execution_count": 59,
   "id": "e9710728",
   "metadata": {},
   "outputs": [],
   "source": [
    "X_train, X_test, y_train, y_test = train_test_split(X, y, test_size=0.3, random_state=42)"
   ]
  },
  {
   "cell_type": "code",
   "execution_count": 60,
   "id": "93d1aa47",
   "metadata": {},
   "outputs": [
    {
     "data": {
      "text/html": [
       "<div>\n",
       "<style scoped>\n",
       "    .dataframe tbody tr th:only-of-type {\n",
       "        vertical-align: middle;\n",
       "    }\n",
       "\n",
       "    .dataframe tbody tr th {\n",
       "        vertical-align: top;\n",
       "    }\n",
       "\n",
       "    .dataframe thead th {\n",
       "        text-align: right;\n",
       "    }\n",
       "</style>\n",
       "<table border=\"1\" class=\"dataframe\">\n",
       "  <thead>\n",
       "    <tr style=\"text-align: right;\">\n",
       "      <th></th>\n",
       "      <th>Prod. year</th>\n",
       "      <th>Leather interior</th>\n",
       "      <th>Engine volume</th>\n",
       "      <th>Mileage</th>\n",
       "      <th>Cylinders</th>\n",
       "      <th>Doors</th>\n",
       "      <th>Wheel</th>\n",
       "      <th>Airbags</th>\n",
       "      <th>Cabriolet</th>\n",
       "      <th>Coupe</th>\n",
       "      <th>...</th>\n",
       "      <th>Green</th>\n",
       "      <th>Grey</th>\n",
       "      <th>Orange</th>\n",
       "      <th>Pink</th>\n",
       "      <th>Purple</th>\n",
       "      <th>Red</th>\n",
       "      <th>Silver</th>\n",
       "      <th>Sky blue</th>\n",
       "      <th>White</th>\n",
       "      <th>Yellow</th>\n",
       "    </tr>\n",
       "  </thead>\n",
       "  <tbody>\n",
       "    <tr>\n",
       "      <th>17502</th>\n",
       "      <td>2017</td>\n",
       "      <td>1</td>\n",
       "      <td>1</td>\n",
       "      <td>64416</td>\n",
       "      <td>4.000</td>\n",
       "      <td>4</td>\n",
       "      <td>1</td>\n",
       "      <td>4</td>\n",
       "      <td>0</td>\n",
       "      <td>0</td>\n",
       "      <td>...</td>\n",
       "      <td>0</td>\n",
       "      <td>0</td>\n",
       "      <td>0</td>\n",
       "      <td>0</td>\n",
       "      <td>0</td>\n",
       "      <td>0</td>\n",
       "      <td>0</td>\n",
       "      <td>0</td>\n",
       "      <td>0</td>\n",
       "      <td>0</td>\n",
       "    </tr>\n",
       "    <tr>\n",
       "      <th>6483</th>\n",
       "      <td>1999</td>\n",
       "      <td>0</td>\n",
       "      <td>1</td>\n",
       "      <td>225000</td>\n",
       "      <td>4.000</td>\n",
       "      <td>4</td>\n",
       "      <td>1</td>\n",
       "      <td>2</td>\n",
       "      <td>0</td>\n",
       "      <td>0</td>\n",
       "      <td>...</td>\n",
       "      <td>0</td>\n",
       "      <td>0</td>\n",
       "      <td>0</td>\n",
       "      <td>0</td>\n",
       "      <td>0</td>\n",
       "      <td>0</td>\n",
       "      <td>0</td>\n",
       "      <td>0</td>\n",
       "      <td>0</td>\n",
       "      <td>0</td>\n",
       "    </tr>\n",
       "    <tr>\n",
       "      <th>7718</th>\n",
       "      <td>2016</td>\n",
       "      <td>1</td>\n",
       "      <td>3</td>\n",
       "      <td>81000</td>\n",
       "      <td>6.000</td>\n",
       "      <td>4</td>\n",
       "      <td>1</td>\n",
       "      <td>12</td>\n",
       "      <td>0</td>\n",
       "      <td>0</td>\n",
       "      <td>...</td>\n",
       "      <td>0</td>\n",
       "      <td>1</td>\n",
       "      <td>0</td>\n",
       "      <td>0</td>\n",
       "      <td>0</td>\n",
       "      <td>0</td>\n",
       "      <td>0</td>\n",
       "      <td>0</td>\n",
       "      <td>0</td>\n",
       "      <td>0</td>\n",
       "    </tr>\n",
       "    <tr>\n",
       "      <th>104</th>\n",
       "      <td>2004</td>\n",
       "      <td>0</td>\n",
       "      <td>2</td>\n",
       "      <td>300000</td>\n",
       "      <td>4.000</td>\n",
       "      <td>4</td>\n",
       "      <td>1</td>\n",
       "      <td>1</td>\n",
       "      <td>0</td>\n",
       "      <td>0</td>\n",
       "      <td>...</td>\n",
       "      <td>0</td>\n",
       "      <td>0</td>\n",
       "      <td>0</td>\n",
       "      <td>0</td>\n",
       "      <td>0</td>\n",
       "      <td>0</td>\n",
       "      <td>0</td>\n",
       "      <td>0</td>\n",
       "      <td>1</td>\n",
       "      <td>0</td>\n",
       "    </tr>\n",
       "    <tr>\n",
       "      <th>12013</th>\n",
       "      <td>2008</td>\n",
       "      <td>0</td>\n",
       "      <td>3</td>\n",
       "      <td>128487</td>\n",
       "      <td>8.000</td>\n",
       "      <td>4</td>\n",
       "      <td>1</td>\n",
       "      <td>8</td>\n",
       "      <td>0</td>\n",
       "      <td>0</td>\n",
       "      <td>...</td>\n",
       "      <td>0</td>\n",
       "      <td>0</td>\n",
       "      <td>0</td>\n",
       "      <td>0</td>\n",
       "      <td>0</td>\n",
       "      <td>0</td>\n",
       "      <td>0</td>\n",
       "      <td>0</td>\n",
       "      <td>0</td>\n",
       "      <td>0</td>\n",
       "    </tr>\n",
       "    <tr>\n",
       "      <th>...</th>\n",
       "      <td>...</td>\n",
       "      <td>...</td>\n",
       "      <td>...</td>\n",
       "      <td>...</td>\n",
       "      <td>...</td>\n",
       "      <td>...</td>\n",
       "      <td>...</td>\n",
       "      <td>...</td>\n",
       "      <td>...</td>\n",
       "      <td>...</td>\n",
       "      <td>...</td>\n",
       "      <td>...</td>\n",
       "      <td>...</td>\n",
       "      <td>...</td>\n",
       "      <td>...</td>\n",
       "      <td>...</td>\n",
       "      <td>...</td>\n",
       "      <td>...</td>\n",
       "      <td>...</td>\n",
       "      <td>...</td>\n",
       "      <td>...</td>\n",
       "    </tr>\n",
       "    <tr>\n",
       "      <th>12365</th>\n",
       "      <td>2008</td>\n",
       "      <td>0</td>\n",
       "      <td>0</td>\n",
       "      <td>166000</td>\n",
       "      <td>4.000</td>\n",
       "      <td>2</td>\n",
       "      <td>0</td>\n",
       "      <td>4</td>\n",
       "      <td>0</td>\n",
       "      <td>0</td>\n",
       "      <td>...</td>\n",
       "      <td>0</td>\n",
       "      <td>1</td>\n",
       "      <td>0</td>\n",
       "      <td>0</td>\n",
       "      <td>0</td>\n",
       "      <td>0</td>\n",
       "      <td>0</td>\n",
       "      <td>0</td>\n",
       "      <td>0</td>\n",
       "      <td>0</td>\n",
       "    </tr>\n",
       "    <tr>\n",
       "      <th>13112</th>\n",
       "      <td>2014</td>\n",
       "      <td>1</td>\n",
       "      <td>1</td>\n",
       "      <td>78836</td>\n",
       "      <td>4.000</td>\n",
       "      <td>4</td>\n",
       "      <td>1</td>\n",
       "      <td>4</td>\n",
       "      <td>0</td>\n",
       "      <td>0</td>\n",
       "      <td>...</td>\n",
       "      <td>0</td>\n",
       "      <td>0</td>\n",
       "      <td>0</td>\n",
       "      <td>0</td>\n",
       "      <td>0</td>\n",
       "      <td>0</td>\n",
       "      <td>1</td>\n",
       "      <td>0</td>\n",
       "      <td>0</td>\n",
       "      <td>0</td>\n",
       "    </tr>\n",
       "    <tr>\n",
       "      <th>5911</th>\n",
       "      <td>1992</td>\n",
       "      <td>0</td>\n",
       "      <td>2</td>\n",
       "      <td>111111</td>\n",
       "      <td>4.000</td>\n",
       "      <td>4</td>\n",
       "      <td>1</td>\n",
       "      <td>4</td>\n",
       "      <td>0</td>\n",
       "      <td>0</td>\n",
       "      <td>...</td>\n",
       "      <td>0</td>\n",
       "      <td>0</td>\n",
       "      <td>0</td>\n",
       "      <td>0</td>\n",
       "      <td>0</td>\n",
       "      <td>0</td>\n",
       "      <td>0</td>\n",
       "      <td>0</td>\n",
       "      <td>0</td>\n",
       "      <td>0</td>\n",
       "    </tr>\n",
       "    <tr>\n",
       "      <th>933</th>\n",
       "      <td>2010</td>\n",
       "      <td>1</td>\n",
       "      <td>3</td>\n",
       "      <td>179554</td>\n",
       "      <td>6.000</td>\n",
       "      <td>4</td>\n",
       "      <td>1</td>\n",
       "      <td>6</td>\n",
       "      <td>0</td>\n",
       "      <td>0</td>\n",
       "      <td>...</td>\n",
       "      <td>0</td>\n",
       "      <td>1</td>\n",
       "      <td>0</td>\n",
       "      <td>0</td>\n",
       "      <td>0</td>\n",
       "      <td>0</td>\n",
       "      <td>0</td>\n",
       "      <td>0</td>\n",
       "      <td>0</td>\n",
       "      <td>0</td>\n",
       "    </tr>\n",
       "    <tr>\n",
       "      <th>17333</th>\n",
       "      <td>2014</td>\n",
       "      <td>1</td>\n",
       "      <td>2</td>\n",
       "      <td>279722</td>\n",
       "      <td>4.000</td>\n",
       "      <td>4</td>\n",
       "      <td>1</td>\n",
       "      <td>0</td>\n",
       "      <td>0</td>\n",
       "      <td>0</td>\n",
       "      <td>...</td>\n",
       "      <td>0</td>\n",
       "      <td>0</td>\n",
       "      <td>0</td>\n",
       "      <td>0</td>\n",
       "      <td>0</td>\n",
       "      <td>0</td>\n",
       "      <td>0</td>\n",
       "      <td>0</td>\n",
       "      <td>0</td>\n",
       "      <td>0</td>\n",
       "    </tr>\n",
       "  </tbody>\n",
       "</table>\n",
       "<p>12291 rows × 49 columns</p>\n",
       "</div>"
      ],
      "text/plain": [
       "       Prod. year  Leather interior  Engine volume  Mileage  Cylinders  Doors  \\\n",
       "17502        2017                 1              1    64416      4.000      4   \n",
       "6483         1999                 0              1   225000      4.000      4   \n",
       "7718         2016                 1              3    81000      6.000      4   \n",
       "104          2004                 0              2   300000      4.000      4   \n",
       "12013        2008                 0              3   128487      8.000      4   \n",
       "...           ...               ...            ...      ...        ...    ...   \n",
       "12365        2008                 0              0   166000      4.000      2   \n",
       "13112        2014                 1              1    78836      4.000      4   \n",
       "5911         1992                 0              2   111111      4.000      4   \n",
       "933          2010                 1              3   179554      6.000      4   \n",
       "17333        2014                 1              2   279722      4.000      4   \n",
       "\n",
       "       Wheel  Airbags  Cabriolet  Coupe  ...  Green  Grey  Orange  Pink  \\\n",
       "17502      1        4          0      0  ...      0     0       0     0   \n",
       "6483       1        2          0      0  ...      0     0       0     0   \n",
       "7718       1       12          0      0  ...      0     1       0     0   \n",
       "104        1        1          0      0  ...      0     0       0     0   \n",
       "12013      1        8          0      0  ...      0     0       0     0   \n",
       "...      ...      ...        ...    ...  ...    ...   ...     ...   ...   \n",
       "12365      0        4          0      0  ...      0     1       0     0   \n",
       "13112      1        4          0      0  ...      0     0       0     0   \n",
       "5911       1        4          0      0  ...      0     0       0     0   \n",
       "933        1        6          0      0  ...      0     1       0     0   \n",
       "17333      1        0          0      0  ...      0     0       0     0   \n",
       "\n",
       "       Purple  Red  Silver  Sky blue  White  Yellow  \n",
       "17502       0    0       0         0      0       0  \n",
       "6483        0    0       0         0      0       0  \n",
       "7718        0    0       0         0      0       0  \n",
       "104         0    0       0         0      1       0  \n",
       "12013       0    0       0         0      0       0  \n",
       "...       ...  ...     ...       ...    ...     ...  \n",
       "12365       0    0       0         0      0       0  \n",
       "13112       0    0       1         0      0       0  \n",
       "5911        0    0       0         0      0       0  \n",
       "933         0    0       0         0      0       0  \n",
       "17333       0    0       0         0      0       0  \n",
       "\n",
       "[12291 rows x 49 columns]"
      ]
     },
     "execution_count": 60,
     "metadata": {},
     "output_type": "execute_result"
    }
   ],
   "source": [
    "X_train"
   ]
  },
  {
   "cell_type": "code",
   "execution_count": null,
   "id": "88ddc64d",
   "metadata": {},
   "outputs": [],
   "source": []
  },
  {
   "cell_type": "markdown",
   "id": "120df774",
   "metadata": {},
   "source": [
    "* ## First, we're gonna go for a simple, Linear Regression model and see how it performs."
   ]
  },
  {
   "cell_type": "code",
   "execution_count": 61,
   "id": "08a98057",
   "metadata": {},
   "outputs": [],
   "source": [
    "linear_model = LinearRegression()"
   ]
  },
  {
   "cell_type": "code",
   "execution_count": 62,
   "id": "90cec723",
   "metadata": {},
   "outputs": [
    {
     "data": {
      "text/html": [
       "<style>#sk-container-id-1 {color: black;background-color: white;}#sk-container-id-1 pre{padding: 0;}#sk-container-id-1 div.sk-toggleable {background-color: white;}#sk-container-id-1 label.sk-toggleable__label {cursor: pointer;display: block;width: 100%;margin-bottom: 0;padding: 0.3em;box-sizing: border-box;text-align: center;}#sk-container-id-1 label.sk-toggleable__label-arrow:before {content: \"▸\";float: left;margin-right: 0.25em;color: #696969;}#sk-container-id-1 label.sk-toggleable__label-arrow:hover:before {color: black;}#sk-container-id-1 div.sk-estimator:hover label.sk-toggleable__label-arrow:before {color: black;}#sk-container-id-1 div.sk-toggleable__content {max-height: 0;max-width: 0;overflow: hidden;text-align: left;background-color: #f0f8ff;}#sk-container-id-1 div.sk-toggleable__content pre {margin: 0.2em;color: black;border-radius: 0.25em;background-color: #f0f8ff;}#sk-container-id-1 input.sk-toggleable__control:checked~div.sk-toggleable__content {max-height: 200px;max-width: 100%;overflow: auto;}#sk-container-id-1 input.sk-toggleable__control:checked~label.sk-toggleable__label-arrow:before {content: \"▾\";}#sk-container-id-1 div.sk-estimator input.sk-toggleable__control:checked~label.sk-toggleable__label {background-color: #d4ebff;}#sk-container-id-1 div.sk-label input.sk-toggleable__control:checked~label.sk-toggleable__label {background-color: #d4ebff;}#sk-container-id-1 input.sk-hidden--visually {border: 0;clip: rect(1px 1px 1px 1px);clip: rect(1px, 1px, 1px, 1px);height: 1px;margin: -1px;overflow: hidden;padding: 0;position: absolute;width: 1px;}#sk-container-id-1 div.sk-estimator {font-family: monospace;background-color: #f0f8ff;border: 1px dotted black;border-radius: 0.25em;box-sizing: border-box;margin-bottom: 0.5em;}#sk-container-id-1 div.sk-estimator:hover {background-color: #d4ebff;}#sk-container-id-1 div.sk-parallel-item::after {content: \"\";width: 100%;border-bottom: 1px solid gray;flex-grow: 1;}#sk-container-id-1 div.sk-label:hover label.sk-toggleable__label {background-color: #d4ebff;}#sk-container-id-1 div.sk-serial::before {content: \"\";position: absolute;border-left: 1px solid gray;box-sizing: border-box;top: 0;bottom: 0;left: 50%;z-index: 0;}#sk-container-id-1 div.sk-serial {display: flex;flex-direction: column;align-items: center;background-color: white;padding-right: 0.2em;padding-left: 0.2em;position: relative;}#sk-container-id-1 div.sk-item {position: relative;z-index: 1;}#sk-container-id-1 div.sk-parallel {display: flex;align-items: stretch;justify-content: center;background-color: white;position: relative;}#sk-container-id-1 div.sk-item::before, #sk-container-id-1 div.sk-parallel-item::before {content: \"\";position: absolute;border-left: 1px solid gray;box-sizing: border-box;top: 0;bottom: 0;left: 50%;z-index: -1;}#sk-container-id-1 div.sk-parallel-item {display: flex;flex-direction: column;z-index: 1;position: relative;background-color: white;}#sk-container-id-1 div.sk-parallel-item:first-child::after {align-self: flex-end;width: 50%;}#sk-container-id-1 div.sk-parallel-item:last-child::after {align-self: flex-start;width: 50%;}#sk-container-id-1 div.sk-parallel-item:only-child::after {width: 0;}#sk-container-id-1 div.sk-dashed-wrapped {border: 1px dashed gray;margin: 0 0.4em 0.5em 0.4em;box-sizing: border-box;padding-bottom: 0.4em;background-color: white;}#sk-container-id-1 div.sk-label label {font-family: monospace;font-weight: bold;display: inline-block;line-height: 1.2em;}#sk-container-id-1 div.sk-label-container {text-align: center;}#sk-container-id-1 div.sk-container {/* jupyter's `normalize.less` sets `[hidden] { display: none; }` but bootstrap.min.css set `[hidden] { display: none !important; }` so we also need the `!important` here to be able to override the default hidden behavior on the sphinx rendered scikit-learn.org. See: https://github.com/scikit-learn/scikit-learn/issues/21755 */display: inline-block !important;position: relative;}#sk-container-id-1 div.sk-text-repr-fallback {display: none;}</style><div id=\"sk-container-id-1\" class=\"sk-top-container\"><div class=\"sk-text-repr-fallback\"><pre>LinearRegression()</pre><b>In a Jupyter environment, please rerun this cell to show the HTML representation or trust the notebook. <br />On GitHub, the HTML representation is unable to render, please try loading this page with nbviewer.org.</b></div><div class=\"sk-container\" hidden><div class=\"sk-item\"><div class=\"sk-estimator sk-toggleable\"><input class=\"sk-toggleable__control sk-hidden--visually\" id=\"sk-estimator-id-1\" type=\"checkbox\" checked><label for=\"sk-estimator-id-1\" class=\"sk-toggleable__label sk-toggleable__label-arrow\">LinearRegression</label><div class=\"sk-toggleable__content\"><pre>LinearRegression()</pre></div></div></div></div></div>"
      ],
      "text/plain": [
       "LinearRegression()"
      ]
     },
     "execution_count": 62,
     "metadata": {},
     "output_type": "execute_result"
    }
   ],
   "source": [
    "linear_model.fit(X_train, y_train)"
   ]
  },
  {
   "cell_type": "markdown",
   "id": "71e6a8e6",
   "metadata": {},
   "source": [
    "## Setting squared=False returns RMSE instead of MSE, see the documentation [here](https://scikit-learn.org/stable/modules/generated/sklearn.metrics.mean_squared_log_error.html)"
   ]
  },
  {
   "cell_type": "markdown",
   "id": "54423348",
   "metadata": {},
   "source": [
    "* ### Performance on the Train Set:"
   ]
  },
  {
   "cell_type": "code",
   "execution_count": 63,
   "id": "5a9b7306",
   "metadata": {
    "scrolled": true
   },
   "outputs": [
    {
     "name": "stdout",
     "output_type": "stream",
     "text": [
      "(Train Set) RMSE For a Linear Regression: 14664.445331686169\n"
     ]
    }
   ],
   "source": [
    "y_pred_train = linear_model.predict(X_train)\n",
    "RMSE = mean_squared_error(y_train, y_pred_train, squared=False)\n",
    "print(\"(Train Set) RMSE For a Linear Regression:\", RMSE)"
   ]
  },
  {
   "cell_type": "markdown",
   "id": "8505762e",
   "metadata": {},
   "source": [
    "* ### Performance on the Test Set:"
   ]
  },
  {
   "cell_type": "code",
   "execution_count": 64,
   "id": "e742ca53",
   "metadata": {},
   "outputs": [
    {
     "name": "stdout",
     "output_type": "stream",
     "text": [
      "RMSE For a Linear Regression: 14179.136080031034\n"
     ]
    }
   ],
   "source": [
    "y_pred_test = linear_model.predict(X_test)\n",
    "RMSE = mean_squared_error(y_test, y_pred_test, squared=False)\n",
    "print(\"RMSE For a Linear Regression:\", RMSE)"
   ]
  },
  {
   "cell_type": "code",
   "execution_count": 65,
   "id": "59c97350",
   "metadata": {},
   "outputs": [],
   "source": [
    "y_pred = linear_model.predict(X_test)"
   ]
  },
  {
   "cell_type": "markdown",
   "id": "7539afe1",
   "metadata": {},
   "source": [
    "## Now we will try using KNN Regression, as it was also utilized in the previously mentioned paper."
   ]
  },
  {
   "cell_type": "code",
   "execution_count": 66,
   "id": "7992a02c",
   "metadata": {},
   "outputs": [],
   "source": [
    "knn_model = KNeighborsRegressor()"
   ]
  },
  {
   "cell_type": "code",
   "execution_count": 67,
   "id": "e1692fc8",
   "metadata": {},
   "outputs": [
    {
     "data": {
      "text/html": [
       "<style>#sk-container-id-2 {color: black;background-color: white;}#sk-container-id-2 pre{padding: 0;}#sk-container-id-2 div.sk-toggleable {background-color: white;}#sk-container-id-2 label.sk-toggleable__label {cursor: pointer;display: block;width: 100%;margin-bottom: 0;padding: 0.3em;box-sizing: border-box;text-align: center;}#sk-container-id-2 label.sk-toggleable__label-arrow:before {content: \"▸\";float: left;margin-right: 0.25em;color: #696969;}#sk-container-id-2 label.sk-toggleable__label-arrow:hover:before {color: black;}#sk-container-id-2 div.sk-estimator:hover label.sk-toggleable__label-arrow:before {color: black;}#sk-container-id-2 div.sk-toggleable__content {max-height: 0;max-width: 0;overflow: hidden;text-align: left;background-color: #f0f8ff;}#sk-container-id-2 div.sk-toggleable__content pre {margin: 0.2em;color: black;border-radius: 0.25em;background-color: #f0f8ff;}#sk-container-id-2 input.sk-toggleable__control:checked~div.sk-toggleable__content {max-height: 200px;max-width: 100%;overflow: auto;}#sk-container-id-2 input.sk-toggleable__control:checked~label.sk-toggleable__label-arrow:before {content: \"▾\";}#sk-container-id-2 div.sk-estimator input.sk-toggleable__control:checked~label.sk-toggleable__label {background-color: #d4ebff;}#sk-container-id-2 div.sk-label input.sk-toggleable__control:checked~label.sk-toggleable__label {background-color: #d4ebff;}#sk-container-id-2 input.sk-hidden--visually {border: 0;clip: rect(1px 1px 1px 1px);clip: rect(1px, 1px, 1px, 1px);height: 1px;margin: -1px;overflow: hidden;padding: 0;position: absolute;width: 1px;}#sk-container-id-2 div.sk-estimator {font-family: monospace;background-color: #f0f8ff;border: 1px dotted black;border-radius: 0.25em;box-sizing: border-box;margin-bottom: 0.5em;}#sk-container-id-2 div.sk-estimator:hover {background-color: #d4ebff;}#sk-container-id-2 div.sk-parallel-item::after {content: \"\";width: 100%;border-bottom: 1px solid gray;flex-grow: 1;}#sk-container-id-2 div.sk-label:hover label.sk-toggleable__label {background-color: #d4ebff;}#sk-container-id-2 div.sk-serial::before {content: \"\";position: absolute;border-left: 1px solid gray;box-sizing: border-box;top: 0;bottom: 0;left: 50%;z-index: 0;}#sk-container-id-2 div.sk-serial {display: flex;flex-direction: column;align-items: center;background-color: white;padding-right: 0.2em;padding-left: 0.2em;position: relative;}#sk-container-id-2 div.sk-item {position: relative;z-index: 1;}#sk-container-id-2 div.sk-parallel {display: flex;align-items: stretch;justify-content: center;background-color: white;position: relative;}#sk-container-id-2 div.sk-item::before, #sk-container-id-2 div.sk-parallel-item::before {content: \"\";position: absolute;border-left: 1px solid gray;box-sizing: border-box;top: 0;bottom: 0;left: 50%;z-index: -1;}#sk-container-id-2 div.sk-parallel-item {display: flex;flex-direction: column;z-index: 1;position: relative;background-color: white;}#sk-container-id-2 div.sk-parallel-item:first-child::after {align-self: flex-end;width: 50%;}#sk-container-id-2 div.sk-parallel-item:last-child::after {align-self: flex-start;width: 50%;}#sk-container-id-2 div.sk-parallel-item:only-child::after {width: 0;}#sk-container-id-2 div.sk-dashed-wrapped {border: 1px dashed gray;margin: 0 0.4em 0.5em 0.4em;box-sizing: border-box;padding-bottom: 0.4em;background-color: white;}#sk-container-id-2 div.sk-label label {font-family: monospace;font-weight: bold;display: inline-block;line-height: 1.2em;}#sk-container-id-2 div.sk-label-container {text-align: center;}#sk-container-id-2 div.sk-container {/* jupyter's `normalize.less` sets `[hidden] { display: none; }` but bootstrap.min.css set `[hidden] { display: none !important; }` so we also need the `!important` here to be able to override the default hidden behavior on the sphinx rendered scikit-learn.org. See: https://github.com/scikit-learn/scikit-learn/issues/21755 */display: inline-block !important;position: relative;}#sk-container-id-2 div.sk-text-repr-fallback {display: none;}</style><div id=\"sk-container-id-2\" class=\"sk-top-container\"><div class=\"sk-text-repr-fallback\"><pre>KNeighborsRegressor()</pre><b>In a Jupyter environment, please rerun this cell to show the HTML representation or trust the notebook. <br />On GitHub, the HTML representation is unable to render, please try loading this page with nbviewer.org.</b></div><div class=\"sk-container\" hidden><div class=\"sk-item\"><div class=\"sk-estimator sk-toggleable\"><input class=\"sk-toggleable__control sk-hidden--visually\" id=\"sk-estimator-id-2\" type=\"checkbox\" checked><label for=\"sk-estimator-id-2\" class=\"sk-toggleable__label sk-toggleable__label-arrow\">KNeighborsRegressor</label><div class=\"sk-toggleable__content\"><pre>KNeighborsRegressor()</pre></div></div></div></div></div>"
      ],
      "text/plain": [
       "KNeighborsRegressor()"
      ]
     },
     "execution_count": 67,
     "metadata": {},
     "output_type": "execute_result"
    }
   ],
   "source": [
    "knn_model.fit(X_train, y_train)"
   ]
  },
  {
   "cell_type": "markdown",
   "id": "4ee943e8",
   "metadata": {},
   "source": [
    "* ### Performance on the Train Set:"
   ]
  },
  {
   "cell_type": "code",
   "execution_count": 68,
   "id": "c2ad1c38",
   "metadata": {},
   "outputs": [
    {
     "name": "stdout",
     "output_type": "stream",
     "text": [
      "(Train Set) RMSE For a KNN Regression: 13036.565102812543\n"
     ]
    }
   ],
   "source": [
    "y_pred_train = knn_model.predict(X_train)\n",
    "RMSE = mean_squared_error(y_train, y_pred_train, squared=False)\n",
    "print(\"(Train Set) RMSE For a KNN Regression:\", RMSE)"
   ]
  },
  {
   "cell_type": "markdown",
   "id": "f052fb8b",
   "metadata": {},
   "source": [
    "* ### Performance on the Test Set:"
   ]
  },
  {
   "cell_type": "code",
   "execution_count": 69,
   "id": "bea01037",
   "metadata": {},
   "outputs": [
    {
     "name": "stdout",
     "output_type": "stream",
     "text": [
      "RMSE For a KNN Regression: 15997.664188221004\n"
     ]
    }
   ],
   "source": [
    "y_pred_test = knn_model.predict(X_test)\n",
    "RMSE = mean_squared_error(y_test, y_pred_test, squared=False)\n",
    "print(\"RMSE For a KNN Regression:\", RMSE)"
   ]
  },
  {
   "cell_type": "markdown",
   "id": "70ef30fc",
   "metadata": {},
   "source": [
    "## Now we're gonna train a RandomForest, which is a collection of decision trees. I believe that this model should work the best, given the nature of our data."
   ]
  },
  {
   "cell_type": "code",
   "execution_count": 70,
   "id": "91f44737",
   "metadata": {},
   "outputs": [],
   "source": [
    "forest_model = RandomForestRegressor()"
   ]
  },
  {
   "cell_type": "code",
   "execution_count": 71,
   "id": "43dd810c",
   "metadata": {},
   "outputs": [
    {
     "data": {
      "text/html": [
       "<style>#sk-container-id-3 {color: black;background-color: white;}#sk-container-id-3 pre{padding: 0;}#sk-container-id-3 div.sk-toggleable {background-color: white;}#sk-container-id-3 label.sk-toggleable__label {cursor: pointer;display: block;width: 100%;margin-bottom: 0;padding: 0.3em;box-sizing: border-box;text-align: center;}#sk-container-id-3 label.sk-toggleable__label-arrow:before {content: \"▸\";float: left;margin-right: 0.25em;color: #696969;}#sk-container-id-3 label.sk-toggleable__label-arrow:hover:before {color: black;}#sk-container-id-3 div.sk-estimator:hover label.sk-toggleable__label-arrow:before {color: black;}#sk-container-id-3 div.sk-toggleable__content {max-height: 0;max-width: 0;overflow: hidden;text-align: left;background-color: #f0f8ff;}#sk-container-id-3 div.sk-toggleable__content pre {margin: 0.2em;color: black;border-radius: 0.25em;background-color: #f0f8ff;}#sk-container-id-3 input.sk-toggleable__control:checked~div.sk-toggleable__content {max-height: 200px;max-width: 100%;overflow: auto;}#sk-container-id-3 input.sk-toggleable__control:checked~label.sk-toggleable__label-arrow:before {content: \"▾\";}#sk-container-id-3 div.sk-estimator input.sk-toggleable__control:checked~label.sk-toggleable__label {background-color: #d4ebff;}#sk-container-id-3 div.sk-label input.sk-toggleable__control:checked~label.sk-toggleable__label {background-color: #d4ebff;}#sk-container-id-3 input.sk-hidden--visually {border: 0;clip: rect(1px 1px 1px 1px);clip: rect(1px, 1px, 1px, 1px);height: 1px;margin: -1px;overflow: hidden;padding: 0;position: absolute;width: 1px;}#sk-container-id-3 div.sk-estimator {font-family: monospace;background-color: #f0f8ff;border: 1px dotted black;border-radius: 0.25em;box-sizing: border-box;margin-bottom: 0.5em;}#sk-container-id-3 div.sk-estimator:hover {background-color: #d4ebff;}#sk-container-id-3 div.sk-parallel-item::after {content: \"\";width: 100%;border-bottom: 1px solid gray;flex-grow: 1;}#sk-container-id-3 div.sk-label:hover label.sk-toggleable__label {background-color: #d4ebff;}#sk-container-id-3 div.sk-serial::before {content: \"\";position: absolute;border-left: 1px solid gray;box-sizing: border-box;top: 0;bottom: 0;left: 50%;z-index: 0;}#sk-container-id-3 div.sk-serial {display: flex;flex-direction: column;align-items: center;background-color: white;padding-right: 0.2em;padding-left: 0.2em;position: relative;}#sk-container-id-3 div.sk-item {position: relative;z-index: 1;}#sk-container-id-3 div.sk-parallel {display: flex;align-items: stretch;justify-content: center;background-color: white;position: relative;}#sk-container-id-3 div.sk-item::before, #sk-container-id-3 div.sk-parallel-item::before {content: \"\";position: absolute;border-left: 1px solid gray;box-sizing: border-box;top: 0;bottom: 0;left: 50%;z-index: -1;}#sk-container-id-3 div.sk-parallel-item {display: flex;flex-direction: column;z-index: 1;position: relative;background-color: white;}#sk-container-id-3 div.sk-parallel-item:first-child::after {align-self: flex-end;width: 50%;}#sk-container-id-3 div.sk-parallel-item:last-child::after {align-self: flex-start;width: 50%;}#sk-container-id-3 div.sk-parallel-item:only-child::after {width: 0;}#sk-container-id-3 div.sk-dashed-wrapped {border: 1px dashed gray;margin: 0 0.4em 0.5em 0.4em;box-sizing: border-box;padding-bottom: 0.4em;background-color: white;}#sk-container-id-3 div.sk-label label {font-family: monospace;font-weight: bold;display: inline-block;line-height: 1.2em;}#sk-container-id-3 div.sk-label-container {text-align: center;}#sk-container-id-3 div.sk-container {/* jupyter's `normalize.less` sets `[hidden] { display: none; }` but bootstrap.min.css set `[hidden] { display: none !important; }` so we also need the `!important` here to be able to override the default hidden behavior on the sphinx rendered scikit-learn.org. See: https://github.com/scikit-learn/scikit-learn/issues/21755 */display: inline-block !important;position: relative;}#sk-container-id-3 div.sk-text-repr-fallback {display: none;}</style><div id=\"sk-container-id-3\" class=\"sk-top-container\"><div class=\"sk-text-repr-fallback\"><pre>RandomForestRegressor()</pre><b>In a Jupyter environment, please rerun this cell to show the HTML representation or trust the notebook. <br />On GitHub, the HTML representation is unable to render, please try loading this page with nbviewer.org.</b></div><div class=\"sk-container\" hidden><div class=\"sk-item\"><div class=\"sk-estimator sk-toggleable\"><input class=\"sk-toggleable__control sk-hidden--visually\" id=\"sk-estimator-id-3\" type=\"checkbox\" checked><label for=\"sk-estimator-id-3\" class=\"sk-toggleable__label sk-toggleable__label-arrow\">RandomForestRegressor</label><div class=\"sk-toggleable__content\"><pre>RandomForestRegressor()</pre></div></div></div></div></div>"
      ],
      "text/plain": [
       "RandomForestRegressor()"
      ]
     },
     "execution_count": 71,
     "metadata": {},
     "output_type": "execute_result"
    }
   ],
   "source": [
    "forest_model.fit(X_train, y_train)"
   ]
  },
  {
   "cell_type": "markdown",
   "id": "0b50d3c8",
   "metadata": {},
   "source": [
    "* ### Performance on the Train Set:"
   ]
  },
  {
   "cell_type": "code",
   "execution_count": 72,
   "id": "e4c90a76",
   "metadata": {},
   "outputs": [
    {
     "name": "stdout",
     "output_type": "stream",
     "text": [
      "(Train Set) RMSE For a Random Forest Regression: 3941.836359373642\n"
     ]
    }
   ],
   "source": [
    "y_pred_train = forest_model.predict(X_train)\n",
    "RMSE = mean_squared_error(y_train, y_pred_train, squared=False)\n",
    "print(\"(Train Set) RMSE For a Random Forest Regression:\", RMSE)"
   ]
  },
  {
   "cell_type": "markdown",
   "id": "3901702f",
   "metadata": {},
   "source": [
    "* ### Performance on the Test Set:"
   ]
  },
  {
   "cell_type": "code",
   "execution_count": 73,
   "id": "e951e039",
   "metadata": {},
   "outputs": [
    {
     "name": "stdout",
     "output_type": "stream",
     "text": [
      "RMSE For a Random Forest Regression: 9303.40117110199\n"
     ]
    }
   ],
   "source": [
    "y_pred_test = forest_model.predict(X_test)\n",
    "RMSE = mean_squared_error(y_test, y_pred_test, squared=False)\n",
    "print(\"RMSE For a Random Forest Regression:\", RMSE)"
   ]
  },
  {
   "cell_type": "markdown",
   "id": "15e11aa1",
   "metadata": {},
   "source": [
    "## As anticipated, the Random Forest model achieved the best performance. While the model may be overfitted to the training set, we could potentially reduce this by adjusting the hyperparameters"
   ]
  },
  {
   "cell_type": "markdown",
   "id": "23fca6b5",
   "metadata": {},
   "source": [
    "## We will also test using the Gradient Boosting method. Though this method was not mentioned in the paper, it is known to be a state-of-the-art technique for regression tasks and may potentially perform well in this situation."
   ]
  },
  {
   "cell_type": "code",
   "execution_count": 74,
   "id": "af99ad34",
   "metadata": {},
   "outputs": [],
   "source": [
    "boosting_model = GradientBoostingRegressor()"
   ]
  },
  {
   "cell_type": "code",
   "execution_count": 75,
   "id": "77b62aef",
   "metadata": {},
   "outputs": [
    {
     "data": {
      "text/html": [
       "<style>#sk-container-id-4 {color: black;background-color: white;}#sk-container-id-4 pre{padding: 0;}#sk-container-id-4 div.sk-toggleable {background-color: white;}#sk-container-id-4 label.sk-toggleable__label {cursor: pointer;display: block;width: 100%;margin-bottom: 0;padding: 0.3em;box-sizing: border-box;text-align: center;}#sk-container-id-4 label.sk-toggleable__label-arrow:before {content: \"▸\";float: left;margin-right: 0.25em;color: #696969;}#sk-container-id-4 label.sk-toggleable__label-arrow:hover:before {color: black;}#sk-container-id-4 div.sk-estimator:hover label.sk-toggleable__label-arrow:before {color: black;}#sk-container-id-4 div.sk-toggleable__content {max-height: 0;max-width: 0;overflow: hidden;text-align: left;background-color: #f0f8ff;}#sk-container-id-4 div.sk-toggleable__content pre {margin: 0.2em;color: black;border-radius: 0.25em;background-color: #f0f8ff;}#sk-container-id-4 input.sk-toggleable__control:checked~div.sk-toggleable__content {max-height: 200px;max-width: 100%;overflow: auto;}#sk-container-id-4 input.sk-toggleable__control:checked~label.sk-toggleable__label-arrow:before {content: \"▾\";}#sk-container-id-4 div.sk-estimator input.sk-toggleable__control:checked~label.sk-toggleable__label {background-color: #d4ebff;}#sk-container-id-4 div.sk-label input.sk-toggleable__control:checked~label.sk-toggleable__label {background-color: #d4ebff;}#sk-container-id-4 input.sk-hidden--visually {border: 0;clip: rect(1px 1px 1px 1px);clip: rect(1px, 1px, 1px, 1px);height: 1px;margin: -1px;overflow: hidden;padding: 0;position: absolute;width: 1px;}#sk-container-id-4 div.sk-estimator {font-family: monospace;background-color: #f0f8ff;border: 1px dotted black;border-radius: 0.25em;box-sizing: border-box;margin-bottom: 0.5em;}#sk-container-id-4 div.sk-estimator:hover {background-color: #d4ebff;}#sk-container-id-4 div.sk-parallel-item::after {content: \"\";width: 100%;border-bottom: 1px solid gray;flex-grow: 1;}#sk-container-id-4 div.sk-label:hover label.sk-toggleable__label {background-color: #d4ebff;}#sk-container-id-4 div.sk-serial::before {content: \"\";position: absolute;border-left: 1px solid gray;box-sizing: border-box;top: 0;bottom: 0;left: 50%;z-index: 0;}#sk-container-id-4 div.sk-serial {display: flex;flex-direction: column;align-items: center;background-color: white;padding-right: 0.2em;padding-left: 0.2em;position: relative;}#sk-container-id-4 div.sk-item {position: relative;z-index: 1;}#sk-container-id-4 div.sk-parallel {display: flex;align-items: stretch;justify-content: center;background-color: white;position: relative;}#sk-container-id-4 div.sk-item::before, #sk-container-id-4 div.sk-parallel-item::before {content: \"\";position: absolute;border-left: 1px solid gray;box-sizing: border-box;top: 0;bottom: 0;left: 50%;z-index: -1;}#sk-container-id-4 div.sk-parallel-item {display: flex;flex-direction: column;z-index: 1;position: relative;background-color: white;}#sk-container-id-4 div.sk-parallel-item:first-child::after {align-self: flex-end;width: 50%;}#sk-container-id-4 div.sk-parallel-item:last-child::after {align-self: flex-start;width: 50%;}#sk-container-id-4 div.sk-parallel-item:only-child::after {width: 0;}#sk-container-id-4 div.sk-dashed-wrapped {border: 1px dashed gray;margin: 0 0.4em 0.5em 0.4em;box-sizing: border-box;padding-bottom: 0.4em;background-color: white;}#sk-container-id-4 div.sk-label label {font-family: monospace;font-weight: bold;display: inline-block;line-height: 1.2em;}#sk-container-id-4 div.sk-label-container {text-align: center;}#sk-container-id-4 div.sk-container {/* jupyter's `normalize.less` sets `[hidden] { display: none; }` but bootstrap.min.css set `[hidden] { display: none !important; }` so we also need the `!important` here to be able to override the default hidden behavior on the sphinx rendered scikit-learn.org. See: https://github.com/scikit-learn/scikit-learn/issues/21755 */display: inline-block !important;position: relative;}#sk-container-id-4 div.sk-text-repr-fallback {display: none;}</style><div id=\"sk-container-id-4\" class=\"sk-top-container\"><div class=\"sk-text-repr-fallback\"><pre>GradientBoostingRegressor()</pre><b>In a Jupyter environment, please rerun this cell to show the HTML representation or trust the notebook. <br />On GitHub, the HTML representation is unable to render, please try loading this page with nbviewer.org.</b></div><div class=\"sk-container\" hidden><div class=\"sk-item\"><div class=\"sk-estimator sk-toggleable\"><input class=\"sk-toggleable__control sk-hidden--visually\" id=\"sk-estimator-id-4\" type=\"checkbox\" checked><label for=\"sk-estimator-id-4\" class=\"sk-toggleable__label sk-toggleable__label-arrow\">GradientBoostingRegressor</label><div class=\"sk-toggleable__content\"><pre>GradientBoostingRegressor()</pre></div></div></div></div></div>"
      ],
      "text/plain": [
       "GradientBoostingRegressor()"
      ]
     },
     "execution_count": 75,
     "metadata": {},
     "output_type": "execute_result"
    }
   ],
   "source": [
    "boosting_model.fit(X_train, y_train)"
   ]
  },
  {
   "cell_type": "markdown",
   "id": "fc385abf",
   "metadata": {},
   "source": [
    "* ### Performance on the Train Set:"
   ]
  },
  {
   "cell_type": "code",
   "execution_count": 76,
   "id": "4b63ce03",
   "metadata": {},
   "outputs": [
    {
     "name": "stdout",
     "output_type": "stream",
     "text": [
      "(Train Set) RMSE For a Gradient Boosting Regression: 10824.020970233818\n"
     ]
    }
   ],
   "source": [
    "y_pred_train = boosting_model.predict(X_train)\n",
    "RMSE = mean_squared_error(y_train, y_pred_train, squared=False)\n",
    "print(\"(Train Set) RMSE For a Gradient Boosting Regression:\", RMSE)"
   ]
  },
  {
   "cell_type": "markdown",
   "id": "a5053504",
   "metadata": {},
   "source": [
    "* ### Performance on the Test Set:"
   ]
  },
  {
   "cell_type": "code",
   "execution_count": 77,
   "id": "ccba296d",
   "metadata": {},
   "outputs": [
    {
     "name": "stdout",
     "output_type": "stream",
     "text": [
      "RMSE For a Gradient Boosting Regression: 10787.27395995356\n"
     ]
    }
   ],
   "source": [
    "y_pred_test = boosting_model.predict(X_test)\n",
    "RMSE = mean_squared_error(y_test, y_pred_test, squared=False)\n",
    "print(\"RMSE For a Gradient Boosting Regression:\", RMSE)"
   ]
  },
  {
   "cell_type": "markdown",
   "id": "19aa2ff4",
   "metadata": {},
   "source": [
    "## This performs worse than Random Forests, but better than other models."
   ]
  },
  {
   "cell_type": "code",
   "execution_count": null,
   "id": "233f4dd9",
   "metadata": {},
   "outputs": [],
   "source": []
  },
  {
   "cell_type": "markdown",
   "id": "4f6c6c86",
   "metadata": {},
   "source": [
    "# We will now visualize the feature importances for our Random Forest model to see if it aligns with our expectations."
   ]
  },
  {
   "cell_type": "markdown",
   "id": "a372b568",
   "metadata": {},
   "source": [
    "* ### I got the code for visualizing Random Forest Feature Importances from [here](https://stackoverflow.com/questions/44101458/random-forest-feature-importance-chart-using-python)"
   ]
  },
  {
   "cell_type": "code",
   "execution_count": 78,
   "id": "9608658e",
   "metadata": {},
   "outputs": [],
   "source": [
    "importances = forest_model.feature_importances_\n",
    "indices = np.argsort(importances)\n",
    "features = X.columns"
   ]
  },
  {
   "cell_type": "code",
   "execution_count": 79,
   "id": "2ab22aa9",
   "metadata": {},
   "outputs": [
    {
     "data": {
      "image/png": "[encoded data removed]",
      "text/plain": [
       "<Figure size 1400x1000 with 1 Axes>"
      ]
     },
     "metadata": {},
     "output_type": "display_data"
    }
   ],
   "source": [
    "plt.figure(figsize=(14, 10))\n",
    "plt.title('Feature Importances')\n",
    "plt.barh(range(len(indices)), importances[indices], color='b', align='center')\n",
    "plt.yticks(range(len(indices)), [features[i] for i in indices])\n",
    "plt.xlabel('Relative Importance')\n",
    "plt.show()"
   ]
  },
  {
   "cell_type": "markdown",
   "id": "551477c1",
   "metadata": {},
   "source": [
    "## As expected, the important features match our expectations. Production year and mileage are the top two most influential factors in predicting the price, followed by engine volume and airbags. It also appears that the color of the car is a significant factor in the price prediction"
   ]
  },
  {
   "cell_type": "markdown",
   "id": "43c32f31",
   "metadata": {},
   "source": [
    "## In conclusion: the Random Forest model performed very well and identified the important features that were logical and expected. We could potentially improve the model's performance even more by fine-tuning the hyperparameters."
   ]
  }
 ],
 "metadata": {
  "kernelspec": {
   "display_name": "Python 3 (ipykernel)",
   "language": "python",
   "name": "python3"
  },
  "language_info": {
   "codemirror_mode": {
    "name": "ipython",
    "version": 3
   },
   "file_extension": ".py",
   "mimetype": "text/x-python",
   "name": "python",
   "nbconvert_exporter": "python",
   "pygments_lexer": "ipython3",
   "version": "3.9.13"
  }
 },
 "nbformat": 4,
 "nbformat_minor": 5
}
